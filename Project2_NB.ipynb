{
  "nbformat": 4,
  "nbformat_minor": 0,
  "metadata": {
    "colab": {
      "provenance": []
    },
    "kernelspec": {
      "name": "python3",
      "display_name": "Python 3"
    },
    "language_info": {
      "name": "python"
    }
  },
  "cells": [
    {
      "cell_type": "markdown",
      "source": [
        "#Twitter Geolocation Prediction using Naïve Bayes"
      ],
      "metadata": {
        "id": "uMw1IFSliD6l"
      }
    },
    {
      "cell_type": "code",
      "source": [
        "import nltk\n",
        "nltk.download('stopwords')\n",
        "nltk.download('punkt')"
      ],
      "metadata": {
        "colab": {
          "base_uri": "https://localhost:8080/"
        },
        "id": "9p59qNhtMGbk",
        "outputId": "0dbeb992-c158-4522-b71b-5b6ce19f23e0"
      },
      "execution_count": 720,
      "outputs": [
        {
          "output_type": "stream",
          "name": "stderr",
          "text": [
            "[nltk_data] Downloading package stopwords to /root/nltk_data...\n",
            "[nltk_data]   Package stopwords is already up-to-date!\n",
            "[nltk_data] Downloading package punkt to /root/nltk_data...\n",
            "[nltk_data]   Package punkt is already up-to-date!\n"
          ]
        },
        {
          "output_type": "execute_result",
          "data": {
            "text/plain": [
              "True"
            ]
          },
          "metadata": {},
          "execution_count": 720
        }
      ]
    },
    {
      "cell_type": "code",
      "execution_count": 721,
      "metadata": {
        "id": "fTOfHfiXMHuy"
      },
      "outputs": [],
      "source": [
        "import pandas as pd\n",
        "from sklearn.naive_bayes import MultinomialNB\n",
        "import csv\n",
        "import os\n",
        "import pandas as pd\n",
        "import numpy as np \n",
        "import datetime\n",
        "import seaborn as sns\n",
        "import matplotlib.pyplot as plt\n",
        "import re\n",
        "from nltk.corpus import stopwords\n",
        "from nltk.tokenize import word_tokenize\n",
        "from collections import Counter\n",
        "from sklearn.feature_extraction.text import CountVectorizer\n",
        "from sklearn.model_selection import train_test_split\n",
        "from sklearn.naive_bayes import MultinomialNB\n",
        "from sklearn.preprocessing import LabelEncoder\n",
        "from sklearn.datasets import make_classification\n",
        "from sklearn.metrics import classification_report, confusion_matrix, accuracy_score, ConfusionMatrixDisplay\n",
        "from sklearn.metrics import mean_absolute_error, median_absolute_error"
      ]
    },
    {
      "cell_type": "markdown",
      "source": [
        "## Reading the Dataset"
      ],
      "metadata": {
        "id": "_xb4QtCHiyAy"
      }
    },
    {
      "cell_type": "code",
      "source": [
        "#read the path\n",
        "file_path = \"data.csv\"\n",
        "\n",
        "df = pd.read_csv(file_path)"
      ],
      "metadata": {
        "id": "rVomaWPNkepB"
      },
      "execution_count": 722,
      "outputs": []
    },
    {
      "cell_type": "code",
      "source": [
        "df.head()"
      ],
      "metadata": {
        "colab": {
          "base_uri": "https://localhost:8080/",
          "height": 337
        },
        "id": "xf_eY6knlhWw",
        "outputId": "e0bd83e2-9903-4235-a5b3-909beed6c625"
      },
      "execution_count": 723,
      "outputs": [
        {
          "output_type": "execute_result",
          "data": {
            "text/plain": [
              "        user_id                created_at      tweet_id  \\\n",
              "0  1.294095e+18  2022-11-22T22:13:48.000Z  1.595179e+18   \n",
              "1  1.294095e+18  2022-11-22T20:33:39.000Z  1.595154e+18   \n",
              "2  1.294095e+18  2022-11-22T19:14:08.000Z  1.595134e+18   \n",
              "3  1.294095e+18  2022-11-22T16:56:17.000Z  1.595099e+18   \n",
              "4  1.294095e+18  2022-11-22T15:05:37.000Z  1.595071e+18   \n",
              "\n",
              "                                                text country  \n",
              "0  RT @JonnyCaplan: Creative Entrepreneur of the ...     USA  \n",
              "1  RT @JoseMarky_200: @shirtsthtgohard Available ...     USA  \n",
              "2  RT @moyo_world: We're moving our manufacturing...     USA  \n",
              "3  RT @winwinbank: 🏆Dünya Kupasında Da Güvenin Ad...     USA  \n",
              "4  RT @UtilityNet_: The Rules for the First Test ...     USA  "
            ],
            "text/html": [
              "\n",
              "  <div id=\"df-59f0ee8f-72fc-4db7-acbe-2e98236913e5\">\n",
              "    <div class=\"colab-df-container\">\n",
              "      <div>\n",
              "<style scoped>\n",
              "    .dataframe tbody tr th:only-of-type {\n",
              "        vertical-align: middle;\n",
              "    }\n",
              "\n",
              "    .dataframe tbody tr th {\n",
              "        vertical-align: top;\n",
              "    }\n",
              "\n",
              "    .dataframe thead th {\n",
              "        text-align: right;\n",
              "    }\n",
              "</style>\n",
              "<table border=\"1\" class=\"dataframe\">\n",
              "  <thead>\n",
              "    <tr style=\"text-align: right;\">\n",
              "      <th></th>\n",
              "      <th>user_id</th>\n",
              "      <th>created_at</th>\n",
              "      <th>tweet_id</th>\n",
              "      <th>text</th>\n",
              "      <th>country</th>\n",
              "    </tr>\n",
              "  </thead>\n",
              "  <tbody>\n",
              "    <tr>\n",
              "      <th>0</th>\n",
              "      <td>1.294095e+18</td>\n",
              "      <td>2022-11-22T22:13:48.000Z</td>\n",
              "      <td>1.595179e+18</td>\n",
              "      <td>RT @JonnyCaplan: Creative Entrepreneur of the ...</td>\n",
              "      <td>USA</td>\n",
              "    </tr>\n",
              "    <tr>\n",
              "      <th>1</th>\n",
              "      <td>1.294095e+18</td>\n",
              "      <td>2022-11-22T20:33:39.000Z</td>\n",
              "      <td>1.595154e+18</td>\n",
              "      <td>RT @JoseMarky_200: @shirtsthtgohard Available ...</td>\n",
              "      <td>USA</td>\n",
              "    </tr>\n",
              "    <tr>\n",
              "      <th>2</th>\n",
              "      <td>1.294095e+18</td>\n",
              "      <td>2022-11-22T19:14:08.000Z</td>\n",
              "      <td>1.595134e+18</td>\n",
              "      <td>RT @moyo_world: We're moving our manufacturing...</td>\n",
              "      <td>USA</td>\n",
              "    </tr>\n",
              "    <tr>\n",
              "      <th>3</th>\n",
              "      <td>1.294095e+18</td>\n",
              "      <td>2022-11-22T16:56:17.000Z</td>\n",
              "      <td>1.595099e+18</td>\n",
              "      <td>RT @winwinbank: 🏆Dünya Kupasında Da Güvenin Ad...</td>\n",
              "      <td>USA</td>\n",
              "    </tr>\n",
              "    <tr>\n",
              "      <th>4</th>\n",
              "      <td>1.294095e+18</td>\n",
              "      <td>2022-11-22T15:05:37.000Z</td>\n",
              "      <td>1.595071e+18</td>\n",
              "      <td>RT @UtilityNet_: The Rules for the First Test ...</td>\n",
              "      <td>USA</td>\n",
              "    </tr>\n",
              "  </tbody>\n",
              "</table>\n",
              "</div>\n",
              "      <button class=\"colab-df-convert\" onclick=\"convertToInteractive('df-59f0ee8f-72fc-4db7-acbe-2e98236913e5')\"\n",
              "              title=\"Convert this dataframe to an interactive table.\"\n",
              "              style=\"display:none;\">\n",
              "        \n",
              "  <svg xmlns=\"http://www.w3.org/2000/svg\" height=\"24px\"viewBox=\"0 0 24 24\"\n",
              "       width=\"24px\">\n",
              "    <path d=\"M0 0h24v24H0V0z\" fill=\"none\"/>\n",
              "    <path d=\"M18.56 5.44l.94 2.06.94-2.06 2.06-.94-2.06-.94-.94-2.06-.94 2.06-2.06.94zm-11 1L8.5 8.5l.94-2.06 2.06-.94-2.06-.94L8.5 2.5l-.94 2.06-2.06.94zm10 10l.94 2.06.94-2.06 2.06-.94-2.06-.94-.94-2.06-.94 2.06-2.06.94z\"/><path d=\"M17.41 7.96l-1.37-1.37c-.4-.4-.92-.59-1.43-.59-.52 0-1.04.2-1.43.59L10.3 9.45l-7.72 7.72c-.78.78-.78 2.05 0 2.83L4 21.41c.39.39.9.59 1.41.59.51 0 1.02-.2 1.41-.59l7.78-7.78 2.81-2.81c.8-.78.8-2.07 0-2.86zM5.41 20L4 18.59l7.72-7.72 1.47 1.35L5.41 20z\"/>\n",
              "  </svg>\n",
              "      </button>\n",
              "      \n",
              "  <style>\n",
              "    .colab-df-container {\n",
              "      display:flex;\n",
              "      flex-wrap:wrap;\n",
              "      gap: 12px;\n",
              "    }\n",
              "\n",
              "    .colab-df-convert {\n",
              "      background-color: #E8F0FE;\n",
              "      border: none;\n",
              "      border-radius: 50%;\n",
              "      cursor: pointer;\n",
              "      display: none;\n",
              "      fill: #1967D2;\n",
              "      height: 32px;\n",
              "      padding: 0 0 0 0;\n",
              "      width: 32px;\n",
              "    }\n",
              "\n",
              "    .colab-df-convert:hover {\n",
              "      background-color: #E2EBFA;\n",
              "      box-shadow: 0px 1px 2px rgba(60, 64, 67, 0.3), 0px 1px 3px 1px rgba(60, 64, 67, 0.15);\n",
              "      fill: #174EA6;\n",
              "    }\n",
              "\n",
              "    [theme=dark] .colab-df-convert {\n",
              "      background-color: #3B4455;\n",
              "      fill: #D2E3FC;\n",
              "    }\n",
              "\n",
              "    [theme=dark] .colab-df-convert:hover {\n",
              "      background-color: #434B5C;\n",
              "      box-shadow: 0px 1px 3px 1px rgba(0, 0, 0, 0.15);\n",
              "      filter: drop-shadow(0px 1px 2px rgba(0, 0, 0, 0.3));\n",
              "      fill: #FFFFFF;\n",
              "    }\n",
              "  </style>\n",
              "\n",
              "      <script>\n",
              "        const buttonEl =\n",
              "          document.querySelector('#df-59f0ee8f-72fc-4db7-acbe-2e98236913e5 button.colab-df-convert');\n",
              "        buttonEl.style.display =\n",
              "          google.colab.kernel.accessAllowed ? 'block' : 'none';\n",
              "\n",
              "        async function convertToInteractive(key) {\n",
              "          const element = document.querySelector('#df-59f0ee8f-72fc-4db7-acbe-2e98236913e5');\n",
              "          const dataTable =\n",
              "            await google.colab.kernel.invokeFunction('convertToInteractive',\n",
              "                                                     [key], {});\n",
              "          if (!dataTable) return;\n",
              "\n",
              "          const docLinkHtml = 'Like what you see? Visit the ' +\n",
              "            '<a target=\"_blank\" href=https://colab.research.google.com/notebooks/data_table.ipynb>data table notebook</a>'\n",
              "            + ' to learn more about interactive tables.';\n",
              "          element.innerHTML = '';\n",
              "          dataTable['output_type'] = 'display_data';\n",
              "          await google.colab.output.renderOutput(dataTable, element);\n",
              "          const docLink = document.createElement('div');\n",
              "          docLink.innerHTML = docLinkHtml;\n",
              "          element.appendChild(docLink);\n",
              "        }\n",
              "      </script>\n",
              "    </div>\n",
              "  </div>\n",
              "  "
            ]
          },
          "metadata": {},
          "execution_count": 723
        }
      ]
    },
    {
      "cell_type": "code",
      "source": [
        "df.info()"
      ],
      "metadata": {
        "colab": {
          "base_uri": "https://localhost:8080/"
        },
        "id": "sNZTC2Fil2zA",
        "outputId": "a891edd6-5d64-418f-e625-c7bc228c8a4e"
      },
      "execution_count": 724,
      "outputs": [
        {
          "output_type": "stream",
          "name": "stdout",
          "text": [
            "<class 'pandas.core.frame.DataFrame'>\n",
            "RangeIndex: 127333 entries, 0 to 127332\n",
            "Data columns (total 5 columns):\n",
            " #   Column      Non-Null Count   Dtype  \n",
            "---  ------      --------------   -----  \n",
            " 0   user_id     127333 non-null  float64\n",
            " 1   created_at  127333 non-null  object \n",
            " 2   tweet_id    127333 non-null  float64\n",
            " 3   text        127333 non-null  object \n",
            " 4   country     127333 non-null  object \n",
            "dtypes: float64(2), object(3)\n",
            "memory usage: 4.9+ MB\n"
          ]
        }
      ]
    },
    {
      "cell_type": "markdown",
      "source": [
        "Converting created_at from type object to pandas datetime format."
      ],
      "metadata": {
        "id": "j8g9QPljmPjB"
      }
    },
    {
      "cell_type": "code",
      "source": [
        "df['created_at'] = pd.to_datetime(df['created_at'])\n",
        "df.info()"
      ],
      "metadata": {
        "colab": {
          "base_uri": "https://localhost:8080/"
        },
        "id": "nU9r1xtvmAvJ",
        "outputId": "dd1d8aca-8143-43d6-8e1a-cfccb6515ff0"
      },
      "execution_count": 725,
      "outputs": [
        {
          "output_type": "stream",
          "name": "stdout",
          "text": [
            "<class 'pandas.core.frame.DataFrame'>\n",
            "RangeIndex: 127333 entries, 0 to 127332\n",
            "Data columns (total 5 columns):\n",
            " #   Column      Non-Null Count   Dtype              \n",
            "---  ------      --------------   -----              \n",
            " 0   user_id     127333 non-null  float64            \n",
            " 1   created_at  127333 non-null  datetime64[ns, UTC]\n",
            " 2   tweet_id    127333 non-null  float64            \n",
            " 3   text        127333 non-null  object             \n",
            " 4   country     127333 non-null  object             \n",
            "dtypes: datetime64[ns, UTC](1), float64(2), object(2)\n",
            "memory usage: 4.9+ MB\n"
          ]
        }
      ]
    },
    {
      "cell_type": "markdown",
      "source": [
        "Visualising Tweets Count Per Country"
      ],
      "metadata": {
        "id": "qcFTBnqaoArb"
      }
    },
    {
      "cell_type": "code",
      "source": [
        "tweets_per_country = df['country'].value_counts().loc[lambda x : x > 100].reset_index(name='counts')"
      ],
      "metadata": {
        "id": "wXfTi9bxqAYk"
      },
      "execution_count": 726,
      "outputs": []
    },
    {
      "cell_type": "code",
      "source": [
        "plt.figure(figsize=(15,6))\n",
        "ax = sns.barplot(x='index', y='counts', data=tweets_per_country,edgecolor = 'black',ci=False, palette='Spectral')\n",
        "plt.title('Tweets Count by Country')\n",
        "plt.xticks(rotation=70)\n",
        "plt.yticks()\n",
        "plt.ylabel('Count')\n",
        "plt.xlabel('')\n",
        "plt.show()"
      ],
      "metadata": {
        "colab": {
          "base_uri": "https://localhost:8080/",
          "height": 388
        },
        "id": "-RDawm7dqFuo",
        "outputId": "3f6f16fa-d802-488f-d9db-d7da5dab4df9"
      },
      "execution_count": 727,
      "outputs": [
        {
          "output_type": "display_data",
          "data": {
            "text/plain": [
              "<Figure size 1080x432 with 1 Axes>"
            ],
            "image/png": "[encoded data removed]"
          },
          "metadata": {
            "needs_background": "light"
          }
        }
      ]
    },
    {
      "cell_type": "markdown",
      "source": [
        "We can see that USA significantly dominates all the other countries by Tweet counts."
      ],
      "metadata": {
        "id": "SEiHhigGvFLB"
      }
    },
    {
      "cell_type": "markdown",
      "source": [
        "## Preprocessing the Dataset"
      ],
      "metadata": {
        "id": "T9A-3YR9mqLO"
      }
    },
    {
      "cell_type": "markdown",
      "source": [
        "Due to an on-going World-Cup Event, I will not use **City/Country Names (CC)** as suggested in the paper. This is due to an overuse of many Country names to describe certain games.\n",
        "\n",
        "**Location IndicativeWords (LIW)** won't be used either due to the lack of clarification."
      ],
      "metadata": {
        "id": "iXwzry08wpn2"
      }
    },
    {
      "cell_type": "markdown",
      "source": [
        "###Creating #Hashtags (HASH) DataFrame"
      ],
      "metadata": {
        "id": "efaeKAvwnatC"
      }
    },
    {
      "cell_type": "code",
      "source": [
        "dfHASH = df.copy()"
      ],
      "metadata": {
        "id": "QBkHMa8Z00QQ"
      },
      "execution_count": 728,
      "outputs": []
    },
    {
      "cell_type": "code",
      "source": [
        "pattern = r'#\\S+'\n",
        "\n",
        "search = []    \n",
        "for values in dfHASH['text']:\n",
        "  hash = re.findall(pattern, values)\n",
        "  search.append(hash)\n",
        "\n",
        "dfHASH['hashtag'] = search"
      ],
      "metadata": {
        "id": "zFO0SYCfncXa"
      },
      "execution_count": 729,
      "outputs": []
    },
    {
      "cell_type": "code",
      "source": [
        "dfHASH.head()"
      ],
      "metadata": {
        "colab": {
          "base_uri": "https://localhost:8080/",
          "height": 424
        },
        "id": "_TR2MsJpkVjs",
        "outputId": "ff2e4a8f-ff75-46ea-98b6-60a78695025d"
      },
      "execution_count": 730,
      "outputs": [
        {
          "output_type": "execute_result",
          "data": {
            "text/plain": [
              "        user_id                created_at      tweet_id  \\\n",
              "0  1.294095e+18 2022-11-22 22:13:48+00:00  1.595179e+18   \n",
              "1  1.294095e+18 2022-11-22 20:33:39+00:00  1.595154e+18   \n",
              "2  1.294095e+18 2022-11-22 19:14:08+00:00  1.595134e+18   \n",
              "3  1.294095e+18 2022-11-22 16:56:17+00:00  1.595099e+18   \n",
              "4  1.294095e+18 2022-11-22 15:05:37+00:00  1.595071e+18   \n",
              "\n",
              "                                                text country  \\\n",
              "0  RT @JonnyCaplan: Creative Entrepreneur of the ...     USA   \n",
              "1  RT @JoseMarky_200: @shirtsthtgohard Available ...     USA   \n",
              "2  RT @moyo_world: We're moving our manufacturing...     USA   \n",
              "3  RT @winwinbank: 🏆Dünya Kupasında Da Güvenin Ad...     USA   \n",
              "4  RT @UtilityNet_: The Rules for the First Test ...     USA   \n",
              "\n",
              "                                             hashtag  \n",
              "0                                                 []  \n",
              "1                                                 []  \n",
              "2                                 [#Shenzhen, #ele…]  \n",
              "3                             [#Marsbahis, #MarsBet]  \n",
              "4  [#utility, #utilitynet, #BigData, #Analytics, ...  "
            ],
            "text/html": [
              "\n",
              "  <div id=\"df-44b6e7ab-8b72-4b5d-b80f-923868c23c91\">\n",
              "    <div class=\"colab-df-container\">\n",
              "      <div>\n",
              "<style scoped>\n",
              "    .dataframe tbody tr th:only-of-type {\n",
              "        vertical-align: middle;\n",
              "    }\n",
              "\n",
              "    .dataframe tbody tr th {\n",
              "        vertical-align: top;\n",
              "    }\n",
              "\n",
              "    .dataframe thead th {\n",
              "        text-align: right;\n",
              "    }\n",
              "</style>\n",
              "<table border=\"1\" class=\"dataframe\">\n",
              "  <thead>\n",
              "    <tr style=\"text-align: right;\">\n",
              "      <th></th>\n",
              "      <th>user_id</th>\n",
              "      <th>created_at</th>\n",
              "      <th>tweet_id</th>\n",
              "      <th>text</th>\n",
              "      <th>country</th>\n",
              "      <th>hashtag</th>\n",
              "    </tr>\n",
              "  </thead>\n",
              "  <tbody>\n",
              "    <tr>\n",
              "      <th>0</th>\n",
              "      <td>1.294095e+18</td>\n",
              "      <td>2022-11-22 22:13:48+00:00</td>\n",
              "      <td>1.595179e+18</td>\n",
              "      <td>RT @JonnyCaplan: Creative Entrepreneur of the ...</td>\n",
              "      <td>USA</td>\n",
              "      <td>[]</td>\n",
              "    </tr>\n",
              "    <tr>\n",
              "      <th>1</th>\n",
              "      <td>1.294095e+18</td>\n",
              "      <td>2022-11-22 20:33:39+00:00</td>\n",
              "      <td>1.595154e+18</td>\n",
              "      <td>RT @JoseMarky_200: @shirtsthtgohard Available ...</td>\n",
              "      <td>USA</td>\n",
              "      <td>[]</td>\n",
              "    </tr>\n",
              "    <tr>\n",
              "      <th>2</th>\n",
              "      <td>1.294095e+18</td>\n",
              "      <td>2022-11-22 19:14:08+00:00</td>\n",
              "      <td>1.595134e+18</td>\n",
              "      <td>RT @moyo_world: We're moving our manufacturing...</td>\n",
              "      <td>USA</td>\n",
              "      <td>[#Shenzhen, #ele…]</td>\n",
              "    </tr>\n",
              "    <tr>\n",
              "      <th>3</th>\n",
              "      <td>1.294095e+18</td>\n",
              "      <td>2022-11-22 16:56:17+00:00</td>\n",
              "      <td>1.595099e+18</td>\n",
              "      <td>RT @winwinbank: 🏆Dünya Kupasında Da Güvenin Ad...</td>\n",
              "      <td>USA</td>\n",
              "      <td>[#Marsbahis, #MarsBet]</td>\n",
              "    </tr>\n",
              "    <tr>\n",
              "      <th>4</th>\n",
              "      <td>1.294095e+18</td>\n",
              "      <td>2022-11-22 15:05:37+00:00</td>\n",
              "      <td>1.595071e+18</td>\n",
              "      <td>RT @UtilityNet_: The Rules for the First Test ...</td>\n",
              "      <td>USA</td>\n",
              "      <td>[#utility, #utilitynet, #BigData, #Analytics, ...</td>\n",
              "    </tr>\n",
              "  </tbody>\n",
              "</table>\n",
              "</div>\n",
              "      <button class=\"colab-df-convert\" onclick=\"convertToInteractive('df-44b6e7ab-8b72-4b5d-b80f-923868c23c91')\"\n",
              "              title=\"Convert this dataframe to an interactive table.\"\n",
              "              style=\"display:none;\">\n",
              "        \n",
              "  <svg xmlns=\"http://www.w3.org/2000/svg\" height=\"24px\"viewBox=\"0 0 24 24\"\n",
              "       width=\"24px\">\n",
              "    <path d=\"M0 0h24v24H0V0z\" fill=\"none\"/>\n",
              "    <path d=\"M18.56 5.44l.94 2.06.94-2.06 2.06-.94-2.06-.94-.94-2.06-.94 2.06-2.06.94zm-11 1L8.5 8.5l.94-2.06 2.06-.94-2.06-.94L8.5 2.5l-.94 2.06-2.06.94zm10 10l.94 2.06.94-2.06 2.06-.94-2.06-.94-.94-2.06-.94 2.06-2.06.94z\"/><path d=\"M17.41 7.96l-1.37-1.37c-.4-.4-.92-.59-1.43-.59-.52 0-1.04.2-1.43.59L10.3 9.45l-7.72 7.72c-.78.78-.78 2.05 0 2.83L4 21.41c.39.39.9.59 1.41.59.51 0 1.02-.2 1.41-.59l7.78-7.78 2.81-2.81c.8-.78.8-2.07 0-2.86zM5.41 20L4 18.59l7.72-7.72 1.47 1.35L5.41 20z\"/>\n",
              "  </svg>\n",
              "      </button>\n",
              "      \n",
              "  <style>\n",
              "    .colab-df-container {\n",
              "      display:flex;\n",
              "      flex-wrap:wrap;\n",
              "      gap: 12px;\n",
              "    }\n",
              "\n",
              "    .colab-df-convert {\n",
              "      background-color: #E8F0FE;\n",
              "      border: none;\n",
              "      border-radius: 50%;\n",
              "      cursor: pointer;\n",
              "      display: none;\n",
              "      fill: #1967D2;\n",
              "      height: 32px;\n",
              "      padding: 0 0 0 0;\n",
              "      width: 32px;\n",
              "    }\n",
              "\n",
              "    .colab-df-convert:hover {\n",
              "      background-color: #E2EBFA;\n",
              "      box-shadow: 0px 1px 2px rgba(60, 64, 67, 0.3), 0px 1px 3px 1px rgba(60, 64, 67, 0.15);\n",
              "      fill: #174EA6;\n",
              "    }\n",
              "\n",
              "    [theme=dark] .colab-df-convert {\n",
              "      background-color: #3B4455;\n",
              "      fill: #D2E3FC;\n",
              "    }\n",
              "\n",
              "    [theme=dark] .colab-df-convert:hover {\n",
              "      background-color: #434B5C;\n",
              "      box-shadow: 0px 1px 3px 1px rgba(0, 0, 0, 0.15);\n",
              "      filter: drop-shadow(0px 1px 2px rgba(0, 0, 0, 0.3));\n",
              "      fill: #FFFFFF;\n",
              "    }\n",
              "  </style>\n",
              "\n",
              "      <script>\n",
              "        const buttonEl =\n",
              "          document.querySelector('#df-44b6e7ab-8b72-4b5d-b80f-923868c23c91 button.colab-df-convert');\n",
              "        buttonEl.style.display =\n",
              "          google.colab.kernel.accessAllowed ? 'block' : 'none';\n",
              "\n",
              "        async function convertToInteractive(key) {\n",
              "          const element = document.querySelector('#df-44b6e7ab-8b72-4b5d-b80f-923868c23c91');\n",
              "          const dataTable =\n",
              "            await google.colab.kernel.invokeFunction('convertToInteractive',\n",
              "                                                     [key], {});\n",
              "          if (!dataTable) return;\n",
              "\n",
              "          const docLinkHtml = 'Like what you see? Visit the ' +\n",
              "            '<a target=\"_blank\" href=https://colab.research.google.com/notebooks/data_table.ipynb>data table notebook</a>'\n",
              "            + ' to learn more about interactive tables.';\n",
              "          element.innerHTML = '';\n",
              "          dataTable['output_type'] = 'display_data';\n",
              "          await google.colab.output.renderOutput(dataTable, element);\n",
              "          const docLink = document.createElement('div');\n",
              "          docLink.innerHTML = docLinkHtml;\n",
              "          element.appendChild(docLink);\n",
              "        }\n",
              "      </script>\n",
              "    </div>\n",
              "  </div>\n",
              "  "
            ]
          },
          "metadata": {},
          "execution_count": 730
        }
      ]
    },
    {
      "cell_type": "code",
      "source": [
        "dfHASH.info()"
      ],
      "metadata": {
        "colab": {
          "base_uri": "https://localhost:8080/"
        },
        "id": "VPcy6UWA2faF",
        "outputId": "e32f627d-8f77-4526-a2f9-37c416d9c3a9"
      },
      "execution_count": 731,
      "outputs": [
        {
          "output_type": "stream",
          "name": "stdout",
          "text": [
            "<class 'pandas.core.frame.DataFrame'>\n",
            "RangeIndex: 127333 entries, 0 to 127332\n",
            "Data columns (total 6 columns):\n",
            " #   Column      Non-Null Count   Dtype              \n",
            "---  ------      --------------   -----              \n",
            " 0   user_id     127333 non-null  float64            \n",
            " 1   created_at  127333 non-null  datetime64[ns, UTC]\n",
            " 2   tweet_id    127333 non-null  float64            \n",
            " 3   text        127333 non-null  object             \n",
            " 4   country     127333 non-null  object             \n",
            " 5   hashtag     127333 non-null  object             \n",
            "dtypes: datetime64[ns, UTC](1), float64(2), object(3)\n",
            "memory usage: 5.8+ MB\n"
          ]
        }
      ]
    },
    {
      "cell_type": "code",
      "source": [
        "print(\"Number of Rows: \" + str(len(dfHASH.index)))"
      ],
      "metadata": {
        "colab": {
          "base_uri": "https://localhost:8080/"
        },
        "id": "K_pihEcY0NL5",
        "outputId": "c22e7c08-231a-48a8-ae1c-16cf44d112b3"
      },
      "execution_count": 732,
      "outputs": [
        {
          "output_type": "stream",
          "name": "stdout",
          "text": [
            "Number of Rows: 127333\n"
          ]
        }
      ]
    },
    {
      "cell_type": "code",
      "source": [
        "dfHASH = dfHASH.drop(columns=['user_id', 'created_at', 'tweet_id', 'text'])"
      ],
      "metadata": {
        "id": "oDu8JhVO2KVy"
      },
      "execution_count": 733,
      "outputs": []
    },
    {
      "cell_type": "code",
      "source": [
        "dfHASH.info()"
      ],
      "metadata": {
        "colab": {
          "base_uri": "https://localhost:8080/"
        },
        "id": "BAegOoTK3GKI",
        "outputId": "a020bcb1-a841-4392-e08b-a7ee044fa99d"
      },
      "execution_count": 734,
      "outputs": [
        {
          "output_type": "stream",
          "name": "stdout",
          "text": [
            "<class 'pandas.core.frame.DataFrame'>\n",
            "RangeIndex: 127333 entries, 0 to 127332\n",
            "Data columns (total 2 columns):\n",
            " #   Column   Non-Null Count   Dtype \n",
            "---  ------   --------------   ----- \n",
            " 0   country  127333 non-null  object\n",
            " 1   hashtag  127333 non-null  object\n",
            "dtypes: object(2)\n",
            "memory usage: 1.9+ MB\n"
          ]
        }
      ]
    },
    {
      "cell_type": "code",
      "source": [
        "dfHASH = dfHASH[dfHASH['hashtag'].map(lambda x: len(x)) > 0]"
      ],
      "metadata": {
        "id": "BA2jEPhU3aE-"
      },
      "execution_count": 735,
      "outputs": []
    },
    {
      "cell_type": "code",
      "source": [
        "print(\"Number of Rows: \" + str(len(dfHASH.index)))"
      ],
      "metadata": {
        "colab": {
          "base_uri": "https://localhost:8080/"
        },
        "id": "Iy66WDPf3k1f",
        "outputId": "3cea8988-dddc-42f5-bdff-6d73945d1745"
      },
      "execution_count": 736,
      "outputs": [
        {
          "output_type": "stream",
          "name": "stdout",
          "text": [
            "Number of Rows: 20129\n"
          ]
        }
      ]
    },
    {
      "cell_type": "code",
      "source": [
        "dfHASH.head()"
      ],
      "metadata": {
        "colab": {
          "base_uri": "https://localhost:8080/",
          "height": 206
        },
        "id": "PA_gfqrKlzfn",
        "outputId": "d1527d77-1fa9-412d-a52d-468e0d7dc38e"
      },
      "execution_count": 737,
      "outputs": [
        {
          "output_type": "execute_result",
          "data": {
            "text/plain": [
              "  country                                            hashtag\n",
              "2     USA                                 [#Shenzhen, #ele…]\n",
              "3     USA                             [#Marsbahis, #MarsBet]\n",
              "4     USA  [#utility, #utilitynet, #BigData, #Analytics, ...\n",
              "6     USA              [#塔卡尔世界杯, #世界杯冠军预测, #足球, #开云, #真人百家乐]\n",
              "7     USA              [#塔卡尔世界杯, #世界杯冠军预测, #足球, #开云, #真人百家乐]"
            ],
            "text/html": [
              "\n",
              "  <div id=\"df-50e8ffc6-378c-44ec-9b20-1b47975f117e\">\n",
              "    <div class=\"colab-df-container\">\n",
              "      <div>\n",
              "<style scoped>\n",
              "    .dataframe tbody tr th:only-of-type {\n",
              "        vertical-align: middle;\n",
              "    }\n",
              "\n",
              "    .dataframe tbody tr th {\n",
              "        vertical-align: top;\n",
              "    }\n",
              "\n",
              "    .dataframe thead th {\n",
              "        text-align: right;\n",
              "    }\n",
              "</style>\n",
              "<table border=\"1\" class=\"dataframe\">\n",
              "  <thead>\n",
              "    <tr style=\"text-align: right;\">\n",
              "      <th></th>\n",
              "      <th>country</th>\n",
              "      <th>hashtag</th>\n",
              "    </tr>\n",
              "  </thead>\n",
              "  <tbody>\n",
              "    <tr>\n",
              "      <th>2</th>\n",
              "      <td>USA</td>\n",
              "      <td>[#Shenzhen, #ele…]</td>\n",
              "    </tr>\n",
              "    <tr>\n",
              "      <th>3</th>\n",
              "      <td>USA</td>\n",
              "      <td>[#Marsbahis, #MarsBet]</td>\n",
              "    </tr>\n",
              "    <tr>\n",
              "      <th>4</th>\n",
              "      <td>USA</td>\n",
              "      <td>[#utility, #utilitynet, #BigData, #Analytics, ...</td>\n",
              "    </tr>\n",
              "    <tr>\n",
              "      <th>6</th>\n",
              "      <td>USA</td>\n",
              "      <td>[#塔卡尔世界杯, #世界杯冠军预测, #足球, #开云, #真人百家乐]</td>\n",
              "    </tr>\n",
              "    <tr>\n",
              "      <th>7</th>\n",
              "      <td>USA</td>\n",
              "      <td>[#塔卡尔世界杯, #世界杯冠军预测, #足球, #开云, #真人百家乐]</td>\n",
              "    </tr>\n",
              "  </tbody>\n",
              "</table>\n",
              "</div>\n",
              "      <button class=\"colab-df-convert\" onclick=\"convertToInteractive('df-50e8ffc6-378c-44ec-9b20-1b47975f117e')\"\n",
              "              title=\"Convert this dataframe to an interactive table.\"\n",
              "              style=\"display:none;\">\n",
              "        \n",
              "  <svg xmlns=\"http://www.w3.org/2000/svg\" height=\"24px\"viewBox=\"0 0 24 24\"\n",
              "       width=\"24px\">\n",
              "    <path d=\"M0 0h24v24H0V0z\" fill=\"none\"/>\n",
              "    <path d=\"M18.56 5.44l.94 2.06.94-2.06 2.06-.94-2.06-.94-.94-2.06-.94 2.06-2.06.94zm-11 1L8.5 8.5l.94-2.06 2.06-.94-2.06-.94L8.5 2.5l-.94 2.06-2.06.94zm10 10l.94 2.06.94-2.06 2.06-.94-2.06-.94-.94-2.06-.94 2.06-2.06.94z\"/><path d=\"M17.41 7.96l-1.37-1.37c-.4-.4-.92-.59-1.43-.59-.52 0-1.04.2-1.43.59L10.3 9.45l-7.72 7.72c-.78.78-.78 2.05 0 2.83L4 21.41c.39.39.9.59 1.41.59.51 0 1.02-.2 1.41-.59l7.78-7.78 2.81-2.81c.8-.78.8-2.07 0-2.86zM5.41 20L4 18.59l7.72-7.72 1.47 1.35L5.41 20z\"/>\n",
              "  </svg>\n",
              "      </button>\n",
              "      \n",
              "  <style>\n",
              "    .colab-df-container {\n",
              "      display:flex;\n",
              "      flex-wrap:wrap;\n",
              "      gap: 12px;\n",
              "    }\n",
              "\n",
              "    .colab-df-convert {\n",
              "      background-color: #E8F0FE;\n",
              "      border: none;\n",
              "      border-radius: 50%;\n",
              "      cursor: pointer;\n",
              "      display: none;\n",
              "      fill: #1967D2;\n",
              "      height: 32px;\n",
              "      padding: 0 0 0 0;\n",
              "      width: 32px;\n",
              "    }\n",
              "\n",
              "    .colab-df-convert:hover {\n",
              "      background-color: #E2EBFA;\n",
              "      box-shadow: 0px 1px 2px rgba(60, 64, 67, 0.3), 0px 1px 3px 1px rgba(60, 64, 67, 0.15);\n",
              "      fill: #174EA6;\n",
              "    }\n",
              "\n",
              "    [theme=dark] .colab-df-convert {\n",
              "      background-color: #3B4455;\n",
              "      fill: #D2E3FC;\n",
              "    }\n",
              "\n",
              "    [theme=dark] .colab-df-convert:hover {\n",
              "      background-color: #434B5C;\n",
              "      box-shadow: 0px 1px 3px 1px rgba(0, 0, 0, 0.15);\n",
              "      filter: drop-shadow(0px 1px 2px rgba(0, 0, 0, 0.3));\n",
              "      fill: #FFFFFF;\n",
              "    }\n",
              "  </style>\n",
              "\n",
              "      <script>\n",
              "        const buttonEl =\n",
              "          document.querySelector('#df-50e8ffc6-378c-44ec-9b20-1b47975f117e button.colab-df-convert');\n",
              "        buttonEl.style.display =\n",
              "          google.colab.kernel.accessAllowed ? 'block' : 'none';\n",
              "\n",
              "        async function convertToInteractive(key) {\n",
              "          const element = document.querySelector('#df-50e8ffc6-378c-44ec-9b20-1b47975f117e');\n",
              "          const dataTable =\n",
              "            await google.colab.kernel.invokeFunction('convertToInteractive',\n",
              "                                                     [key], {});\n",
              "          if (!dataTable) return;\n",
              "\n",
              "          const docLinkHtml = 'Like what you see? Visit the ' +\n",
              "            '<a target=\"_blank\" href=https://colab.research.google.com/notebooks/data_table.ipynb>data table notebook</a>'\n",
              "            + ' to learn more about interactive tables.';\n",
              "          element.innerHTML = '';\n",
              "          dataTable['output_type'] = 'display_data';\n",
              "          await google.colab.output.renderOutput(dataTable, element);\n",
              "          const docLink = document.createElement('div');\n",
              "          docLink.innerHTML = docLinkHtml;\n",
              "          element.appendChild(docLink);\n",
              "        }\n",
              "      </script>\n",
              "    </div>\n",
              "  </div>\n",
              "  "
            ]
          },
          "metadata": {},
          "execution_count": 737
        }
      ]
    },
    {
      "cell_type": "code",
      "source": [
        "dfHASH = dfHASH.explode('hashtag')"
      ],
      "metadata": {
        "id": "G4NnHLkkGzaF"
      },
      "execution_count": 738,
      "outputs": []
    },
    {
      "cell_type": "code",
      "source": [
        "dfHASH.head()"
      ],
      "metadata": {
        "colab": {
          "base_uri": "https://localhost:8080/",
          "height": 206
        },
        "id": "8eB0J_LUG0VI",
        "outputId": "2546883e-e885-42e5-9120-875b104c9d47"
      },
      "execution_count": 739,
      "outputs": [
        {
          "output_type": "execute_result",
          "data": {
            "text/plain": [
              "  country     hashtag\n",
              "2     USA   #Shenzhen\n",
              "2     USA       #ele…\n",
              "3     USA  #Marsbahis\n",
              "3     USA    #MarsBet\n",
              "4     USA    #utility"
            ],
            "text/html": [
              "\n",
              "  <div id=\"df-ef93a761-e965-4bbb-acf3-03f11a55b7cd\">\n",
              "    <div class=\"colab-df-container\">\n",
              "      <div>\n",
              "<style scoped>\n",
              "    .dataframe tbody tr th:only-of-type {\n",
              "        vertical-align: middle;\n",
              "    }\n",
              "\n",
              "    .dataframe tbody tr th {\n",
              "        vertical-align: top;\n",
              "    }\n",
              "\n",
              "    .dataframe thead th {\n",
              "        text-align: right;\n",
              "    }\n",
              "</style>\n",
              "<table border=\"1\" class=\"dataframe\">\n",
              "  <thead>\n",
              "    <tr style=\"text-align: right;\">\n",
              "      <th></th>\n",
              "      <th>country</th>\n",
              "      <th>hashtag</th>\n",
              "    </tr>\n",
              "  </thead>\n",
              "  <tbody>\n",
              "    <tr>\n",
              "      <th>2</th>\n",
              "      <td>USA</td>\n",
              "      <td>#Shenzhen</td>\n",
              "    </tr>\n",
              "    <tr>\n",
              "      <th>2</th>\n",
              "      <td>USA</td>\n",
              "      <td>#ele…</td>\n",
              "    </tr>\n",
              "    <tr>\n",
              "      <th>3</th>\n",
              "      <td>USA</td>\n",
              "      <td>#Marsbahis</td>\n",
              "    </tr>\n",
              "    <tr>\n",
              "      <th>3</th>\n",
              "      <td>USA</td>\n",
              "      <td>#MarsBet</td>\n",
              "    </tr>\n",
              "    <tr>\n",
              "      <th>4</th>\n",
              "      <td>USA</td>\n",
              "      <td>#utility</td>\n",
              "    </tr>\n",
              "  </tbody>\n",
              "</table>\n",
              "</div>\n",
              "      <button class=\"colab-df-convert\" onclick=\"convertToInteractive('df-ef93a761-e965-4bbb-acf3-03f11a55b7cd')\"\n",
              "              title=\"Convert this dataframe to an interactive table.\"\n",
              "              style=\"display:none;\">\n",
              "        \n",
              "  <svg xmlns=\"http://www.w3.org/2000/svg\" height=\"24px\"viewBox=\"0 0 24 24\"\n",
              "       width=\"24px\">\n",
              "    <path d=\"M0 0h24v24H0V0z\" fill=\"none\"/>\n",
              "    <path d=\"M18.56 5.44l.94 2.06.94-2.06 2.06-.94-2.06-.94-.94-2.06-.94 2.06-2.06.94zm-11 1L8.5 8.5l.94-2.06 2.06-.94-2.06-.94L8.5 2.5l-.94 2.06-2.06.94zm10 10l.94 2.06.94-2.06 2.06-.94-2.06-.94-.94-2.06-.94 2.06-2.06.94z\"/><path d=\"M17.41 7.96l-1.37-1.37c-.4-.4-.92-.59-1.43-.59-.52 0-1.04.2-1.43.59L10.3 9.45l-7.72 7.72c-.78.78-.78 2.05 0 2.83L4 21.41c.39.39.9.59 1.41.59.51 0 1.02-.2 1.41-.59l7.78-7.78 2.81-2.81c.8-.78.8-2.07 0-2.86zM5.41 20L4 18.59l7.72-7.72 1.47 1.35L5.41 20z\"/>\n",
              "  </svg>\n",
              "      </button>\n",
              "      \n",
              "  <style>\n",
              "    .colab-df-container {\n",
              "      display:flex;\n",
              "      flex-wrap:wrap;\n",
              "      gap: 12px;\n",
              "    }\n",
              "\n",
              "    .colab-df-convert {\n",
              "      background-color: #E8F0FE;\n",
              "      border: none;\n",
              "      border-radius: 50%;\n",
              "      cursor: pointer;\n",
              "      display: none;\n",
              "      fill: #1967D2;\n",
              "      height: 32px;\n",
              "      padding: 0 0 0 0;\n",
              "      width: 32px;\n",
              "    }\n",
              "\n",
              "    .colab-df-convert:hover {\n",
              "      background-color: #E2EBFA;\n",
              "      box-shadow: 0px 1px 2px rgba(60, 64, 67, 0.3), 0px 1px 3px 1px rgba(60, 64, 67, 0.15);\n",
              "      fill: #174EA6;\n",
              "    }\n",
              "\n",
              "    [theme=dark] .colab-df-convert {\n",
              "      background-color: #3B4455;\n",
              "      fill: #D2E3FC;\n",
              "    }\n",
              "\n",
              "    [theme=dark] .colab-df-convert:hover {\n",
              "      background-color: #434B5C;\n",
              "      box-shadow: 0px 1px 3px 1px rgba(0, 0, 0, 0.15);\n",
              "      filter: drop-shadow(0px 1px 2px rgba(0, 0, 0, 0.3));\n",
              "      fill: #FFFFFF;\n",
              "    }\n",
              "  </style>\n",
              "\n",
              "      <script>\n",
              "        const buttonEl =\n",
              "          document.querySelector('#df-ef93a761-e965-4bbb-acf3-03f11a55b7cd button.colab-df-convert');\n",
              "        buttonEl.style.display =\n",
              "          google.colab.kernel.accessAllowed ? 'block' : 'none';\n",
              "\n",
              "        async function convertToInteractive(key) {\n",
              "          const element = document.querySelector('#df-ef93a761-e965-4bbb-acf3-03f11a55b7cd');\n",
              "          const dataTable =\n",
              "            await google.colab.kernel.invokeFunction('convertToInteractive',\n",
              "                                                     [key], {});\n",
              "          if (!dataTable) return;\n",
              "\n",
              "          const docLinkHtml = 'Like what you see? Visit the ' +\n",
              "            '<a target=\"_blank\" href=https://colab.research.google.com/notebooks/data_table.ipynb>data table notebook</a>'\n",
              "            + ' to learn more about interactive tables.';\n",
              "          element.innerHTML = '';\n",
              "          dataTable['output_type'] = 'display_data';\n",
              "          await google.colab.output.renderOutput(dataTable, element);\n",
              "          const docLink = document.createElement('div');\n",
              "          docLink.innerHTML = docLinkHtml;\n",
              "          element.appendChild(docLink);\n",
              "        }\n",
              "      </script>\n",
              "    </div>\n",
              "  </div>\n",
              "  "
            ]
          },
          "metadata": {},
          "execution_count": 739
        }
      ]
    },
    {
      "cell_type": "markdown",
      "source": [
        "###Creating @Mentions (MENT) DataFrame"
      ],
      "metadata": {
        "id": "ArNehv_uwMrU"
      }
    },
    {
      "cell_type": "code",
      "source": [
        "dfMENT = df.copy()"
      ],
      "metadata": {
        "id": "Necof3kuwUUI"
      },
      "execution_count": 740,
      "outputs": []
    },
    {
      "cell_type": "code",
      "source": [
        "pattern = r'@[^:\\s]+'\n",
        "\n",
        "search = []    \n",
        "for values in dfMENT['text']:\n",
        "  ment = re.findall(pattern, values)\n",
        "  search.append(ment)\n",
        "\n",
        "dfMENT['mention'] = search"
      ],
      "metadata": {
        "id": "9iqiBGOoj7bc"
      },
      "execution_count": 741,
      "outputs": []
    },
    {
      "cell_type": "code",
      "source": [
        "dfMENT.head()"
      ],
      "metadata": {
        "colab": {
          "base_uri": "https://localhost:8080/",
          "height": 406
        },
        "id": "_OojZdBnpwzp",
        "outputId": "2777a913-49bd-4e3f-b688-0937201ff8a4"
      },
      "execution_count": 742,
      "outputs": [
        {
          "output_type": "execute_result",
          "data": {
            "text/plain": [
              "        user_id                created_at      tweet_id  \\\n",
              "0  1.294095e+18 2022-11-22 22:13:48+00:00  1.595179e+18   \n",
              "1  1.294095e+18 2022-11-22 20:33:39+00:00  1.595154e+18   \n",
              "2  1.294095e+18 2022-11-22 19:14:08+00:00  1.595134e+18   \n",
              "3  1.294095e+18 2022-11-22 16:56:17+00:00  1.595099e+18   \n",
              "4  1.294095e+18 2022-11-22 15:05:37+00:00  1.595071e+18   \n",
              "\n",
              "                                                text country  \\\n",
              "0  RT @JonnyCaplan: Creative Entrepreneur of the ...     USA   \n",
              "1  RT @JoseMarky_200: @shirtsthtgohard Available ...     USA   \n",
              "2  RT @moyo_world: We're moving our manufacturing...     USA   \n",
              "3  RT @winwinbank: 🏆Dünya Kupasında Da Güvenin Ad...     USA   \n",
              "4  RT @UtilityNet_: The Rules for the First Test ...     USA   \n",
              "\n",
              "                              mention  \n",
              "0                [@JonnyCaplan, @The]  \n",
              "1  [@JoseMarky_200, @shirtsthtgohard]  \n",
              "2                       [@moyo_world]  \n",
              "3                       [@winwinbank]  \n",
              "4                      [@UtilityNet_]  "
            ],
            "text/html": [
              "\n",
              "  <div id=\"df-889413e4-7dfd-424f-b5f0-0bcf49dc0351\">\n",
              "    <div class=\"colab-df-container\">\n",
              "      <div>\n",
              "<style scoped>\n",
              "    .dataframe tbody tr th:only-of-type {\n",
              "        vertical-align: middle;\n",
              "    }\n",
              "\n",
              "    .dataframe tbody tr th {\n",
              "        vertical-align: top;\n",
              "    }\n",
              "\n",
              "    .dataframe thead th {\n",
              "        text-align: right;\n",
              "    }\n",
              "</style>\n",
              "<table border=\"1\" class=\"dataframe\">\n",
              "  <thead>\n",
              "    <tr style=\"text-align: right;\">\n",
              "      <th></th>\n",
              "      <th>user_id</th>\n",
              "      <th>created_at</th>\n",
              "      <th>tweet_id</th>\n",
              "      <th>text</th>\n",
              "      <th>country</th>\n",
              "      <th>mention</th>\n",
              "    </tr>\n",
              "  </thead>\n",
              "  <tbody>\n",
              "    <tr>\n",
              "      <th>0</th>\n",
              "      <td>1.294095e+18</td>\n",
              "      <td>2022-11-22 22:13:48+00:00</td>\n",
              "      <td>1.595179e+18</td>\n",
              "      <td>RT @JonnyCaplan: Creative Entrepreneur of the ...</td>\n",
              "      <td>USA</td>\n",
              "      <td>[@JonnyCaplan, @The]</td>\n",
              "    </tr>\n",
              "    <tr>\n",
              "      <th>1</th>\n",
              "      <td>1.294095e+18</td>\n",
              "      <td>2022-11-22 20:33:39+00:00</td>\n",
              "      <td>1.595154e+18</td>\n",
              "      <td>RT @JoseMarky_200: @shirtsthtgohard Available ...</td>\n",
              "      <td>USA</td>\n",
              "      <td>[@JoseMarky_200, @shirtsthtgohard]</td>\n",
              "    </tr>\n",
              "    <tr>\n",
              "      <th>2</th>\n",
              "      <td>1.294095e+18</td>\n",
              "      <td>2022-11-22 19:14:08+00:00</td>\n",
              "      <td>1.595134e+18</td>\n",
              "      <td>RT @moyo_world: We're moving our manufacturing...</td>\n",
              "      <td>USA</td>\n",
              "      <td>[@moyo_world]</td>\n",
              "    </tr>\n",
              "    <tr>\n",
              "      <th>3</th>\n",
              "      <td>1.294095e+18</td>\n",
              "      <td>2022-11-22 16:56:17+00:00</td>\n",
              "      <td>1.595099e+18</td>\n",
              "      <td>RT @winwinbank: 🏆Dünya Kupasında Da Güvenin Ad...</td>\n",
              "      <td>USA</td>\n",
              "      <td>[@winwinbank]</td>\n",
              "    </tr>\n",
              "    <tr>\n",
              "      <th>4</th>\n",
              "      <td>1.294095e+18</td>\n",
              "      <td>2022-11-22 15:05:37+00:00</td>\n",
              "      <td>1.595071e+18</td>\n",
              "      <td>RT @UtilityNet_: The Rules for the First Test ...</td>\n",
              "      <td>USA</td>\n",
              "      <td>[@UtilityNet_]</td>\n",
              "    </tr>\n",
              "  </tbody>\n",
              "</table>\n",
              "</div>\n",
              "      <button class=\"colab-df-convert\" onclick=\"convertToInteractive('df-889413e4-7dfd-424f-b5f0-0bcf49dc0351')\"\n",
              "              title=\"Convert this dataframe to an interactive table.\"\n",
              "              style=\"display:none;\">\n",
              "        \n",
              "  <svg xmlns=\"http://www.w3.org/2000/svg\" height=\"24px\"viewBox=\"0 0 24 24\"\n",
              "       width=\"24px\">\n",
              "    <path d=\"M0 0h24v24H0V0z\" fill=\"none\"/>\n",
              "    <path d=\"M18.56 5.44l.94 2.06.94-2.06 2.06-.94-2.06-.94-.94-2.06-.94 2.06-2.06.94zm-11 1L8.5 8.5l.94-2.06 2.06-.94-2.06-.94L8.5 2.5l-.94 2.06-2.06.94zm10 10l.94 2.06.94-2.06 2.06-.94-2.06-.94-.94-2.06-.94 2.06-2.06.94z\"/><path d=\"M17.41 7.96l-1.37-1.37c-.4-.4-.92-.59-1.43-.59-.52 0-1.04.2-1.43.59L10.3 9.45l-7.72 7.72c-.78.78-.78 2.05 0 2.83L4 21.41c.39.39.9.59 1.41.59.51 0 1.02-.2 1.41-.59l7.78-7.78 2.81-2.81c.8-.78.8-2.07 0-2.86zM5.41 20L4 18.59l7.72-7.72 1.47 1.35L5.41 20z\"/>\n",
              "  </svg>\n",
              "      </button>\n",
              "      \n",
              "  <style>\n",
              "    .colab-df-container {\n",
              "      display:flex;\n",
              "      flex-wrap:wrap;\n",
              "      gap: 12px;\n",
              "    }\n",
              "\n",
              "    .colab-df-convert {\n",
              "      background-color: #E8F0FE;\n",
              "      border: none;\n",
              "      border-radius: 50%;\n",
              "      cursor: pointer;\n",
              "      display: none;\n",
              "      fill: #1967D2;\n",
              "      height: 32px;\n",
              "      padding: 0 0 0 0;\n",
              "      width: 32px;\n",
              "    }\n",
              "\n",
              "    .colab-df-convert:hover {\n",
              "      background-color: #E2EBFA;\n",
              "      box-shadow: 0px 1px 2px rgba(60, 64, 67, 0.3), 0px 1px 3px 1px rgba(60, 64, 67, 0.15);\n",
              "      fill: #174EA6;\n",
              "    }\n",
              "\n",
              "    [theme=dark] .colab-df-convert {\n",
              "      background-color: #3B4455;\n",
              "      fill: #D2E3FC;\n",
              "    }\n",
              "\n",
              "    [theme=dark] .colab-df-convert:hover {\n",
              "      background-color: #434B5C;\n",
              "      box-shadow: 0px 1px 3px 1px rgba(0, 0, 0, 0.15);\n",
              "      filter: drop-shadow(0px 1px 2px rgba(0, 0, 0, 0.3));\n",
              "      fill: #FFFFFF;\n",
              "    }\n",
              "  </style>\n",
              "\n",
              "      <script>\n",
              "        const buttonEl =\n",
              "          document.querySelector('#df-889413e4-7dfd-424f-b5f0-0bcf49dc0351 button.colab-df-convert');\n",
              "        buttonEl.style.display =\n",
              "          google.colab.kernel.accessAllowed ? 'block' : 'none';\n",
              "\n",
              "        async function convertToInteractive(key) {\n",
              "          const element = document.querySelector('#df-889413e4-7dfd-424f-b5f0-0bcf49dc0351');\n",
              "          const dataTable =\n",
              "            await google.colab.kernel.invokeFunction('convertToInteractive',\n",
              "                                                     [key], {});\n",
              "          if (!dataTable) return;\n",
              "\n",
              "          const docLinkHtml = 'Like what you see? Visit the ' +\n",
              "            '<a target=\"_blank\" href=https://colab.research.google.com/notebooks/data_table.ipynb>data table notebook</a>'\n",
              "            + ' to learn more about interactive tables.';\n",
              "          element.innerHTML = '';\n",
              "          dataTable['output_type'] = 'display_data';\n",
              "          await google.colab.output.renderOutput(dataTable, element);\n",
              "          const docLink = document.createElement('div');\n",
              "          docLink.innerHTML = docLinkHtml;\n",
              "          element.appendChild(docLink);\n",
              "        }\n",
              "      </script>\n",
              "    </div>\n",
              "  </div>\n",
              "  "
            ]
          },
          "metadata": {},
          "execution_count": 742
        }
      ]
    },
    {
      "cell_type": "code",
      "source": [
        "dfMENT.info()"
      ],
      "metadata": {
        "colab": {
          "base_uri": "https://localhost:8080/"
        },
        "id": "nU575mBGtKut",
        "outputId": "acb327ec-b6e2-4900-d733-e84358bd41fa"
      },
      "execution_count": 743,
      "outputs": [
        {
          "output_type": "stream",
          "name": "stdout",
          "text": [
            "<class 'pandas.core.frame.DataFrame'>\n",
            "RangeIndex: 127333 entries, 0 to 127332\n",
            "Data columns (total 6 columns):\n",
            " #   Column      Non-Null Count   Dtype              \n",
            "---  ------      --------------   -----              \n",
            " 0   user_id     127333 non-null  float64            \n",
            " 1   created_at  127333 non-null  datetime64[ns, UTC]\n",
            " 2   tweet_id    127333 non-null  float64            \n",
            " 3   text        127333 non-null  object             \n",
            " 4   country     127333 non-null  object             \n",
            " 5   mention     127333 non-null  object             \n",
            "dtypes: datetime64[ns, UTC](1), float64(2), object(3)\n",
            "memory usage: 5.8+ MB\n"
          ]
        }
      ]
    },
    {
      "cell_type": "code",
      "source": [
        "print(\"Number of Rows: \" + str(len(dfMENT.index)))"
      ],
      "metadata": {
        "colab": {
          "base_uri": "https://localhost:8080/"
        },
        "id": "Cnq-64kOtSTg",
        "outputId": "97262422-cba1-415b-9fca-6834b00be7dc"
      },
      "execution_count": 744,
      "outputs": [
        {
          "output_type": "stream",
          "name": "stdout",
          "text": [
            "Number of Rows: 127333\n"
          ]
        }
      ]
    },
    {
      "cell_type": "code",
      "source": [
        "dfMENT = dfMENT.drop(columns=['user_id', 'created_at', 'tweet_id', 'text'])"
      ],
      "metadata": {
        "id": "WLC6fjVUtuUv"
      },
      "execution_count": 745,
      "outputs": []
    },
    {
      "cell_type": "code",
      "source": [
        "dfMENT.info()"
      ],
      "metadata": {
        "colab": {
          "base_uri": "https://localhost:8080/"
        },
        "id": "poTzy1nmtx6X",
        "outputId": "28e4ceaa-38a4-4135-96b1-4860a8b35d45"
      },
      "execution_count": 746,
      "outputs": [
        {
          "output_type": "stream",
          "name": "stdout",
          "text": [
            "<class 'pandas.core.frame.DataFrame'>\n",
            "RangeIndex: 127333 entries, 0 to 127332\n",
            "Data columns (total 2 columns):\n",
            " #   Column   Non-Null Count   Dtype \n",
            "---  ------   --------------   ----- \n",
            " 0   country  127333 non-null  object\n",
            " 1   mention  127333 non-null  object\n",
            "dtypes: object(2)\n",
            "memory usage: 1.9+ MB\n"
          ]
        }
      ]
    },
    {
      "cell_type": "code",
      "source": [
        "dfMENT = dfMENT[dfMENT['mention'].map(lambda x: len(x)) > 0]"
      ],
      "metadata": {
        "id": "2aoBMfont6Ta"
      },
      "execution_count": 747,
      "outputs": []
    },
    {
      "cell_type": "code",
      "source": [
        "print(\"Number of Rows: \" + str(len(dfMENT.index)))"
      ],
      "metadata": {
        "colab": {
          "base_uri": "https://localhost:8080/"
        },
        "id": "Ei8DXo6UuEZn",
        "outputId": "1b451fde-e3c7-4ddb-e8dc-f381a74235a4"
      },
      "execution_count": 748,
      "outputs": [
        {
          "output_type": "stream",
          "name": "stdout",
          "text": [
            "Number of Rows: 101771\n"
          ]
        }
      ]
    },
    {
      "cell_type": "code",
      "source": [
        "dfMENT.head()"
      ],
      "metadata": {
        "colab": {
          "base_uri": "https://localhost:8080/",
          "height": 206
        },
        "id": "lwRNqtOZuROn",
        "outputId": "2f52de51-be4f-430b-c7f5-ac18da74eebb"
      },
      "execution_count": 749,
      "outputs": [
        {
          "output_type": "execute_result",
          "data": {
            "text/plain": [
              "  country                             mention\n",
              "0     USA                [@JonnyCaplan, @The]\n",
              "1     USA  [@JoseMarky_200, @shirtsthtgohard]\n",
              "2     USA                       [@moyo_world]\n",
              "3     USA                       [@winwinbank]\n",
              "4     USA                      [@UtilityNet_]"
            ],
            "text/html": [
              "\n",
              "  <div id=\"df-1416ace2-842e-4ba1-a21c-2df5c004953b\">\n",
              "    <div class=\"colab-df-container\">\n",
              "      <div>\n",
              "<style scoped>\n",
              "    .dataframe tbody tr th:only-of-type {\n",
              "        vertical-align: middle;\n",
              "    }\n",
              "\n",
              "    .dataframe tbody tr th {\n",
              "        vertical-align: top;\n",
              "    }\n",
              "\n",
              "    .dataframe thead th {\n",
              "        text-align: right;\n",
              "    }\n",
              "</style>\n",
              "<table border=\"1\" class=\"dataframe\">\n",
              "  <thead>\n",
              "    <tr style=\"text-align: right;\">\n",
              "      <th></th>\n",
              "      <th>country</th>\n",
              "      <th>mention</th>\n",
              "    </tr>\n",
              "  </thead>\n",
              "  <tbody>\n",
              "    <tr>\n",
              "      <th>0</th>\n",
              "      <td>USA</td>\n",
              "      <td>[@JonnyCaplan, @The]</td>\n",
              "    </tr>\n",
              "    <tr>\n",
              "      <th>1</th>\n",
              "      <td>USA</td>\n",
              "      <td>[@JoseMarky_200, @shirtsthtgohard]</td>\n",
              "    </tr>\n",
              "    <tr>\n",
              "      <th>2</th>\n",
              "      <td>USA</td>\n",
              "      <td>[@moyo_world]</td>\n",
              "    </tr>\n",
              "    <tr>\n",
              "      <th>3</th>\n",
              "      <td>USA</td>\n",
              "      <td>[@winwinbank]</td>\n",
              "    </tr>\n",
              "    <tr>\n",
              "      <th>4</th>\n",
              "      <td>USA</td>\n",
              "      <td>[@UtilityNet_]</td>\n",
              "    </tr>\n",
              "  </tbody>\n",
              "</table>\n",
              "</div>\n",
              "      <button class=\"colab-df-convert\" onclick=\"convertToInteractive('df-1416ace2-842e-4ba1-a21c-2df5c004953b')\"\n",
              "              title=\"Convert this dataframe to an interactive table.\"\n",
              "              style=\"display:none;\">\n",
              "        \n",
              "  <svg xmlns=\"http://www.w3.org/2000/svg\" height=\"24px\"viewBox=\"0 0 24 24\"\n",
              "       width=\"24px\">\n",
              "    <path d=\"M0 0h24v24H0V0z\" fill=\"none\"/>\n",
              "    <path d=\"M18.56 5.44l.94 2.06.94-2.06 2.06-.94-2.06-.94-.94-2.06-.94 2.06-2.06.94zm-11 1L8.5 8.5l.94-2.06 2.06-.94-2.06-.94L8.5 2.5l-.94 2.06-2.06.94zm10 10l.94 2.06.94-2.06 2.06-.94-2.06-.94-.94-2.06-.94 2.06-2.06.94z\"/><path d=\"M17.41 7.96l-1.37-1.37c-.4-.4-.92-.59-1.43-.59-.52 0-1.04.2-1.43.59L10.3 9.45l-7.72 7.72c-.78.78-.78 2.05 0 2.83L4 21.41c.39.39.9.59 1.41.59.51 0 1.02-.2 1.41-.59l7.78-7.78 2.81-2.81c.8-.78.8-2.07 0-2.86zM5.41 20L4 18.59l7.72-7.72 1.47 1.35L5.41 20z\"/>\n",
              "  </svg>\n",
              "      </button>\n",
              "      \n",
              "  <style>\n",
              "    .colab-df-container {\n",
              "      display:flex;\n",
              "      flex-wrap:wrap;\n",
              "      gap: 12px;\n",
              "    }\n",
              "\n",
              "    .colab-df-convert {\n",
              "      background-color: #E8F0FE;\n",
              "      border: none;\n",
              "      border-radius: 50%;\n",
              "      cursor: pointer;\n",
              "      display: none;\n",
              "      fill: #1967D2;\n",
              "      height: 32px;\n",
              "      padding: 0 0 0 0;\n",
              "      width: 32px;\n",
              "    }\n",
              "\n",
              "    .colab-df-convert:hover {\n",
              "      background-color: #E2EBFA;\n",
              "      box-shadow: 0px 1px 2px rgba(60, 64, 67, 0.3), 0px 1px 3px 1px rgba(60, 64, 67, 0.15);\n",
              "      fill: #174EA6;\n",
              "    }\n",
              "\n",
              "    [theme=dark] .colab-df-convert {\n",
              "      background-color: #3B4455;\n",
              "      fill: #D2E3FC;\n",
              "    }\n",
              "\n",
              "    [theme=dark] .colab-df-convert:hover {\n",
              "      background-color: #434B5C;\n",
              "      box-shadow: 0px 1px 3px 1px rgba(0, 0, 0, 0.15);\n",
              "      filter: drop-shadow(0px 1px 2px rgba(0, 0, 0, 0.3));\n",
              "      fill: #FFFFFF;\n",
              "    }\n",
              "  </style>\n",
              "\n",
              "      <script>\n",
              "        const buttonEl =\n",
              "          document.querySelector('#df-1416ace2-842e-4ba1-a21c-2df5c004953b button.colab-df-convert');\n",
              "        buttonEl.style.display =\n",
              "          google.colab.kernel.accessAllowed ? 'block' : 'none';\n",
              "\n",
              "        async function convertToInteractive(key) {\n",
              "          const element = document.querySelector('#df-1416ace2-842e-4ba1-a21c-2df5c004953b');\n",
              "          const dataTable =\n",
              "            await google.colab.kernel.invokeFunction('convertToInteractive',\n",
              "                                                     [key], {});\n",
              "          if (!dataTable) return;\n",
              "\n",
              "          const docLinkHtml = 'Like what you see? Visit the ' +\n",
              "            '<a target=\"_blank\" href=https://colab.research.google.com/notebooks/data_table.ipynb>data table notebook</a>'\n",
              "            + ' to learn more about interactive tables.';\n",
              "          element.innerHTML = '';\n",
              "          dataTable['output_type'] = 'display_data';\n",
              "          await google.colab.output.renderOutput(dataTable, element);\n",
              "          const docLink = document.createElement('div');\n",
              "          docLink.innerHTML = docLinkHtml;\n",
              "          element.appendChild(docLink);\n",
              "        }\n",
              "      </script>\n",
              "    </div>\n",
              "  </div>\n",
              "  "
            ]
          },
          "metadata": {},
          "execution_count": 749
        }
      ]
    },
    {
      "cell_type": "code",
      "source": [
        "dfMENT = dfMENT.explode('mention')"
      ],
      "metadata": {
        "id": "Glo_egkwG8Jn"
      },
      "execution_count": 750,
      "outputs": []
    },
    {
      "cell_type": "code",
      "source": [
        "dfMENT.head()"
      ],
      "metadata": {
        "colab": {
          "base_uri": "https://localhost:8080/",
          "height": 206
        },
        "id": "fUevJXqvG92V",
        "outputId": "cde156f3-ea00-4e4f-96a4-721539036745"
      },
      "execution_count": 751,
      "outputs": [
        {
          "output_type": "execute_result",
          "data": {
            "text/plain": [
              "  country           mention\n",
              "0     USA      @JonnyCaplan\n",
              "0     USA              @The\n",
              "1     USA    @JoseMarky_200\n",
              "1     USA  @shirtsthtgohard\n",
              "2     USA       @moyo_world"
            ],
            "text/html": [
              "\n",
              "  <div id=\"df-6a32de36-eff1-4bad-99d9-e33268e510df\">\n",
              "    <div class=\"colab-df-container\">\n",
              "      <div>\n",
              "<style scoped>\n",
              "    .dataframe tbody tr th:only-of-type {\n",
              "        vertical-align: middle;\n",
              "    }\n",
              "\n",
              "    .dataframe tbody tr th {\n",
              "        vertical-align: top;\n",
              "    }\n",
              "\n",
              "    .dataframe thead th {\n",
              "        text-align: right;\n",
              "    }\n",
              "</style>\n",
              "<table border=\"1\" class=\"dataframe\">\n",
              "  <thead>\n",
              "    <tr style=\"text-align: right;\">\n",
              "      <th></th>\n",
              "      <th>country</th>\n",
              "      <th>mention</th>\n",
              "    </tr>\n",
              "  </thead>\n",
              "  <tbody>\n",
              "    <tr>\n",
              "      <th>0</th>\n",
              "      <td>USA</td>\n",
              "      <td>@JonnyCaplan</td>\n",
              "    </tr>\n",
              "    <tr>\n",
              "      <th>0</th>\n",
              "      <td>USA</td>\n",
              "      <td>@The</td>\n",
              "    </tr>\n",
              "    <tr>\n",
              "      <th>1</th>\n",
              "      <td>USA</td>\n",
              "      <td>@JoseMarky_200</td>\n",
              "    </tr>\n",
              "    <tr>\n",
              "      <th>1</th>\n",
              "      <td>USA</td>\n",
              "      <td>@shirtsthtgohard</td>\n",
              "    </tr>\n",
              "    <tr>\n",
              "      <th>2</th>\n",
              "      <td>USA</td>\n",
              "      <td>@moyo_world</td>\n",
              "    </tr>\n",
              "  </tbody>\n",
              "</table>\n",
              "</div>\n",
              "      <button class=\"colab-df-convert\" onclick=\"convertToInteractive('df-6a32de36-eff1-4bad-99d9-e33268e510df')\"\n",
              "              title=\"Convert this dataframe to an interactive table.\"\n",
              "              style=\"display:none;\">\n",
              "        \n",
              "  <svg xmlns=\"http://www.w3.org/2000/svg\" height=\"24px\"viewBox=\"0 0 24 24\"\n",
              "       width=\"24px\">\n",
              "    <path d=\"M0 0h24v24H0V0z\" fill=\"none\"/>\n",
              "    <path d=\"M18.56 5.44l.94 2.06.94-2.06 2.06-.94-2.06-.94-.94-2.06-.94 2.06-2.06.94zm-11 1L8.5 8.5l.94-2.06 2.06-.94-2.06-.94L8.5 2.5l-.94 2.06-2.06.94zm10 10l.94 2.06.94-2.06 2.06-.94-2.06-.94-.94-2.06-.94 2.06-2.06.94z\"/><path d=\"M17.41 7.96l-1.37-1.37c-.4-.4-.92-.59-1.43-.59-.52 0-1.04.2-1.43.59L10.3 9.45l-7.72 7.72c-.78.78-.78 2.05 0 2.83L4 21.41c.39.39.9.59 1.41.59.51 0 1.02-.2 1.41-.59l7.78-7.78 2.81-2.81c.8-.78.8-2.07 0-2.86zM5.41 20L4 18.59l7.72-7.72 1.47 1.35L5.41 20z\"/>\n",
              "  </svg>\n",
              "      </button>\n",
              "      \n",
              "  <style>\n",
              "    .colab-df-container {\n",
              "      display:flex;\n",
              "      flex-wrap:wrap;\n",
              "      gap: 12px;\n",
              "    }\n",
              "\n",
              "    .colab-df-convert {\n",
              "      background-color: #E8F0FE;\n",
              "      border: none;\n",
              "      border-radius: 50%;\n",
              "      cursor: pointer;\n",
              "      display: none;\n",
              "      fill: #1967D2;\n",
              "      height: 32px;\n",
              "      padding: 0 0 0 0;\n",
              "      width: 32px;\n",
              "    }\n",
              "\n",
              "    .colab-df-convert:hover {\n",
              "      background-color: #E2EBFA;\n",
              "      box-shadow: 0px 1px 2px rgba(60, 64, 67, 0.3), 0px 1px 3px 1px rgba(60, 64, 67, 0.15);\n",
              "      fill: #174EA6;\n",
              "    }\n",
              "\n",
              "    [theme=dark] .colab-df-convert {\n",
              "      background-color: #3B4455;\n",
              "      fill: #D2E3FC;\n",
              "    }\n",
              "\n",
              "    [theme=dark] .colab-df-convert:hover {\n",
              "      background-color: #434B5C;\n",
              "      box-shadow: 0px 1px 3px 1px rgba(0, 0, 0, 0.15);\n",
              "      filter: drop-shadow(0px 1px 2px rgba(0, 0, 0, 0.3));\n",
              "      fill: #FFFFFF;\n",
              "    }\n",
              "  </style>\n",
              "\n",
              "      <script>\n",
              "        const buttonEl =\n",
              "          document.querySelector('#df-6a32de36-eff1-4bad-99d9-e33268e510df button.colab-df-convert');\n",
              "        buttonEl.style.display =\n",
              "          google.colab.kernel.accessAllowed ? 'block' : 'none';\n",
              "\n",
              "        async function convertToInteractive(key) {\n",
              "          const element = document.querySelector('#df-6a32de36-eff1-4bad-99d9-e33268e510df');\n",
              "          const dataTable =\n",
              "            await google.colab.kernel.invokeFunction('convertToInteractive',\n",
              "                                                     [key], {});\n",
              "          if (!dataTable) return;\n",
              "\n",
              "          const docLinkHtml = 'Like what you see? Visit the ' +\n",
              "            '<a target=\"_blank\" href=https://colab.research.google.com/notebooks/data_table.ipynb>data table notebook</a>'\n",
              "            + ' to learn more about interactive tables.';\n",
              "          element.innerHTML = '';\n",
              "          dataTable['output_type'] = 'display_data';\n",
              "          await google.colab.output.renderOutput(dataTable, element);\n",
              "          const docLink = document.createElement('div');\n",
              "          docLink.innerHTML = docLinkHtml;\n",
              "          element.appendChild(docLink);\n",
              "        }\n",
              "      </script>\n",
              "    </div>\n",
              "  </div>\n",
              "  "
            ]
          },
          "metadata": {},
          "execution_count": 751
        }
      ]
    },
    {
      "cell_type": "markdown",
      "source": [
        "###Text Preprocessing"
      ],
      "metadata": {
        "id": "aRxnZDZmw14T"
      }
    },
    {
      "cell_type": "code",
      "source": [
        "#remove rt from begining of sentence - do first cause RT is capitalized.\n",
        "\n",
        "df[\"text\"] = df[\"text\"].map(lambda name: re.sub('^(RT)', ' ', name))"
      ],
      "metadata": {
        "id": "3nHmAP96yPXk"
      },
      "execution_count": 752,
      "outputs": []
    },
    {
      "cell_type": "code",
      "source": [
        "#removing links\n",
        "df[\"text\"] = df[\"text\"].map(lambda name: re.sub(r'http\\S+', ' ', name))"
      ],
      "metadata": {
        "id": "wQTUtrGzyYM8"
      },
      "execution_count": 753,
      "outputs": []
    },
    {
      "cell_type": "code",
      "source": [
        "#removing mentions\n",
        "df[\"text\"] = df[\"text\"].map(lambda name: re.sub(\"@([a-zA-Z0-9_]{1,50})\", '', name))"
      ],
      "metadata": {
        "id": "vdEfGTECkx1F"
      },
      "execution_count": 754,
      "outputs": []
    },
    {
      "cell_type": "code",
      "source": [
        "#removing repeating characters\n",
        "repeat_pattern = re.compile(r'(\\w)\\1*') #compile the pattern we are looking for\n",
        "match_substitution = r'\\1' #substituion pattern\n",
        "df[\"text\"] = df[\"text\"].map(lambda name: re.sub(repeat_pattern, match_substitution, name))"
      ],
      "metadata": {
        "id": "w7wg4TdBybiS"
      },
      "execution_count": 755,
      "outputs": []
    },
    {
      "cell_type": "code",
      "source": [
        "#removal of digits with regex - we do this here because it is possible to have numbers in tags and urls replace with space.\n",
        "df[\"text\"] = df[\"text\"].map(lambda name: re.sub(r'[0-9]', ' ', name))"
      ],
      "metadata": {
        "id": "ReEb2nOb0yyi"
      },
      "execution_count": 756,
      "outputs": []
    },
    {
      "cell_type": "code",
      "source": [
        "EMOJI_PATTERN = re.compile(\n",
        "    \"[\"\n",
        "    \"\\U0001F1E0-\\U0001F1FF\"  # flags (iOS)\n",
        "    \"\\U0001F300-\\U0001F5FF\"  # symbols & pictographs\n",
        "    \"\\U0001F600-\\U0001F64F\"  # emoticons\n",
        "    \"\\U0001F680-\\U0001F6FF\"  # transport & map symbols\n",
        "    \"\\U0001F700-\\U0001F77F\"  # alchemical symbols\n",
        "    \"\\U0001F780-\\U0001F7FF\"  # Geometric Shapes Extended\n",
        "    \"\\U0001F800-\\U0001F8FF\"  # Supplemental Arrows-C\n",
        "    \"\\U0001F900-\\U0001F9FF\"  # Supplemental Symbols and Pictographs\n",
        "    \"\\U0001FA00-\\U0001FA6F\"  # Chess Symbols\n",
        "    \"\\U0001FA70-\\U0001FAFF\"  # Symbols and Pictographs Extended-A\n",
        "    \"\\U00002702-\\U000027B0\"  # Dingbats\n",
        "    \"\\U000024C2-\\U0001F251\" \n",
        "    \"]+\")\n",
        "df[\"text\"] = df[\"text\"].map(lambda name: re.sub(EMOJI_PATTERN, ' ', name))"
      ],
      "metadata": {
        "id": "7T8jln2o1MEf"
      },
      "execution_count": 757,
      "outputs": []
    },
    {
      "cell_type": "code",
      "source": [
        "#making everything lowercase\n",
        "df[\"text\"] = df[\"text\"].map(lambda name: name.lower())"
      ],
      "metadata": {
        "id": "IpmsubN_kd6b"
      },
      "execution_count": 758,
      "outputs": []
    },
    {
      "cell_type": "code",
      "source": [
        "special_pattern = re.compile('[!\\.\\^\\$\\|\\?\\*\\+\\=\\(\\)\\{\\}\\@\\=\\/\\<\\>\\,\\~\\`\\-\\%\\&\\:\\;\\[\\]\"“”…]')\n",
        "df[\"text\"] = df[\"text\"].map(lambda name: re.sub(special_pattern, ' ', name))"
      ],
      "metadata": {
        "id": "MhkUJNuDk3TZ"
      },
      "execution_count": 759,
      "outputs": []
    },
    {
      "cell_type": "code",
      "source": [
        "#remove a hashtag if it has no significance, ie, not part of a #word\n",
        "df[\"text\"] = df[\"text\"].map(lambda name: re.sub('(#[^(a-zA-Z0-9)])', ' ', name))"
      ],
      "metadata": {
        "id": "3tVu91duk6-j"
      },
      "execution_count": 760,
      "outputs": []
    },
    {
      "cell_type": "code",
      "source": [
        "#removing doublicate spaces and all white spaces like \\t, \\n or \\r\n",
        "df[\"text\"] = df[\"text\"].map(lambda name: \" \".join(name.split()))"
      ],
      "metadata": {
        "id": "ifM3ELuUk_8t"
      },
      "execution_count": 761,
      "outputs": []
    },
    {
      "cell_type": "code",
      "source": [
        "#Now remove stop words\n",
        "stop_words = stopwords.words('english')\n",
        "stopwords_dict = Counter(stop_words)\n",
        "\n",
        "df[\"text\"] = df[\"text\"].map(lambda name: ' '.join([word for word in name.split() if word not in stopwords_dict]))"
      ],
      "metadata": {
        "id": "wBIfIjEOlCy0"
      },
      "execution_count": 762,
      "outputs": []
    },
    {
      "cell_type": "code",
      "source": [
        "#After removing stop words we can clean up more\n",
        "df[\"text\"] = df[\"text\"].map(lambda name: re.sub('[\\']', ' ', name))"
      ],
      "metadata": {
        "id": "oYrKYE-VlHy3"
      },
      "execution_count": 763,
      "outputs": []
    },
    {
      "cell_type": "code",
      "source": [
        "#remove all '#' characters\n",
        "df[\"text\"] = df[\"text\"].map(lambda name: re.sub('#', ' ', name))"
      ],
      "metadata": {
        "id": "ruSL9fCJNhPS"
      },
      "execution_count": 764,
      "outputs": []
    },
    {
      "cell_type": "code",
      "source": [
        "#final white space clean up\n",
        "df[\"text\"] = df[\"text\"].map(lambda name: \" \".join(name.split(' ')))"
      ],
      "metadata": {
        "id": "XM9ZQIlylHi-"
      },
      "execution_count": 765,
      "outputs": []
    },
    {
      "cell_type": "code",
      "source": [
        "#still need to check for strings that contain whitespaces only and remove them\n",
        "df[\"text\"] = df[\"text\"].map(lambda text: np.nan if len(text) == 0 else text)\n",
        "df.dropna(axis=0, inplace=True)"
      ],
      "metadata": {
        "id": "33Kd0EYslLC4"
      },
      "execution_count": 766,
      "outputs": []
    },
    {
      "cell_type": "code",
      "source": [
        "df.dropna(axis=0, inplace=True)"
      ],
      "metadata": {
        "id": "WqhO-m8uMS5z"
      },
      "execution_count": 767,
      "outputs": []
    },
    {
      "cell_type": "code",
      "source": [
        "dfTEXT = df.drop(columns=['user_id', 'created_at', 'tweet_id'])"
      ],
      "metadata": {
        "id": "bj6n-XjrNvDI"
      },
      "execution_count": 768,
      "outputs": []
    },
    {
      "cell_type": "code",
      "source": [
        "dfTEXT.head()"
      ],
      "metadata": {
        "colab": {
          "base_uri": "https://localhost:8080/",
          "height": 206
        },
        "id": "qU9mTGlON8Vn",
        "outputId": "abef932c-4def-460f-9417-8a74091ae070"
      },
      "execution_count": 769,
      "outputs": [
        {
          "output_type": "execute_result",
          "data": {
            "text/plain": [
              "                                                text country\n",
              "0  creative entrepreneur year shock last night gr...     USA\n",
              "1                                     available guys     USA\n",
              "2  we re moving manufacturing plant ‍ ‍ shenzhen ...     USA\n",
              "3  dünya kupasında da güvenin adresi  marsbahis  ...     USA\n",
              "4  rules first test mining utilitynet  utility  u...     USA"
            ],
            "text/html": [
              "\n",
              "  <div id=\"df-a5ff7383-8241-4c70-9015-44d89de8cf62\">\n",
              "    <div class=\"colab-df-container\">\n",
              "      <div>\n",
              "<style scoped>\n",
              "    .dataframe tbody tr th:only-of-type {\n",
              "        vertical-align: middle;\n",
              "    }\n",
              "\n",
              "    .dataframe tbody tr th {\n",
              "        vertical-align: top;\n",
              "    }\n",
              "\n",
              "    .dataframe thead th {\n",
              "        text-align: right;\n",
              "    }\n",
              "</style>\n",
              "<table border=\"1\" class=\"dataframe\">\n",
              "  <thead>\n",
              "    <tr style=\"text-align: right;\">\n",
              "      <th></th>\n",
              "      <th>text</th>\n",
              "      <th>country</th>\n",
              "    </tr>\n",
              "  </thead>\n",
              "  <tbody>\n",
              "    <tr>\n",
              "      <th>0</th>\n",
              "      <td>creative entrepreneur year shock last night gr...</td>\n",
              "      <td>USA</td>\n",
              "    </tr>\n",
              "    <tr>\n",
              "      <th>1</th>\n",
              "      <td>available guys</td>\n",
              "      <td>USA</td>\n",
              "    </tr>\n",
              "    <tr>\n",
              "      <th>2</th>\n",
              "      <td>we re moving manufacturing plant ‍ ‍ shenzhen ...</td>\n",
              "      <td>USA</td>\n",
              "    </tr>\n",
              "    <tr>\n",
              "      <th>3</th>\n",
              "      <td>dünya kupasında da güvenin adresi  marsbahis  ...</td>\n",
              "      <td>USA</td>\n",
              "    </tr>\n",
              "    <tr>\n",
              "      <th>4</th>\n",
              "      <td>rules first test mining utilitynet  utility  u...</td>\n",
              "      <td>USA</td>\n",
              "    </tr>\n",
              "  </tbody>\n",
              "</table>\n",
              "</div>\n",
              "      <button class=\"colab-df-convert\" onclick=\"convertToInteractive('df-a5ff7383-8241-4c70-9015-44d89de8cf62')\"\n",
              "              title=\"Convert this dataframe to an interactive table.\"\n",
              "              style=\"display:none;\">\n",
              "        \n",
              "  <svg xmlns=\"http://www.w3.org/2000/svg\" height=\"24px\"viewBox=\"0 0 24 24\"\n",
              "       width=\"24px\">\n",
              "    <path d=\"M0 0h24v24H0V0z\" fill=\"none\"/>\n",
              "    <path d=\"M18.56 5.44l.94 2.06.94-2.06 2.06-.94-2.06-.94-.94-2.06-.94 2.06-2.06.94zm-11 1L8.5 8.5l.94-2.06 2.06-.94-2.06-.94L8.5 2.5l-.94 2.06-2.06.94zm10 10l.94 2.06.94-2.06 2.06-.94-2.06-.94-.94-2.06-.94 2.06-2.06.94z\"/><path d=\"M17.41 7.96l-1.37-1.37c-.4-.4-.92-.59-1.43-.59-.52 0-1.04.2-1.43.59L10.3 9.45l-7.72 7.72c-.78.78-.78 2.05 0 2.83L4 21.41c.39.39.9.59 1.41.59.51 0 1.02-.2 1.41-.59l7.78-7.78 2.81-2.81c.8-.78.8-2.07 0-2.86zM5.41 20L4 18.59l7.72-7.72 1.47 1.35L5.41 20z\"/>\n",
              "  </svg>\n",
              "      </button>\n",
              "      \n",
              "  <style>\n",
              "    .colab-df-container {\n",
              "      display:flex;\n",
              "      flex-wrap:wrap;\n",
              "      gap: 12px;\n",
              "    }\n",
              "\n",
              "    .colab-df-convert {\n",
              "      background-color: #E8F0FE;\n",
              "      border: none;\n",
              "      border-radius: 50%;\n",
              "      cursor: pointer;\n",
              "      display: none;\n",
              "      fill: #1967D2;\n",
              "      height: 32px;\n",
              "      padding: 0 0 0 0;\n",
              "      width: 32px;\n",
              "    }\n",
              "\n",
              "    .colab-df-convert:hover {\n",
              "      background-color: #E2EBFA;\n",
              "      box-shadow: 0px 1px 2px rgba(60, 64, 67, 0.3), 0px 1px 3px 1px rgba(60, 64, 67, 0.15);\n",
              "      fill: #174EA6;\n",
              "    }\n",
              "\n",
              "    [theme=dark] .colab-df-convert {\n",
              "      background-color: #3B4455;\n",
              "      fill: #D2E3FC;\n",
              "    }\n",
              "\n",
              "    [theme=dark] .colab-df-convert:hover {\n",
              "      background-color: #434B5C;\n",
              "      box-shadow: 0px 1px 3px 1px rgba(0, 0, 0, 0.15);\n",
              "      filter: drop-shadow(0px 1px 2px rgba(0, 0, 0, 0.3));\n",
              "      fill: #FFFFFF;\n",
              "    }\n",
              "  </style>\n",
              "\n",
              "      <script>\n",
              "        const buttonEl =\n",
              "          document.querySelector('#df-a5ff7383-8241-4c70-9015-44d89de8cf62 button.colab-df-convert');\n",
              "        buttonEl.style.display =\n",
              "          google.colab.kernel.accessAllowed ? 'block' : 'none';\n",
              "\n",
              "        async function convertToInteractive(key) {\n",
              "          const element = document.querySelector('#df-a5ff7383-8241-4c70-9015-44d89de8cf62');\n",
              "          const dataTable =\n",
              "            await google.colab.kernel.invokeFunction('convertToInteractive',\n",
              "                                                     [key], {});\n",
              "          if (!dataTable) return;\n",
              "\n",
              "          const docLinkHtml = 'Like what you see? Visit the ' +\n",
              "            '<a target=\"_blank\" href=https://colab.research.google.com/notebooks/data_table.ipynb>data table notebook</a>'\n",
              "            + ' to learn more about interactive tables.';\n",
              "          element.innerHTML = '';\n",
              "          dataTable['output_type'] = 'display_data';\n",
              "          await google.colab.output.renderOutput(dataTable, element);\n",
              "          const docLink = document.createElement('div');\n",
              "          docLink.innerHTML = docLinkHtml;\n",
              "          element.appendChild(docLink);\n",
              "        }\n",
              "      </script>\n",
              "    </div>\n",
              "  </div>\n",
              "  "
            ]
          },
          "metadata": {},
          "execution_count": 769
        }
      ]
    },
    {
      "cell_type": "markdown",
      "source": [
        "Getting rid of countries of low frequency"
      ],
      "metadata": {
        "id": "uYgbx-X6Leg8"
      }
    },
    {
      "cell_type": "code",
      "source": [
        "#Select number of countries that we want our model to examine (Top in # of tweets)\n",
        "num_of_top_countries = 10\n",
        "dfHASH = dfHASH[dfHASH[\"country\"].isin(dfHASH[\"country\"].value_counts()[:num_of_top_countries].index.values)]\n",
        "dfMENT = dfMENT[dfMENT[\"country\"].isin(dfMENT[\"country\"].value_counts()[:num_of_top_countries].index.values)]\n",
        "dfTEXT = dfTEXT[dfTEXT[\"country\"].isin(dfTEXT[\"country\"].value_counts()[:num_of_top_countries].index.values)]"
      ],
      "metadata": {
        "id": "5LTCAkIMLje3"
      },
      "execution_count": 770,
      "outputs": []
    },
    {
      "cell_type": "markdown",
      "source": [
        "##Building the Model Using BoW (Bag of Words) and Reporting Scores"
      ],
      "metadata": {
        "id": "pcqsRegtZcoj"
      }
    },
    {
      "cell_type": "code",
      "source": [
        "model = MultinomialNB()"
      ],
      "metadata": {
        "id": "pYpSs2ukakSv"
      },
      "execution_count": 771,
      "outputs": []
    },
    {
      "cell_type": "markdown",
      "source": [
        "###MNB-HASH"
      ],
      "metadata": {
        "id": "A9a-VKj2bPD5"
      }
    },
    {
      "cell_type": "code",
      "source": [
        "corpus = dfHASH['hashtag']\n",
        "print(corpus)"
      ],
      "metadata": {
        "colab": {
          "base_uri": "https://localhost:8080/"
        },
        "id": "VubHyvr92E3y",
        "outputId": "322cda86-0e51-400a-a048-a079c8bb5e83"
      },
      "execution_count": 772,
      "outputs": [
        {
          "output_type": "stream",
          "name": "stdout",
          "text": [
            "2                      #Shenzhen\n",
            "2                          #ele…\n",
            "3                     #Marsbahis\n",
            "3                       #MarsBet\n",
            "4                       #utility\n",
            "                   ...          \n",
            "127190                        #…\n",
            "127194    #MotusWildlifeTracking\n",
            "127204                    #fungi\n",
            "127209                 #Shetland\n",
            "127214                    #fungi\n",
            "Name: hashtag, Length: 45540, dtype: object\n"
          ]
        }
      ]
    },
    {
      "cell_type": "code",
      "source": [
        "vectorizer = CountVectorizer()\n",
        "X = vectorizer.fit_transform(corpus)\n",
        "Y = LabelEncoder().fit_transform(dfHASH['country'])\n",
        "\n",
        "X_train, X_test, Y_train, Y_test = train_test_split(X, Y, test_size=0.2, stratify=Y, random_state=0)\n",
        "\n",
        "clf = model.fit(X_train, Y_train)\n",
        "Y_predict = clf.predict(X_test)\n",
        "\n",
        "print('Model Train Accuracy (score):', model.score(X_train, Y_train))\n",
        "print('Model Test Accuracy (score):', model.score(X_test, Y_test))\n",
        "print('Mean Absolute Error:', mean_absolute_error(Y_test, Y_predict))  \n",
        "print('Median Absolute Error:', median_absolute_error(Y_test, Y_predict))\n",
        "print(\"Accuracy: \", accuracy_score(Y_test, Y_predict))"
      ],
      "metadata": {
        "colab": {
          "base_uri": "https://localhost:8080/"
        },
        "id": "Emk_yiGxZfxd",
        "outputId": "175ff66f-f3a7-45c3-e0d9-9318d8850389"
      },
      "execution_count": 773,
      "outputs": [
        {
          "output_type": "stream",
          "name": "stdout",
          "text": [
            "Model Train Accuracy (score): 0.8108805445761967\n",
            "Model Test Accuracy (score): 0.7902942468159859\n",
            "Mean Absolute Error: 0.8407992973210364\n",
            "Median Absolute Error: 0.0\n",
            "Accuracy:  0.7902942468159859\n"
          ]
        }
      ]
    },
    {
      "cell_type": "code",
      "source": [
        "cm = confusion_matrix(Y_test, Y_predict, labels=clf.classes_)\n",
        "disp = ConfusionMatrixDisplay(confusion_matrix=cm, display_labels=clf.classes_)\n",
        "disp.plot()\n",
        "\n",
        "plt.show()"
      ],
      "metadata": {
        "colab": {
          "base_uri": "https://localhost:8080/",
          "height": 279
        },
        "id": "gg_zKysedqrC",
        "outputId": "0d4456b9-c578-4c39-a216-95728d59e594"
      },
      "execution_count": 774,
      "outputs": [
        {
          "output_type": "display_data",
          "data": {
            "text/plain": [
              "<Figure size 432x288 with 2 Axes>"
            ],
            "image/png": "[encoded data removed]"
          },
          "metadata": {
            "needs_background": "light"
          }
        }
      ]
    },
    {
      "cell_type": "code",
      "source": [
        "set(Y_test) - set(Y_predict)"
      ],
      "metadata": {
        "colab": {
          "base_uri": "https://localhost:8080/"
        },
        "id": "7YJTBlMtfXEn",
        "outputId": "0d632f4d-36c3-45c3-a73b-6f9a0c111474"
      },
      "execution_count": 775,
      "outputs": [
        {
          "output_type": "execute_result",
          "data": {
            "text/plain": [
              "{2}"
            ]
          },
          "metadata": {},
          "execution_count": 775
        }
      ]
    },
    {
      "cell_type": "markdown",
      "source": [
        "This shows that 7 is never predicted."
      ],
      "metadata": {
        "id": "1VZ-UlL_fdCv"
      }
    },
    {
      "cell_type": "markdown",
      "source": [
        "MNB-MENT"
      ],
      "metadata": {
        "id": "PC1796BFbYGQ"
      }
    },
    {
      "cell_type": "code",
      "source": [
        "corpus = dfMENT['mention']\n",
        "print(corpus)"
      ],
      "metadata": {
        "colab": {
          "base_uri": "https://localhost:8080/"
        },
        "id": "LTlQ4lbbbaw0",
        "outputId": "b53da8c3-822e-4385-82e2-069c3fea14d6"
      },
      "execution_count": 776,
      "outputs": [
        {
          "output_type": "stream",
          "name": "stdout",
          "text": [
            "0             @JonnyCaplan\n",
            "0                     @The\n",
            "1           @JoseMarky_200\n",
            "1         @shirtsthtgohard\n",
            "2              @moyo_world\n",
            "                ...       \n",
            "127229         @StevieD131\n",
            "127229           @Stewchat\n",
            "127230           @Stewchat\n",
            "127231       @MarcDavenant\n",
            "127232     @connellyandrew\n",
            "Name: mention, Length: 133179, dtype: object\n"
          ]
        }
      ]
    },
    {
      "cell_type": "code",
      "source": [
        "vectorizer = CountVectorizer()\n",
        "X = vectorizer.fit_transform(corpus)\n",
        "Y = LabelEncoder().fit_transform(dfMENT['country'])\n",
        "\n",
        "X_train, X_test, Y_train, Y_test = train_test_split(X, Y, test_size=0.2, stratify=Y, random_state=0)\n",
        "\n",
        "clf = model.fit(X_train, Y_train)\n",
        "Y_predict = clf.predict(X_test)\n",
        "\n",
        "print('Model Train Accuracy (score):', model.score(X_train, Y_train))\n",
        "print('Model Test Accuracy (score):', model.score(X_test, Y_test))\n",
        "print('Mean Absolute Error:', mean_absolute_error(Y_test, Y_predict))  \n",
        "print('Median Absolute Error:', median_absolute_error(Y_test, Y_predict))\n",
        "print(\"Accuracy: \", accuracy_score(Y_test, Y_predict))"
      ],
      "metadata": {
        "colab": {
          "base_uri": "https://localhost:8080/"
        },
        "id": "lYN2ghR4HHqY",
        "outputId": "18df2b66-fddc-4413-8d91-cfe296b893b0"
      },
      "execution_count": 777,
      "outputs": [
        {
          "output_type": "stream",
          "name": "stdout",
          "text": [
            "Model Train Accuracy (score): 0.7267018950095266\n",
            "Model Test Accuracy (score): 0.6989037393001952\n",
            "Mean Absolute Error: 1.409520949091455\n",
            "Median Absolute Error: 0.0\n",
            "Accuracy:  0.6989037393001952\n"
          ]
        }
      ]
    },
    {
      "cell_type": "code",
      "source": [
        "cm = confusion_matrix(Y_test, Y_predict, labels=clf.classes_)\n",
        "disp = ConfusionMatrixDisplay(confusion_matrix=cm, display_labels=clf.classes_)\n",
        "disp.plot()\n",
        "\n",
        "plt.show()"
      ],
      "metadata": {
        "colab": {
          "base_uri": "https://localhost:8080/",
          "height": 279
        },
        "id": "XPbhfGzffurX",
        "outputId": "f5a12923-fea7-4d1e-e051-9ccdb02164b1"
      },
      "execution_count": 778,
      "outputs": [
        {
          "output_type": "display_data",
          "data": {
            "text/plain": [
              "<Figure size 432x288 with 2 Axes>"
            ],
            "image/png": "[encoded data removed]"
          },
          "metadata": {
            "needs_background": "light"
          }
        }
      ]
    },
    {
      "cell_type": "code",
      "source": [
        "set(Y_test) - set(Y_predict)"
      ],
      "metadata": {
        "colab": {
          "base_uri": "https://localhost:8080/"
        },
        "id": "JnRWedIBfxaa",
        "outputId": "73e93845-ecc9-42db-b753-87eb522a510e"
      },
      "execution_count": 779,
      "outputs": [
        {
          "output_type": "execute_result",
          "data": {
            "text/plain": [
              "set()"
            ]
          },
          "metadata": {},
          "execution_count": 779
        }
      ]
    },
    {
      "cell_type": "markdown",
      "source": [
        "MNB-TEXT"
      ],
      "metadata": {
        "id": "4-2k0jJybbHY"
      }
    },
    {
      "cell_type": "code",
      "source": [
        "corpus = dfTEXT['text']\n",
        "print(corpus)"
      ],
      "metadata": {
        "colab": {
          "base_uri": "https://localhost:8080/"
        },
        "id": "xop_97hDbeRw",
        "outputId": "233d6b73-ccd9-4a8b-8cee-efc196f983cd"
      },
      "execution_count": 780,
      "outputs": [
        {
          "output_type": "stream",
          "name": "stdout",
          "text": [
            "0         creative entrepreneur year shock last night gr...\n",
            "1                                            available guys\n",
            "2         we re moving manufacturing plant ‍ ‍ shenzhen ...\n",
            "3         dünya kupasında da güvenin adresi  marsbahis  ...\n",
            "4         rules first test mining utilitynet  utility  u...\n",
            "                                ...                        \n",
            "127228    seabirds breding gough island enjoyed excelent...\n",
            "127229    wouldn’t mind left went least could stil make ...\n",
            "127230                                                 left\n",
            "127231    man walks towards stelworks hartlepol mcculin ...\n",
            "127232    incredible moment suela braverman inadvertentl...\n",
            "Name: text, Length: 102650, dtype: object\n"
          ]
        }
      ]
    },
    {
      "cell_type": "code",
      "source": [
        "vectorizer = CountVectorizer()\n",
        "X = vectorizer.fit_transform(corpus)\n",
        "Y = LabelEncoder().fit_transform(dfTEXT['country'])\n",
        "\n",
        "X_train, X_test, Y_train, Y_test = train_test_split(X, Y, test_size=0.2, stratify=Y, random_state=0)\n",
        "\n",
        "clf = model.fit(X_train, Y_train)\n",
        "Y_predict = clf.predict(X_test)\n",
        "\n",
        "print('Model Train Accuracy (score):', model.score(X_train, Y_train))\n",
        "print('Model Test Accuracy (score):', model.score(X_test, Y_test))\n",
        "print('Mean Absolute Error:', mean_absolute_error(Y_test, Y_predict))  \n",
        "print('Median Absolute Error:', median_absolute_error(Y_test, Y_predict))\n",
        "print(\"Accuracy: \", accuracy_score(Y_test, Y_predict))"
      ],
      "metadata": {
        "colab": {
          "base_uri": "https://localhost:8080/"
        },
        "id": "uZyG8qbMHRHm",
        "outputId": "5ad13bf2-7cc3-45a0-c9fd-da5f39730514"
      },
      "execution_count": 781,
      "outputs": [
        {
          "output_type": "stream",
          "name": "stdout",
          "text": [
            "Model Train Accuracy (score): 0.7304554310764735\n",
            "Model Test Accuracy (score): 0.6661471018022406\n",
            "Mean Absolute Error: 1.484072089624939\n",
            "Median Absolute Error: 0.0\n",
            "Accuracy:  0.6661471018022406\n"
          ]
        }
      ]
    },
    {
      "cell_type": "code",
      "source": [
        "cm = confusion_matrix(Y_test, Y_predict, labels=clf.classes_)\n",
        "disp = ConfusionMatrixDisplay(confusion_matrix=cm, display_labels=clf.classes_)\n",
        "disp.plot()\n",
        "\n",
        "plt.show()"
      ],
      "metadata": {
        "colab": {
          "base_uri": "https://localhost:8080/",
          "height": 279
        },
        "id": "NJYw3swKf3Sf",
        "outputId": "cdb85a57-2104-4f6e-a487-3ac3b5aa52e5"
      },
      "execution_count": 782,
      "outputs": [
        {
          "output_type": "display_data",
          "data": {
            "text/plain": [
              "<Figure size 432x288 with 2 Axes>"
            ],
            "image/png": "[encoded data removed]"
          },
          "metadata": {
            "needs_background": "light"
          }
        }
      ]
    },
    {
      "cell_type": "code",
      "source": [
        "set(Y_test) - set(Y_predict)"
      ],
      "metadata": {
        "colab": {
          "base_uri": "https://localhost:8080/"
        },
        "id": "we-xc88-f6j4",
        "outputId": "e3c6989a-565f-4f42-f48e-f659b94fa9c6"
      },
      "execution_count": 783,
      "outputs": [
        {
          "output_type": "execute_result",
          "data": {
            "text/plain": [
              "set()"
            ]
          },
          "metadata": {},
          "execution_count": 783
        }
      ]
    }
  ]
}