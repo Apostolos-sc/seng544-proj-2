{
  "nbformat": 4,
  "nbformat_minor": 0,
  "metadata": {
    "colab": {
      "provenance": []
    },
    "kernelspec": {
      "name": "python3",
      "display_name": "Python 3"
    },
    "language_info": {
      "name": "python"
    }
  },
  "cells": [
    {
      "cell_type": "markdown",
      "source": [
        "#Twitter Geolocation Prediction using Naïve Bayes"
      ],
      "metadata": {
        "id": "uMw1IFSliD6l"
      }
    },
    {
      "cell_type": "code",
      "source": [
        "import nltk\n",
        "nltk.download('stopwords')\n",
        "nltk.download('punkt')"
      ],
      "metadata": {
        "colab": {
          "base_uri": "https://localhost:8080/"
        },
        "id": "9p59qNhtMGbk",
        "outputId": "4ede9001-3c95-4a45-9389-5285b227dc26"
      },
      "execution_count": 653,
      "outputs": [
        {
          "output_type": "stream",
          "name": "stderr",
          "text": [
            "[nltk_data] Downloading package stopwords to /root/nltk_data...\n",
            "[nltk_data]   Package stopwords is already up-to-date!\n",
            "[nltk_data] Downloading package punkt to /root/nltk_data...\n",
            "[nltk_data]   Package punkt is already up-to-date!\n"
          ]
        },
        {
          "output_type": "execute_result",
          "data": {
            "text/plain": [
              "True"
            ]
          },
          "metadata": {},
          "execution_count": 653
        }
      ]
    },
    {
      "cell_type": "code",
      "execution_count": 654,
      "metadata": {
        "id": "fTOfHfiXMHuy"
      },
      "outputs": [],
      "source": [
        "import pandas as pd\n",
        "from sklearn.naive_bayes import MultinomialNB\n",
        "import csv\n",
        "import os\n",
        "import pandas as pd\n",
        "import numpy as np \n",
        "import datetime\n",
        "import seaborn as sns\n",
        "import matplotlib.pyplot as plt\n",
        "import re\n",
        "from nltk.corpus import stopwords\n",
        "from nltk.tokenize import word_tokenize\n",
        "from collections import Counter\n",
        "from sklearn.feature_extraction.text import CountVectorizer\n",
        "from sklearn.model_selection import train_test_split\n",
        "from sklearn.naive_bayes import MultinomialNB\n",
        "from sklearn.preprocessing import LabelEncoder\n",
        "from sklearn.metrics import classification_report, confusion_matrix, accuracy_score\n",
        "from sklearn.metrics import mean_absolute_error, median_absolute_error"
      ]
    },
    {
      "cell_type": "markdown",
      "source": [
        "## Reading the Dataset"
      ],
      "metadata": {
        "id": "_xb4QtCHiyAy"
      }
    },
    {
      "cell_type": "code",
      "source": [
        "#read the path\n",
        "file_path = \"data.csv\"\n",
        "\n",
        "df = pd.read_csv(file_path)"
      ],
      "metadata": {
        "id": "rVomaWPNkepB"
      },
      "execution_count": 655,
      "outputs": []
    },
    {
      "cell_type": "code",
      "source": [
        "df.head()"
      ],
      "metadata": {
        "colab": {
          "base_uri": "https://localhost:8080/",
          "height": 337
        },
        "id": "xf_eY6knlhWw",
        "outputId": "7ead3102-004d-407a-a453-1dc44292f1ee"
      },
      "execution_count": 656,
      "outputs": [
        {
          "output_type": "execute_result",
          "data": {
            "text/plain": [
              "        user_id                created_at      tweet_id  \\\n",
              "0  1.294095e+18  2022-11-22T22:13:48.000Z  1.595179e+18   \n",
              "1  1.294095e+18  2022-11-22T20:33:39.000Z  1.595154e+18   \n",
              "2  1.294095e+18  2022-11-22T19:14:08.000Z  1.595134e+18   \n",
              "3  1.294095e+18  2022-11-22T16:56:17.000Z  1.595099e+18   \n",
              "4  1.294095e+18  2022-11-22T15:05:37.000Z  1.595071e+18   \n",
              "\n",
              "                                                text country  \n",
              "0  RT @JonnyCaplan: Creative Entrepreneur of the ...     USA  \n",
              "1  RT @JoseMarky_200: @shirtsthtgohard Available ...     USA  \n",
              "2  RT @moyo_world: We're moving our manufacturing...     USA  \n",
              "3  RT @winwinbank: 🏆Dünya Kupasında Da Güvenin Ad...     USA  \n",
              "4  RT @UtilityNet_: The Rules for the First Test ...     USA  "
            ],
            "text/html": [
              "\n",
              "  <div id=\"df-5bb4f738-27e7-4437-b037-7fecf80bada5\">\n",
              "    <div class=\"colab-df-container\">\n",
              "      <div>\n",
              "<style scoped>\n",
              "    .dataframe tbody tr th:only-of-type {\n",
              "        vertical-align: middle;\n",
              "    }\n",
              "\n",
              "    .dataframe tbody tr th {\n",
              "        vertical-align: top;\n",
              "    }\n",
              "\n",
              "    .dataframe thead th {\n",
              "        text-align: right;\n",
              "    }\n",
              "</style>\n",
              "<table border=\"1\" class=\"dataframe\">\n",
              "  <thead>\n",
              "    <tr style=\"text-align: right;\">\n",
              "      <th></th>\n",
              "      <th>user_id</th>\n",
              "      <th>created_at</th>\n",
              "      <th>tweet_id</th>\n",
              "      <th>text</th>\n",
              "      <th>country</th>\n",
              "    </tr>\n",
              "  </thead>\n",
              "  <tbody>\n",
              "    <tr>\n",
              "      <th>0</th>\n",
              "      <td>1.294095e+18</td>\n",
              "      <td>2022-11-22T22:13:48.000Z</td>\n",
              "      <td>1.595179e+18</td>\n",
              "      <td>RT @JonnyCaplan: Creative Entrepreneur of the ...</td>\n",
              "      <td>USA</td>\n",
              "    </tr>\n",
              "    <tr>\n",
              "      <th>1</th>\n",
              "      <td>1.294095e+18</td>\n",
              "      <td>2022-11-22T20:33:39.000Z</td>\n",
              "      <td>1.595154e+18</td>\n",
              "      <td>RT @JoseMarky_200: @shirtsthtgohard Available ...</td>\n",
              "      <td>USA</td>\n",
              "    </tr>\n",
              "    <tr>\n",
              "      <th>2</th>\n",
              "      <td>1.294095e+18</td>\n",
              "      <td>2022-11-22T19:14:08.000Z</td>\n",
              "      <td>1.595134e+18</td>\n",
              "      <td>RT @moyo_world: We're moving our manufacturing...</td>\n",
              "      <td>USA</td>\n",
              "    </tr>\n",
              "    <tr>\n",
              "      <th>3</th>\n",
              "      <td>1.294095e+18</td>\n",
              "      <td>2022-11-22T16:56:17.000Z</td>\n",
              "      <td>1.595099e+18</td>\n",
              "      <td>RT @winwinbank: 🏆Dünya Kupasında Da Güvenin Ad...</td>\n",
              "      <td>USA</td>\n",
              "    </tr>\n",
              "    <tr>\n",
              "      <th>4</th>\n",
              "      <td>1.294095e+18</td>\n",
              "      <td>2022-11-22T15:05:37.000Z</td>\n",
              "      <td>1.595071e+18</td>\n",
              "      <td>RT @UtilityNet_: The Rules for the First Test ...</td>\n",
              "      <td>USA</td>\n",
              "    </tr>\n",
              "  </tbody>\n",
              "</table>\n",
              "</div>\n",
              "      <button class=\"colab-df-convert\" onclick=\"convertToInteractive('df-5bb4f738-27e7-4437-b037-7fecf80bada5')\"\n",
              "              title=\"Convert this dataframe to an interactive table.\"\n",
              "              style=\"display:none;\">\n",
              "        \n",
              "  <svg xmlns=\"http://www.w3.org/2000/svg\" height=\"24px\"viewBox=\"0 0 24 24\"\n",
              "       width=\"24px\">\n",
              "    <path d=\"M0 0h24v24H0V0z\" fill=\"none\"/>\n",
              "    <path d=\"M18.56 5.44l.94 2.06.94-2.06 2.06-.94-2.06-.94-.94-2.06-.94 2.06-2.06.94zm-11 1L8.5 8.5l.94-2.06 2.06-.94-2.06-.94L8.5 2.5l-.94 2.06-2.06.94zm10 10l.94 2.06.94-2.06 2.06-.94-2.06-.94-.94-2.06-.94 2.06-2.06.94z\"/><path d=\"M17.41 7.96l-1.37-1.37c-.4-.4-.92-.59-1.43-.59-.52 0-1.04.2-1.43.59L10.3 9.45l-7.72 7.72c-.78.78-.78 2.05 0 2.83L4 21.41c.39.39.9.59 1.41.59.51 0 1.02-.2 1.41-.59l7.78-7.78 2.81-2.81c.8-.78.8-2.07 0-2.86zM5.41 20L4 18.59l7.72-7.72 1.47 1.35L5.41 20z\"/>\n",
              "  </svg>\n",
              "      </button>\n",
              "      \n",
              "  <style>\n",
              "    .colab-df-container {\n",
              "      display:flex;\n",
              "      flex-wrap:wrap;\n",
              "      gap: 12px;\n",
              "    }\n",
              "\n",
              "    .colab-df-convert {\n",
              "      background-color: #E8F0FE;\n",
              "      border: none;\n",
              "      border-radius: 50%;\n",
              "      cursor: pointer;\n",
              "      display: none;\n",
              "      fill: #1967D2;\n",
              "      height: 32px;\n",
              "      padding: 0 0 0 0;\n",
              "      width: 32px;\n",
              "    }\n",
              "\n",
              "    .colab-df-convert:hover {\n",
              "      background-color: #E2EBFA;\n",
              "      box-shadow: 0px 1px 2px rgba(60, 64, 67, 0.3), 0px 1px 3px 1px rgba(60, 64, 67, 0.15);\n",
              "      fill: #174EA6;\n",
              "    }\n",
              "\n",
              "    [theme=dark] .colab-df-convert {\n",
              "      background-color: #3B4455;\n",
              "      fill: #D2E3FC;\n",
              "    }\n",
              "\n",
              "    [theme=dark] .colab-df-convert:hover {\n",
              "      background-color: #434B5C;\n",
              "      box-shadow: 0px 1px 3px 1px rgba(0, 0, 0, 0.15);\n",
              "      filter: drop-shadow(0px 1px 2px rgba(0, 0, 0, 0.3));\n",
              "      fill: #FFFFFF;\n",
              "    }\n",
              "  </style>\n",
              "\n",
              "      <script>\n",
              "        const buttonEl =\n",
              "          document.querySelector('#df-5bb4f738-27e7-4437-b037-7fecf80bada5 button.colab-df-convert');\n",
              "        buttonEl.style.display =\n",
              "          google.colab.kernel.accessAllowed ? 'block' : 'none';\n",
              "\n",
              "        async function convertToInteractive(key) {\n",
              "          const element = document.querySelector('#df-5bb4f738-27e7-4437-b037-7fecf80bada5');\n",
              "          const dataTable =\n",
              "            await google.colab.kernel.invokeFunction('convertToInteractive',\n",
              "                                                     [key], {});\n",
              "          if (!dataTable) return;\n",
              "\n",
              "          const docLinkHtml = 'Like what you see? Visit the ' +\n",
              "            '<a target=\"_blank\" href=https://colab.research.google.com/notebooks/data_table.ipynb>data table notebook</a>'\n",
              "            + ' to learn more about interactive tables.';\n",
              "          element.innerHTML = '';\n",
              "          dataTable['output_type'] = 'display_data';\n",
              "          await google.colab.output.renderOutput(dataTable, element);\n",
              "          const docLink = document.createElement('div');\n",
              "          docLink.innerHTML = docLinkHtml;\n",
              "          element.appendChild(docLink);\n",
              "        }\n",
              "      </script>\n",
              "    </div>\n",
              "  </div>\n",
              "  "
            ]
          },
          "metadata": {},
          "execution_count": 656
        }
      ]
    },
    {
      "cell_type": "code",
      "source": [
        "df.info()"
      ],
      "metadata": {
        "colab": {
          "base_uri": "https://localhost:8080/"
        },
        "id": "sNZTC2Fil2zA",
        "outputId": "6a96ddea-7c5f-4c25-c0b6-65e98ff86458"
      },
      "execution_count": 657,
      "outputs": [
        {
          "output_type": "stream",
          "name": "stdout",
          "text": [
            "<class 'pandas.core.frame.DataFrame'>\n",
            "RangeIndex: 127333 entries, 0 to 127332\n",
            "Data columns (total 5 columns):\n",
            " #   Column      Non-Null Count   Dtype  \n",
            "---  ------      --------------   -----  \n",
            " 0   user_id     127333 non-null  float64\n",
            " 1   created_at  127333 non-null  object \n",
            " 2   tweet_id    127333 non-null  float64\n",
            " 3   text        127333 non-null  object \n",
            " 4   country     127333 non-null  object \n",
            "dtypes: float64(2), object(3)\n",
            "memory usage: 4.9+ MB\n"
          ]
        }
      ]
    },
    {
      "cell_type": "markdown",
      "source": [
        "Converting created_at from type object to pandas datetime format."
      ],
      "metadata": {
        "id": "j8g9QPljmPjB"
      }
    },
    {
      "cell_type": "code",
      "source": [
        "df['created_at'] = pd.to_datetime(df['created_at'])\n",
        "df.info()"
      ],
      "metadata": {
        "colab": {
          "base_uri": "https://localhost:8080/"
        },
        "id": "nU9r1xtvmAvJ",
        "outputId": "8f716e37-4e7d-4bc2-a314-8234ca7f8ab8"
      },
      "execution_count": 658,
      "outputs": [
        {
          "output_type": "stream",
          "name": "stdout",
          "text": [
            "<class 'pandas.core.frame.DataFrame'>\n",
            "RangeIndex: 127333 entries, 0 to 127332\n",
            "Data columns (total 5 columns):\n",
            " #   Column      Non-Null Count   Dtype              \n",
            "---  ------      --------------   -----              \n",
            " 0   user_id     127333 non-null  float64            \n",
            " 1   created_at  127333 non-null  datetime64[ns, UTC]\n",
            " 2   tweet_id    127333 non-null  float64            \n",
            " 3   text        127333 non-null  object             \n",
            " 4   country     127333 non-null  object             \n",
            "dtypes: datetime64[ns, UTC](1), float64(2), object(2)\n",
            "memory usage: 4.9+ MB\n"
          ]
        }
      ]
    },
    {
      "cell_type": "markdown",
      "source": [
        "Visualising Tweets Count Per Country"
      ],
      "metadata": {
        "id": "qcFTBnqaoArb"
      }
    },
    {
      "cell_type": "code",
      "source": [
        "tweets_per_country = df['country'].value_counts().loc[lambda x : x > 100].reset_index(name='counts')"
      ],
      "metadata": {
        "id": "wXfTi9bxqAYk"
      },
      "execution_count": 659,
      "outputs": []
    },
    {
      "cell_type": "code",
      "source": [
        "plt.figure(figsize=(15,6))\n",
        "ax = sns.barplot(x='index', y='counts', data=tweets_per_country,edgecolor = 'black',ci=False, palette='Spectral')\n",
        "plt.title('Tweets Count by Country')\n",
        "plt.xticks(rotation=70)\n",
        "plt.yticks()\n",
        "plt.ylabel('Count')\n",
        "plt.xlabel('')\n",
        "plt.show()"
      ],
      "metadata": {
        "colab": {
          "base_uri": "https://localhost:8080/",
          "height": 388
        },
        "id": "-RDawm7dqFuo",
        "outputId": "c6b62444-73c6-4c96-91b4-ef1098fcfd2a"
      },
      "execution_count": 660,
      "outputs": [
        {
          "output_type": "display_data",
          "data": {
            "text/plain": [
              "<Figure size 1080x432 with 1 Axes>"
            ],
            "image/png": "[encoded data removed]"
          },
          "metadata": {
            "needs_background": "light"
          }
        }
      ]
    },
    {
      "cell_type": "markdown",
      "source": [
        "We can see that USA significantly dominates all the other countries by Tweet counts."
      ],
      "metadata": {
        "id": "SEiHhigGvFLB"
      }
    },
    {
      "cell_type": "markdown",
      "source": [
        "## Preprocessing the Dataset"
      ],
      "metadata": {
        "id": "T9A-3YR9mqLO"
      }
    },
    {
      "cell_type": "markdown",
      "source": [
        "Due to an on-going World-Cup Event, I will not use **City/Country Names (CC)** as suggested in the paper. This is due to an overuse of many Country names to describe certain games.\n",
        "\n",
        "**Location IndicativeWords (LIW)** won't be used either due to the lack of clarification."
      ],
      "metadata": {
        "id": "iXwzry08wpn2"
      }
    },
    {
      "cell_type": "markdown",
      "source": [
        "###Creating #Hashtags (HASH) DataFrame"
      ],
      "metadata": {
        "id": "efaeKAvwnatC"
      }
    },
    {
      "cell_type": "code",
      "source": [
        "dfHASH = df.copy()"
      ],
      "metadata": {
        "id": "QBkHMa8Z00QQ"
      },
      "execution_count": 661,
      "outputs": []
    },
    {
      "cell_type": "code",
      "source": [
        "pattern = r'#\\S+'\n",
        "\n",
        "search = []    \n",
        "for values in dfHASH['text']:\n",
        "  hash = re.findall(pattern, values)\n",
        "  search.append(hash)\n",
        "\n",
        "dfHASH['hashtag'] = search"
      ],
      "metadata": {
        "id": "zFO0SYCfncXa"
      },
      "execution_count": 662,
      "outputs": []
    },
    {
      "cell_type": "code",
      "source": [
        "dfHASH.head()"
      ],
      "metadata": {
        "colab": {
          "base_uri": "https://localhost:8080/",
          "height": 424
        },
        "id": "_TR2MsJpkVjs",
        "outputId": "709f856b-641f-4b7f-b996-13935fd227f6"
      },
      "execution_count": 663,
      "outputs": [
        {
          "output_type": "execute_result",
          "data": {
            "text/plain": [
              "        user_id                created_at      tweet_id  \\\n",
              "0  1.294095e+18 2022-11-22 22:13:48+00:00  1.595179e+18   \n",
              "1  1.294095e+18 2022-11-22 20:33:39+00:00  1.595154e+18   \n",
              "2  1.294095e+18 2022-11-22 19:14:08+00:00  1.595134e+18   \n",
              "3  1.294095e+18 2022-11-22 16:56:17+00:00  1.595099e+18   \n",
              "4  1.294095e+18 2022-11-22 15:05:37+00:00  1.595071e+18   \n",
              "\n",
              "                                                text country  \\\n",
              "0  RT @JonnyCaplan: Creative Entrepreneur of the ...     USA   \n",
              "1  RT @JoseMarky_200: @shirtsthtgohard Available ...     USA   \n",
              "2  RT @moyo_world: We're moving our manufacturing...     USA   \n",
              "3  RT @winwinbank: 🏆Dünya Kupasında Da Güvenin Ad...     USA   \n",
              "4  RT @UtilityNet_: The Rules for the First Test ...     USA   \n",
              "\n",
              "                                             hashtag  \n",
              "0                                                 []  \n",
              "1                                                 []  \n",
              "2                                 [#Shenzhen, #ele…]  \n",
              "3                             [#Marsbahis, #MarsBet]  \n",
              "4  [#utility, #utilitynet, #BigData, #Analytics, ...  "
            ],
            "text/html": [
              "\n",
              "  <div id=\"df-987de8f1-0a76-457a-b550-7e02d0a49e01\">\n",
              "    <div class=\"colab-df-container\">\n",
              "      <div>\n",
              "<style scoped>\n",
              "    .dataframe tbody tr th:only-of-type {\n",
              "        vertical-align: middle;\n",
              "    }\n",
              "\n",
              "    .dataframe tbody tr th {\n",
              "        vertical-align: top;\n",
              "    }\n",
              "\n",
              "    .dataframe thead th {\n",
              "        text-align: right;\n",
              "    }\n",
              "</style>\n",
              "<table border=\"1\" class=\"dataframe\">\n",
              "  <thead>\n",
              "    <tr style=\"text-align: right;\">\n",
              "      <th></th>\n",
              "      <th>user_id</th>\n",
              "      <th>created_at</th>\n",
              "      <th>tweet_id</th>\n",
              "      <th>text</th>\n",
              "      <th>country</th>\n",
              "      <th>hashtag</th>\n",
              "    </tr>\n",
              "  </thead>\n",
              "  <tbody>\n",
              "    <tr>\n",
              "      <th>0</th>\n",
              "      <td>1.294095e+18</td>\n",
              "      <td>2022-11-22 22:13:48+00:00</td>\n",
              "      <td>1.595179e+18</td>\n",
              "      <td>RT @JonnyCaplan: Creative Entrepreneur of the ...</td>\n",
              "      <td>USA</td>\n",
              "      <td>[]</td>\n",
              "    </tr>\n",
              "    <tr>\n",
              "      <th>1</th>\n",
              "      <td>1.294095e+18</td>\n",
              "      <td>2022-11-22 20:33:39+00:00</td>\n",
              "      <td>1.595154e+18</td>\n",
              "      <td>RT @JoseMarky_200: @shirtsthtgohard Available ...</td>\n",
              "      <td>USA</td>\n",
              "      <td>[]</td>\n",
              "    </tr>\n",
              "    <tr>\n",
              "      <th>2</th>\n",
              "      <td>1.294095e+18</td>\n",
              "      <td>2022-11-22 19:14:08+00:00</td>\n",
              "      <td>1.595134e+18</td>\n",
              "      <td>RT @moyo_world: We're moving our manufacturing...</td>\n",
              "      <td>USA</td>\n",
              "      <td>[#Shenzhen, #ele…]</td>\n",
              "    </tr>\n",
              "    <tr>\n",
              "      <th>3</th>\n",
              "      <td>1.294095e+18</td>\n",
              "      <td>2022-11-22 16:56:17+00:00</td>\n",
              "      <td>1.595099e+18</td>\n",
              "      <td>RT @winwinbank: 🏆Dünya Kupasında Da Güvenin Ad...</td>\n",
              "      <td>USA</td>\n",
              "      <td>[#Marsbahis, #MarsBet]</td>\n",
              "    </tr>\n",
              "    <tr>\n",
              "      <th>4</th>\n",
              "      <td>1.294095e+18</td>\n",
              "      <td>2022-11-22 15:05:37+00:00</td>\n",
              "      <td>1.595071e+18</td>\n",
              "      <td>RT @UtilityNet_: The Rules for the First Test ...</td>\n",
              "      <td>USA</td>\n",
              "      <td>[#utility, #utilitynet, #BigData, #Analytics, ...</td>\n",
              "    </tr>\n",
              "  </tbody>\n",
              "</table>\n",
              "</div>\n",
              "      <button class=\"colab-df-convert\" onclick=\"convertToInteractive('df-987de8f1-0a76-457a-b550-7e02d0a49e01')\"\n",
              "              title=\"Convert this dataframe to an interactive table.\"\n",
              "              style=\"display:none;\">\n",
              "        \n",
              "  <svg xmlns=\"http://www.w3.org/2000/svg\" height=\"24px\"viewBox=\"0 0 24 24\"\n",
              "       width=\"24px\">\n",
              "    <path d=\"M0 0h24v24H0V0z\" fill=\"none\"/>\n",
              "    <path d=\"M18.56 5.44l.94 2.06.94-2.06 2.06-.94-2.06-.94-.94-2.06-.94 2.06-2.06.94zm-11 1L8.5 8.5l.94-2.06 2.06-.94-2.06-.94L8.5 2.5l-.94 2.06-2.06.94zm10 10l.94 2.06.94-2.06 2.06-.94-2.06-.94-.94-2.06-.94 2.06-2.06.94z\"/><path d=\"M17.41 7.96l-1.37-1.37c-.4-.4-.92-.59-1.43-.59-.52 0-1.04.2-1.43.59L10.3 9.45l-7.72 7.72c-.78.78-.78 2.05 0 2.83L4 21.41c.39.39.9.59 1.41.59.51 0 1.02-.2 1.41-.59l7.78-7.78 2.81-2.81c.8-.78.8-2.07 0-2.86zM5.41 20L4 18.59l7.72-7.72 1.47 1.35L5.41 20z\"/>\n",
              "  </svg>\n",
              "      </button>\n",
              "      \n",
              "  <style>\n",
              "    .colab-df-container {\n",
              "      display:flex;\n",
              "      flex-wrap:wrap;\n",
              "      gap: 12px;\n",
              "    }\n",
              "\n",
              "    .colab-df-convert {\n",
              "      background-color: #E8F0FE;\n",
              "      border: none;\n",
              "      border-radius: 50%;\n",
              "      cursor: pointer;\n",
              "      display: none;\n",
              "      fill: #1967D2;\n",
              "      height: 32px;\n",
              "      padding: 0 0 0 0;\n",
              "      width: 32px;\n",
              "    }\n",
              "\n",
              "    .colab-df-convert:hover {\n",
              "      background-color: #E2EBFA;\n",
              "      box-shadow: 0px 1px 2px rgba(60, 64, 67, 0.3), 0px 1px 3px 1px rgba(60, 64, 67, 0.15);\n",
              "      fill: #174EA6;\n",
              "    }\n",
              "\n",
              "    [theme=dark] .colab-df-convert {\n",
              "      background-color: #3B4455;\n",
              "      fill: #D2E3FC;\n",
              "    }\n",
              "\n",
              "    [theme=dark] .colab-df-convert:hover {\n",
              "      background-color: #434B5C;\n",
              "      box-shadow: 0px 1px 3px 1px rgba(0, 0, 0, 0.15);\n",
              "      filter: drop-shadow(0px 1px 2px rgba(0, 0, 0, 0.3));\n",
              "      fill: #FFFFFF;\n",
              "    }\n",
              "  </style>\n",
              "\n",
              "      <script>\n",
              "        const buttonEl =\n",
              "          document.querySelector('#df-987de8f1-0a76-457a-b550-7e02d0a49e01 button.colab-df-convert');\n",
              "        buttonEl.style.display =\n",
              "          google.colab.kernel.accessAllowed ? 'block' : 'none';\n",
              "\n",
              "        async function convertToInteractive(key) {\n",
              "          const element = document.querySelector('#df-987de8f1-0a76-457a-b550-7e02d0a49e01');\n",
              "          const dataTable =\n",
              "            await google.colab.kernel.invokeFunction('convertToInteractive',\n",
              "                                                     [key], {});\n",
              "          if (!dataTable) return;\n",
              "\n",
              "          const docLinkHtml = 'Like what you see? Visit the ' +\n",
              "            '<a target=\"_blank\" href=https://colab.research.google.com/notebooks/data_table.ipynb>data table notebook</a>'\n",
              "            + ' to learn more about interactive tables.';\n",
              "          element.innerHTML = '';\n",
              "          dataTable['output_type'] = 'display_data';\n",
              "          await google.colab.output.renderOutput(dataTable, element);\n",
              "          const docLink = document.createElement('div');\n",
              "          docLink.innerHTML = docLinkHtml;\n",
              "          element.appendChild(docLink);\n",
              "        }\n",
              "      </script>\n",
              "    </div>\n",
              "  </div>\n",
              "  "
            ]
          },
          "metadata": {},
          "execution_count": 663
        }
      ]
    },
    {
      "cell_type": "code",
      "source": [
        "dfHASH.info()"
      ],
      "metadata": {
        "colab": {
          "base_uri": "https://localhost:8080/"
        },
        "id": "VPcy6UWA2faF",
        "outputId": "87441d64-e1bd-4c64-baa5-f3c49606e280"
      },
      "execution_count": 664,
      "outputs": [
        {
          "output_type": "stream",
          "name": "stdout",
          "text": [
            "<class 'pandas.core.frame.DataFrame'>\n",
            "RangeIndex: 127333 entries, 0 to 127332\n",
            "Data columns (total 6 columns):\n",
            " #   Column      Non-Null Count   Dtype              \n",
            "---  ------      --------------   -----              \n",
            " 0   user_id     127333 non-null  float64            \n",
            " 1   created_at  127333 non-null  datetime64[ns, UTC]\n",
            " 2   tweet_id    127333 non-null  float64            \n",
            " 3   text        127333 non-null  object             \n",
            " 4   country     127333 non-null  object             \n",
            " 5   hashtag     127333 non-null  object             \n",
            "dtypes: datetime64[ns, UTC](1), float64(2), object(3)\n",
            "memory usage: 5.8+ MB\n"
          ]
        }
      ]
    },
    {
      "cell_type": "code",
      "source": [
        "print(\"Number of Rows: \" + str(len(dfHASH.index)))"
      ],
      "metadata": {
        "colab": {
          "base_uri": "https://localhost:8080/"
        },
        "id": "K_pihEcY0NL5",
        "outputId": "375c7622-b1dc-4f6c-cb15-e1b6d3934a8e"
      },
      "execution_count": 665,
      "outputs": [
        {
          "output_type": "stream",
          "name": "stdout",
          "text": [
            "Number of Rows: 127333\n"
          ]
        }
      ]
    },
    {
      "cell_type": "code",
      "source": [
        "dfHASH = dfHASH.drop(columns=['user_id', 'created_at', 'tweet_id', 'text'])"
      ],
      "metadata": {
        "id": "oDu8JhVO2KVy"
      },
      "execution_count": 666,
      "outputs": []
    },
    {
      "cell_type": "code",
      "source": [
        "dfHASH.info()"
      ],
      "metadata": {
        "colab": {
          "base_uri": "https://localhost:8080/"
        },
        "id": "BAegOoTK3GKI",
        "outputId": "72e7838e-70d3-4189-dc1e-ca865356991f"
      },
      "execution_count": 667,
      "outputs": [
        {
          "output_type": "stream",
          "name": "stdout",
          "text": [
            "<class 'pandas.core.frame.DataFrame'>\n",
            "RangeIndex: 127333 entries, 0 to 127332\n",
            "Data columns (total 2 columns):\n",
            " #   Column   Non-Null Count   Dtype \n",
            "---  ------   --------------   ----- \n",
            " 0   country  127333 non-null  object\n",
            " 1   hashtag  127333 non-null  object\n",
            "dtypes: object(2)\n",
            "memory usage: 1.9+ MB\n"
          ]
        }
      ]
    },
    {
      "cell_type": "code",
      "source": [
        "dfHASH = dfHASH[dfHASH['hashtag'].map(lambda x: len(x)) > 0]"
      ],
      "metadata": {
        "id": "BA2jEPhU3aE-"
      },
      "execution_count": 668,
      "outputs": []
    },
    {
      "cell_type": "code",
      "source": [
        "print(\"Number of Rows: \" + str(len(dfHASH.index)))"
      ],
      "metadata": {
        "colab": {
          "base_uri": "https://localhost:8080/"
        },
        "id": "Iy66WDPf3k1f",
        "outputId": "9f1ef2ec-daa7-413f-8648-f1b3e248ed09"
      },
      "execution_count": 669,
      "outputs": [
        {
          "output_type": "stream",
          "name": "stdout",
          "text": [
            "Number of Rows: 20129\n"
          ]
        }
      ]
    },
    {
      "cell_type": "code",
      "source": [
        "dfHASH.head()"
      ],
      "metadata": {
        "colab": {
          "base_uri": "https://localhost:8080/",
          "height": 206
        },
        "id": "PA_gfqrKlzfn",
        "outputId": "d2177b8d-beec-4693-bf43-3bcc178fad69"
      },
      "execution_count": 670,
      "outputs": [
        {
          "output_type": "execute_result",
          "data": {
            "text/plain": [
              "  country                                            hashtag\n",
              "2     USA                                 [#Shenzhen, #ele…]\n",
              "3     USA                             [#Marsbahis, #MarsBet]\n",
              "4     USA  [#utility, #utilitynet, #BigData, #Analytics, ...\n",
              "6     USA              [#塔卡尔世界杯, #世界杯冠军预测, #足球, #开云, #真人百家乐]\n",
              "7     USA              [#塔卡尔世界杯, #世界杯冠军预测, #足球, #开云, #真人百家乐]"
            ],
            "text/html": [
              "\n",
              "  <div id=\"df-be05cfc7-6da3-46af-96a3-c6ca58c7948d\">\n",
              "    <div class=\"colab-df-container\">\n",
              "      <div>\n",
              "<style scoped>\n",
              "    .dataframe tbody tr th:only-of-type {\n",
              "        vertical-align: middle;\n",
              "    }\n",
              "\n",
              "    .dataframe tbody tr th {\n",
              "        vertical-align: top;\n",
              "    }\n",
              "\n",
              "    .dataframe thead th {\n",
              "        text-align: right;\n",
              "    }\n",
              "</style>\n",
              "<table border=\"1\" class=\"dataframe\">\n",
              "  <thead>\n",
              "    <tr style=\"text-align: right;\">\n",
              "      <th></th>\n",
              "      <th>country</th>\n",
              "      <th>hashtag</th>\n",
              "    </tr>\n",
              "  </thead>\n",
              "  <tbody>\n",
              "    <tr>\n",
              "      <th>2</th>\n",
              "      <td>USA</td>\n",
              "      <td>[#Shenzhen, #ele…]</td>\n",
              "    </tr>\n",
              "    <tr>\n",
              "      <th>3</th>\n",
              "      <td>USA</td>\n",
              "      <td>[#Marsbahis, #MarsBet]</td>\n",
              "    </tr>\n",
              "    <tr>\n",
              "      <th>4</th>\n",
              "      <td>USA</td>\n",
              "      <td>[#utility, #utilitynet, #BigData, #Analytics, ...</td>\n",
              "    </tr>\n",
              "    <tr>\n",
              "      <th>6</th>\n",
              "      <td>USA</td>\n",
              "      <td>[#塔卡尔世界杯, #世界杯冠军预测, #足球, #开云, #真人百家乐]</td>\n",
              "    </tr>\n",
              "    <tr>\n",
              "      <th>7</th>\n",
              "      <td>USA</td>\n",
              "      <td>[#塔卡尔世界杯, #世界杯冠军预测, #足球, #开云, #真人百家乐]</td>\n",
              "    </tr>\n",
              "  </tbody>\n",
              "</table>\n",
              "</div>\n",
              "      <button class=\"colab-df-convert\" onclick=\"convertToInteractive('df-be05cfc7-6da3-46af-96a3-c6ca58c7948d')\"\n",
              "              title=\"Convert this dataframe to an interactive table.\"\n",
              "              style=\"display:none;\">\n",
              "        \n",
              "  <svg xmlns=\"http://www.w3.org/2000/svg\" height=\"24px\"viewBox=\"0 0 24 24\"\n",
              "       width=\"24px\">\n",
              "    <path d=\"M0 0h24v24H0V0z\" fill=\"none\"/>\n",
              "    <path d=\"M18.56 5.44l.94 2.06.94-2.06 2.06-.94-2.06-.94-.94-2.06-.94 2.06-2.06.94zm-11 1L8.5 8.5l.94-2.06 2.06-.94-2.06-.94L8.5 2.5l-.94 2.06-2.06.94zm10 10l.94 2.06.94-2.06 2.06-.94-2.06-.94-.94-2.06-.94 2.06-2.06.94z\"/><path d=\"M17.41 7.96l-1.37-1.37c-.4-.4-.92-.59-1.43-.59-.52 0-1.04.2-1.43.59L10.3 9.45l-7.72 7.72c-.78.78-.78 2.05 0 2.83L4 21.41c.39.39.9.59 1.41.59.51 0 1.02-.2 1.41-.59l7.78-7.78 2.81-2.81c.8-.78.8-2.07 0-2.86zM5.41 20L4 18.59l7.72-7.72 1.47 1.35L5.41 20z\"/>\n",
              "  </svg>\n",
              "      </button>\n",
              "      \n",
              "  <style>\n",
              "    .colab-df-container {\n",
              "      display:flex;\n",
              "      flex-wrap:wrap;\n",
              "      gap: 12px;\n",
              "    }\n",
              "\n",
              "    .colab-df-convert {\n",
              "      background-color: #E8F0FE;\n",
              "      border: none;\n",
              "      border-radius: 50%;\n",
              "      cursor: pointer;\n",
              "      display: none;\n",
              "      fill: #1967D2;\n",
              "      height: 32px;\n",
              "      padding: 0 0 0 0;\n",
              "      width: 32px;\n",
              "    }\n",
              "\n",
              "    .colab-df-convert:hover {\n",
              "      background-color: #E2EBFA;\n",
              "      box-shadow: 0px 1px 2px rgba(60, 64, 67, 0.3), 0px 1px 3px 1px rgba(60, 64, 67, 0.15);\n",
              "      fill: #174EA6;\n",
              "    }\n",
              "\n",
              "    [theme=dark] .colab-df-convert {\n",
              "      background-color: #3B4455;\n",
              "      fill: #D2E3FC;\n",
              "    }\n",
              "\n",
              "    [theme=dark] .colab-df-convert:hover {\n",
              "      background-color: #434B5C;\n",
              "      box-shadow: 0px 1px 3px 1px rgba(0, 0, 0, 0.15);\n",
              "      filter: drop-shadow(0px 1px 2px rgba(0, 0, 0, 0.3));\n",
              "      fill: #FFFFFF;\n",
              "    }\n",
              "  </style>\n",
              "\n",
              "      <script>\n",
              "        const buttonEl =\n",
              "          document.querySelector('#df-be05cfc7-6da3-46af-96a3-c6ca58c7948d button.colab-df-convert');\n",
              "        buttonEl.style.display =\n",
              "          google.colab.kernel.accessAllowed ? 'block' : 'none';\n",
              "\n",
              "        async function convertToInteractive(key) {\n",
              "          const element = document.querySelector('#df-be05cfc7-6da3-46af-96a3-c6ca58c7948d');\n",
              "          const dataTable =\n",
              "            await google.colab.kernel.invokeFunction('convertToInteractive',\n",
              "                                                     [key], {});\n",
              "          if (!dataTable) return;\n",
              "\n",
              "          const docLinkHtml = 'Like what you see? Visit the ' +\n",
              "            '<a target=\"_blank\" href=https://colab.research.google.com/notebooks/data_table.ipynb>data table notebook</a>'\n",
              "            + ' to learn more about interactive tables.';\n",
              "          element.innerHTML = '';\n",
              "          dataTable['output_type'] = 'display_data';\n",
              "          await google.colab.output.renderOutput(dataTable, element);\n",
              "          const docLink = document.createElement('div');\n",
              "          docLink.innerHTML = docLinkHtml;\n",
              "          element.appendChild(docLink);\n",
              "        }\n",
              "      </script>\n",
              "    </div>\n",
              "  </div>\n",
              "  "
            ]
          },
          "metadata": {},
          "execution_count": 670
        }
      ]
    },
    {
      "cell_type": "code",
      "source": [
        "dfHASH = dfHASH.explode('hashtag')"
      ],
      "metadata": {
        "id": "G4NnHLkkGzaF"
      },
      "execution_count": 671,
      "outputs": []
    },
    {
      "cell_type": "code",
      "source": [
        "dfHASH.head()"
      ],
      "metadata": {
        "colab": {
          "base_uri": "https://localhost:8080/",
          "height": 206
        },
        "id": "8eB0J_LUG0VI",
        "outputId": "196da0c3-74e7-44a3-c8c7-44ac4b3468a9"
      },
      "execution_count": 672,
      "outputs": [
        {
          "output_type": "execute_result",
          "data": {
            "text/plain": [
              "  country     hashtag\n",
              "2     USA   #Shenzhen\n",
              "2     USA       #ele…\n",
              "3     USA  #Marsbahis\n",
              "3     USA    #MarsBet\n",
              "4     USA    #utility"
            ],
            "text/html": [
              "\n",
              "  <div id=\"df-02c839ce-d81b-44ac-8c4b-bea6817b9c88\">\n",
              "    <div class=\"colab-df-container\">\n",
              "      <div>\n",
              "<style scoped>\n",
              "    .dataframe tbody tr th:only-of-type {\n",
              "        vertical-align: middle;\n",
              "    }\n",
              "\n",
              "    .dataframe tbody tr th {\n",
              "        vertical-align: top;\n",
              "    }\n",
              "\n",
              "    .dataframe thead th {\n",
              "        text-align: right;\n",
              "    }\n",
              "</style>\n",
              "<table border=\"1\" class=\"dataframe\">\n",
              "  <thead>\n",
              "    <tr style=\"text-align: right;\">\n",
              "      <th></th>\n",
              "      <th>country</th>\n",
              "      <th>hashtag</th>\n",
              "    </tr>\n",
              "  </thead>\n",
              "  <tbody>\n",
              "    <tr>\n",
              "      <th>2</th>\n",
              "      <td>USA</td>\n",
              "      <td>#Shenzhen</td>\n",
              "    </tr>\n",
              "    <tr>\n",
              "      <th>2</th>\n",
              "      <td>USA</td>\n",
              "      <td>#ele…</td>\n",
              "    </tr>\n",
              "    <tr>\n",
              "      <th>3</th>\n",
              "      <td>USA</td>\n",
              "      <td>#Marsbahis</td>\n",
              "    </tr>\n",
              "    <tr>\n",
              "      <th>3</th>\n",
              "      <td>USA</td>\n",
              "      <td>#MarsBet</td>\n",
              "    </tr>\n",
              "    <tr>\n",
              "      <th>4</th>\n",
              "      <td>USA</td>\n",
              "      <td>#utility</td>\n",
              "    </tr>\n",
              "  </tbody>\n",
              "</table>\n",
              "</div>\n",
              "      <button class=\"colab-df-convert\" onclick=\"convertToInteractive('df-02c839ce-d81b-44ac-8c4b-bea6817b9c88')\"\n",
              "              title=\"Convert this dataframe to an interactive table.\"\n",
              "              style=\"display:none;\">\n",
              "        \n",
              "  <svg xmlns=\"http://www.w3.org/2000/svg\" height=\"24px\"viewBox=\"0 0 24 24\"\n",
              "       width=\"24px\">\n",
              "    <path d=\"M0 0h24v24H0V0z\" fill=\"none\"/>\n",
              "    <path d=\"M18.56 5.44l.94 2.06.94-2.06 2.06-.94-2.06-.94-.94-2.06-.94 2.06-2.06.94zm-11 1L8.5 8.5l.94-2.06 2.06-.94-2.06-.94L8.5 2.5l-.94 2.06-2.06.94zm10 10l.94 2.06.94-2.06 2.06-.94-2.06-.94-.94-2.06-.94 2.06-2.06.94z\"/><path d=\"M17.41 7.96l-1.37-1.37c-.4-.4-.92-.59-1.43-.59-.52 0-1.04.2-1.43.59L10.3 9.45l-7.72 7.72c-.78.78-.78 2.05 0 2.83L4 21.41c.39.39.9.59 1.41.59.51 0 1.02-.2 1.41-.59l7.78-7.78 2.81-2.81c.8-.78.8-2.07 0-2.86zM5.41 20L4 18.59l7.72-7.72 1.47 1.35L5.41 20z\"/>\n",
              "  </svg>\n",
              "      </button>\n",
              "      \n",
              "  <style>\n",
              "    .colab-df-container {\n",
              "      display:flex;\n",
              "      flex-wrap:wrap;\n",
              "      gap: 12px;\n",
              "    }\n",
              "\n",
              "    .colab-df-convert {\n",
              "      background-color: #E8F0FE;\n",
              "      border: none;\n",
              "      border-radius: 50%;\n",
              "      cursor: pointer;\n",
              "      display: none;\n",
              "      fill: #1967D2;\n",
              "      height: 32px;\n",
              "      padding: 0 0 0 0;\n",
              "      width: 32px;\n",
              "    }\n",
              "\n",
              "    .colab-df-convert:hover {\n",
              "      background-color: #E2EBFA;\n",
              "      box-shadow: 0px 1px 2px rgba(60, 64, 67, 0.3), 0px 1px 3px 1px rgba(60, 64, 67, 0.15);\n",
              "      fill: #174EA6;\n",
              "    }\n",
              "\n",
              "    [theme=dark] .colab-df-convert {\n",
              "      background-color: #3B4455;\n",
              "      fill: #D2E3FC;\n",
              "    }\n",
              "\n",
              "    [theme=dark] .colab-df-convert:hover {\n",
              "      background-color: #434B5C;\n",
              "      box-shadow: 0px 1px 3px 1px rgba(0, 0, 0, 0.15);\n",
              "      filter: drop-shadow(0px 1px 2px rgba(0, 0, 0, 0.3));\n",
              "      fill: #FFFFFF;\n",
              "    }\n",
              "  </style>\n",
              "\n",
              "      <script>\n",
              "        const buttonEl =\n",
              "          document.querySelector('#df-02c839ce-d81b-44ac-8c4b-bea6817b9c88 button.colab-df-convert');\n",
              "        buttonEl.style.display =\n",
              "          google.colab.kernel.accessAllowed ? 'block' : 'none';\n",
              "\n",
              "        async function convertToInteractive(key) {\n",
              "          const element = document.querySelector('#df-02c839ce-d81b-44ac-8c4b-bea6817b9c88');\n",
              "          const dataTable =\n",
              "            await google.colab.kernel.invokeFunction('convertToInteractive',\n",
              "                                                     [key], {});\n",
              "          if (!dataTable) return;\n",
              "\n",
              "          const docLinkHtml = 'Like what you see? Visit the ' +\n",
              "            '<a target=\"_blank\" href=https://colab.research.google.com/notebooks/data_table.ipynb>data table notebook</a>'\n",
              "            + ' to learn more about interactive tables.';\n",
              "          element.innerHTML = '';\n",
              "          dataTable['output_type'] = 'display_data';\n",
              "          await google.colab.output.renderOutput(dataTable, element);\n",
              "          const docLink = document.createElement('div');\n",
              "          docLink.innerHTML = docLinkHtml;\n",
              "          element.appendChild(docLink);\n",
              "        }\n",
              "      </script>\n",
              "    </div>\n",
              "  </div>\n",
              "  "
            ]
          },
          "metadata": {},
          "execution_count": 672
        }
      ]
    },
    {
      "cell_type": "markdown",
      "source": [
        "###Creating @Mentions (MENT) DataFrame"
      ],
      "metadata": {
        "id": "ArNehv_uwMrU"
      }
    },
    {
      "cell_type": "code",
      "source": [
        "dfMENT = df.copy()"
      ],
      "metadata": {
        "id": "Necof3kuwUUI"
      },
      "execution_count": 673,
      "outputs": []
    },
    {
      "cell_type": "code",
      "source": [
        "pattern = r'@[^:\\s]+'\n",
        "\n",
        "search = []    \n",
        "for values in dfMENT['text']:\n",
        "  ment = re.findall(pattern, values)\n",
        "  search.append(ment)\n",
        "\n",
        "dfMENT['mention'] = search"
      ],
      "metadata": {
        "id": "9iqiBGOoj7bc"
      },
      "execution_count": 674,
      "outputs": []
    },
    {
      "cell_type": "code",
      "source": [
        "dfMENT.head()"
      ],
      "metadata": {
        "colab": {
          "base_uri": "https://localhost:8080/",
          "height": 406
        },
        "id": "_OojZdBnpwzp",
        "outputId": "5da3c135-6627-427b-af6b-4ed23f17a294"
      },
      "execution_count": 675,
      "outputs": [
        {
          "output_type": "execute_result",
          "data": {
            "text/plain": [
              "        user_id                created_at      tweet_id  \\\n",
              "0  1.294095e+18 2022-11-22 22:13:48+00:00  1.595179e+18   \n",
              "1  1.294095e+18 2022-11-22 20:33:39+00:00  1.595154e+18   \n",
              "2  1.294095e+18 2022-11-22 19:14:08+00:00  1.595134e+18   \n",
              "3  1.294095e+18 2022-11-22 16:56:17+00:00  1.595099e+18   \n",
              "4  1.294095e+18 2022-11-22 15:05:37+00:00  1.595071e+18   \n",
              "\n",
              "                                                text country  \\\n",
              "0  RT @JonnyCaplan: Creative Entrepreneur of the ...     USA   \n",
              "1  RT @JoseMarky_200: @shirtsthtgohard Available ...     USA   \n",
              "2  RT @moyo_world: We're moving our manufacturing...     USA   \n",
              "3  RT @winwinbank: 🏆Dünya Kupasında Da Güvenin Ad...     USA   \n",
              "4  RT @UtilityNet_: The Rules for the First Test ...     USA   \n",
              "\n",
              "                              mention  \n",
              "0                [@JonnyCaplan, @The]  \n",
              "1  [@JoseMarky_200, @shirtsthtgohard]  \n",
              "2                       [@moyo_world]  \n",
              "3                       [@winwinbank]  \n",
              "4                      [@UtilityNet_]  "
            ],
            "text/html": [
              "\n",
              "  <div id=\"df-5e4d87a0-6af7-48a4-ad8d-6c3962aed90a\">\n",
              "    <div class=\"colab-df-container\">\n",
              "      <div>\n",
              "<style scoped>\n",
              "    .dataframe tbody tr th:only-of-type {\n",
              "        vertical-align: middle;\n",
              "    }\n",
              "\n",
              "    .dataframe tbody tr th {\n",
              "        vertical-align: top;\n",
              "    }\n",
              "\n",
              "    .dataframe thead th {\n",
              "        text-align: right;\n",
              "    }\n",
              "</style>\n",
              "<table border=\"1\" class=\"dataframe\">\n",
              "  <thead>\n",
              "    <tr style=\"text-align: right;\">\n",
              "      <th></th>\n",
              "      <th>user_id</th>\n",
              "      <th>created_at</th>\n",
              "      <th>tweet_id</th>\n",
              "      <th>text</th>\n",
              "      <th>country</th>\n",
              "      <th>mention</th>\n",
              "    </tr>\n",
              "  </thead>\n",
              "  <tbody>\n",
              "    <tr>\n",
              "      <th>0</th>\n",
              "      <td>1.294095e+18</td>\n",
              "      <td>2022-11-22 22:13:48+00:00</td>\n",
              "      <td>1.595179e+18</td>\n",
              "      <td>RT @JonnyCaplan: Creative Entrepreneur of the ...</td>\n",
              "      <td>USA</td>\n",
              "      <td>[@JonnyCaplan, @The]</td>\n",
              "    </tr>\n",
              "    <tr>\n",
              "      <th>1</th>\n",
              "      <td>1.294095e+18</td>\n",
              "      <td>2022-11-22 20:33:39+00:00</td>\n",
              "      <td>1.595154e+18</td>\n",
              "      <td>RT @JoseMarky_200: @shirtsthtgohard Available ...</td>\n",
              "      <td>USA</td>\n",
              "      <td>[@JoseMarky_200, @shirtsthtgohard]</td>\n",
              "    </tr>\n",
              "    <tr>\n",
              "      <th>2</th>\n",
              "      <td>1.294095e+18</td>\n",
              "      <td>2022-11-22 19:14:08+00:00</td>\n",
              "      <td>1.595134e+18</td>\n",
              "      <td>RT @moyo_world: We're moving our manufacturing...</td>\n",
              "      <td>USA</td>\n",
              "      <td>[@moyo_world]</td>\n",
              "    </tr>\n",
              "    <tr>\n",
              "      <th>3</th>\n",
              "      <td>1.294095e+18</td>\n",
              "      <td>2022-11-22 16:56:17+00:00</td>\n",
              "      <td>1.595099e+18</td>\n",
              "      <td>RT @winwinbank: 🏆Dünya Kupasında Da Güvenin Ad...</td>\n",
              "      <td>USA</td>\n",
              "      <td>[@winwinbank]</td>\n",
              "    </tr>\n",
              "    <tr>\n",
              "      <th>4</th>\n",
              "      <td>1.294095e+18</td>\n",
              "      <td>2022-11-22 15:05:37+00:00</td>\n",
              "      <td>1.595071e+18</td>\n",
              "      <td>RT @UtilityNet_: The Rules for the First Test ...</td>\n",
              "      <td>USA</td>\n",
              "      <td>[@UtilityNet_]</td>\n",
              "    </tr>\n",
              "  </tbody>\n",
              "</table>\n",
              "</div>\n",
              "      <button class=\"colab-df-convert\" onclick=\"convertToInteractive('df-5e4d87a0-6af7-48a4-ad8d-6c3962aed90a')\"\n",
              "              title=\"Convert this dataframe to an interactive table.\"\n",
              "              style=\"display:none;\">\n",
              "        \n",
              "  <svg xmlns=\"http://www.w3.org/2000/svg\" height=\"24px\"viewBox=\"0 0 24 24\"\n",
              "       width=\"24px\">\n",
              "    <path d=\"M0 0h24v24H0V0z\" fill=\"none\"/>\n",
              "    <path d=\"M18.56 5.44l.94 2.06.94-2.06 2.06-.94-2.06-.94-.94-2.06-.94 2.06-2.06.94zm-11 1L8.5 8.5l.94-2.06 2.06-.94-2.06-.94L8.5 2.5l-.94 2.06-2.06.94zm10 10l.94 2.06.94-2.06 2.06-.94-2.06-.94-.94-2.06-.94 2.06-2.06.94z\"/><path d=\"M17.41 7.96l-1.37-1.37c-.4-.4-.92-.59-1.43-.59-.52 0-1.04.2-1.43.59L10.3 9.45l-7.72 7.72c-.78.78-.78 2.05 0 2.83L4 21.41c.39.39.9.59 1.41.59.51 0 1.02-.2 1.41-.59l7.78-7.78 2.81-2.81c.8-.78.8-2.07 0-2.86zM5.41 20L4 18.59l7.72-7.72 1.47 1.35L5.41 20z\"/>\n",
              "  </svg>\n",
              "      </button>\n",
              "      \n",
              "  <style>\n",
              "    .colab-df-container {\n",
              "      display:flex;\n",
              "      flex-wrap:wrap;\n",
              "      gap: 12px;\n",
              "    }\n",
              "\n",
              "    .colab-df-convert {\n",
              "      background-color: #E8F0FE;\n",
              "      border: none;\n",
              "      border-radius: 50%;\n",
              "      cursor: pointer;\n",
              "      display: none;\n",
              "      fill: #1967D2;\n",
              "      height: 32px;\n",
              "      padding: 0 0 0 0;\n",
              "      width: 32px;\n",
              "    }\n",
              "\n",
              "    .colab-df-convert:hover {\n",
              "      background-color: #E2EBFA;\n",
              "      box-shadow: 0px 1px 2px rgba(60, 64, 67, 0.3), 0px 1px 3px 1px rgba(60, 64, 67, 0.15);\n",
              "      fill: #174EA6;\n",
              "    }\n",
              "\n",
              "    [theme=dark] .colab-df-convert {\n",
              "      background-color: #3B4455;\n",
              "      fill: #D2E3FC;\n",
              "    }\n",
              "\n",
              "    [theme=dark] .colab-df-convert:hover {\n",
              "      background-color: #434B5C;\n",
              "      box-shadow: 0px 1px 3px 1px rgba(0, 0, 0, 0.15);\n",
              "      filter: drop-shadow(0px 1px 2px rgba(0, 0, 0, 0.3));\n",
              "      fill: #FFFFFF;\n",
              "    }\n",
              "  </style>\n",
              "\n",
              "      <script>\n",
              "        const buttonEl =\n",
              "          document.querySelector('#df-5e4d87a0-6af7-48a4-ad8d-6c3962aed90a button.colab-df-convert');\n",
              "        buttonEl.style.display =\n",
              "          google.colab.kernel.accessAllowed ? 'block' : 'none';\n",
              "\n",
              "        async function convertToInteractive(key) {\n",
              "          const element = document.querySelector('#df-5e4d87a0-6af7-48a4-ad8d-6c3962aed90a');\n",
              "          const dataTable =\n",
              "            await google.colab.kernel.invokeFunction('convertToInteractive',\n",
              "                                                     [key], {});\n",
              "          if (!dataTable) return;\n",
              "\n",
              "          const docLinkHtml = 'Like what you see? Visit the ' +\n",
              "            '<a target=\"_blank\" href=https://colab.research.google.com/notebooks/data_table.ipynb>data table notebook</a>'\n",
              "            + ' to learn more about interactive tables.';\n",
              "          element.innerHTML = '';\n",
              "          dataTable['output_type'] = 'display_data';\n",
              "          await google.colab.output.renderOutput(dataTable, element);\n",
              "          const docLink = document.createElement('div');\n",
              "          docLink.innerHTML = docLinkHtml;\n",
              "          element.appendChild(docLink);\n",
              "        }\n",
              "      </script>\n",
              "    </div>\n",
              "  </div>\n",
              "  "
            ]
          },
          "metadata": {},
          "execution_count": 675
        }
      ]
    },
    {
      "cell_type": "code",
      "source": [
        "dfMENT.info()"
      ],
      "metadata": {
        "colab": {
          "base_uri": "https://localhost:8080/"
        },
        "id": "nU575mBGtKut",
        "outputId": "8ac35f88-4f5a-4341-db32-b5565f6e0873"
      },
      "execution_count": 676,
      "outputs": [
        {
          "output_type": "stream",
          "name": "stdout",
          "text": [
            "<class 'pandas.core.frame.DataFrame'>\n",
            "RangeIndex: 127333 entries, 0 to 127332\n",
            "Data columns (total 6 columns):\n",
            " #   Column      Non-Null Count   Dtype              \n",
            "---  ------      --------------   -----              \n",
            " 0   user_id     127333 non-null  float64            \n",
            " 1   created_at  127333 non-null  datetime64[ns, UTC]\n",
            " 2   tweet_id    127333 non-null  float64            \n",
            " 3   text        127333 non-null  object             \n",
            " 4   country     127333 non-null  object             \n",
            " 5   mention     127333 non-null  object             \n",
            "dtypes: datetime64[ns, UTC](1), float64(2), object(3)\n",
            "memory usage: 5.8+ MB\n"
          ]
        }
      ]
    },
    {
      "cell_type": "code",
      "source": [
        "print(\"Number of Rows: \" + str(len(dfMENT.index)))"
      ],
      "metadata": {
        "colab": {
          "base_uri": "https://localhost:8080/"
        },
        "id": "Cnq-64kOtSTg",
        "outputId": "f5ac372f-f872-4dcb-c2fd-d845c86ab946"
      },
      "execution_count": 677,
      "outputs": [
        {
          "output_type": "stream",
          "name": "stdout",
          "text": [
            "Number of Rows: 127333\n"
          ]
        }
      ]
    },
    {
      "cell_type": "code",
      "source": [
        "dfMENT = dfMENT.drop(columns=['user_id', 'created_at', 'tweet_id', 'text'])"
      ],
      "metadata": {
        "id": "WLC6fjVUtuUv"
      },
      "execution_count": 678,
      "outputs": []
    },
    {
      "cell_type": "code",
      "source": [
        "dfMENT.info()"
      ],
      "metadata": {
        "colab": {
          "base_uri": "https://localhost:8080/"
        },
        "id": "poTzy1nmtx6X",
        "outputId": "0ea4b1a4-5eb5-4048-a85b-b6045352fc2d"
      },
      "execution_count": 679,
      "outputs": [
        {
          "output_type": "stream",
          "name": "stdout",
          "text": [
            "<class 'pandas.core.frame.DataFrame'>\n",
            "RangeIndex: 127333 entries, 0 to 127332\n",
            "Data columns (total 2 columns):\n",
            " #   Column   Non-Null Count   Dtype \n",
            "---  ------   --------------   ----- \n",
            " 0   country  127333 non-null  object\n",
            " 1   mention  127333 non-null  object\n",
            "dtypes: object(2)\n",
            "memory usage: 1.9+ MB\n"
          ]
        }
      ]
    },
    {
      "cell_type": "code",
      "source": [
        "dfMENT = dfMENT[dfMENT['mention'].map(lambda x: len(x)) > 0]"
      ],
      "metadata": {
        "id": "2aoBMfont6Ta"
      },
      "execution_count": 680,
      "outputs": []
    },
    {
      "cell_type": "code",
      "source": [
        "print(\"Number of Rows: \" + str(len(dfMENT.index)))"
      ],
      "metadata": {
        "colab": {
          "base_uri": "https://localhost:8080/"
        },
        "id": "Ei8DXo6UuEZn",
        "outputId": "1380cfe5-88f5-4208-b1f1-3f96842e0e72"
      },
      "execution_count": 681,
      "outputs": [
        {
          "output_type": "stream",
          "name": "stdout",
          "text": [
            "Number of Rows: 101771\n"
          ]
        }
      ]
    },
    {
      "cell_type": "code",
      "source": [
        "dfMENT.head()"
      ],
      "metadata": {
        "colab": {
          "base_uri": "https://localhost:8080/",
          "height": 206
        },
        "id": "lwRNqtOZuROn",
        "outputId": "3e586dad-9c32-4615-996f-bde643b509b4"
      },
      "execution_count": 682,
      "outputs": [
        {
          "output_type": "execute_result",
          "data": {
            "text/plain": [
              "  country                             mention\n",
              "0     USA                [@JonnyCaplan, @The]\n",
              "1     USA  [@JoseMarky_200, @shirtsthtgohard]\n",
              "2     USA                       [@moyo_world]\n",
              "3     USA                       [@winwinbank]\n",
              "4     USA                      [@UtilityNet_]"
            ],
            "text/html": [
              "\n",
              "  <div id=\"df-bbab19a0-86a0-4d05-b7ee-1a41133d23d7\">\n",
              "    <div class=\"colab-df-container\">\n",
              "      <div>\n",
              "<style scoped>\n",
              "    .dataframe tbody tr th:only-of-type {\n",
              "        vertical-align: middle;\n",
              "    }\n",
              "\n",
              "    .dataframe tbody tr th {\n",
              "        vertical-align: top;\n",
              "    }\n",
              "\n",
              "    .dataframe thead th {\n",
              "        text-align: right;\n",
              "    }\n",
              "</style>\n",
              "<table border=\"1\" class=\"dataframe\">\n",
              "  <thead>\n",
              "    <tr style=\"text-align: right;\">\n",
              "      <th></th>\n",
              "      <th>country</th>\n",
              "      <th>mention</th>\n",
              "    </tr>\n",
              "  </thead>\n",
              "  <tbody>\n",
              "    <tr>\n",
              "      <th>0</th>\n",
              "      <td>USA</td>\n",
              "      <td>[@JonnyCaplan, @The]</td>\n",
              "    </tr>\n",
              "    <tr>\n",
              "      <th>1</th>\n",
              "      <td>USA</td>\n",
              "      <td>[@JoseMarky_200, @shirtsthtgohard]</td>\n",
              "    </tr>\n",
              "    <tr>\n",
              "      <th>2</th>\n",
              "      <td>USA</td>\n",
              "      <td>[@moyo_world]</td>\n",
              "    </tr>\n",
              "    <tr>\n",
              "      <th>3</th>\n",
              "      <td>USA</td>\n",
              "      <td>[@winwinbank]</td>\n",
              "    </tr>\n",
              "    <tr>\n",
              "      <th>4</th>\n",
              "      <td>USA</td>\n",
              "      <td>[@UtilityNet_]</td>\n",
              "    </tr>\n",
              "  </tbody>\n",
              "</table>\n",
              "</div>\n",
              "      <button class=\"colab-df-convert\" onclick=\"convertToInteractive('df-bbab19a0-86a0-4d05-b7ee-1a41133d23d7')\"\n",
              "              title=\"Convert this dataframe to an interactive table.\"\n",
              "              style=\"display:none;\">\n",
              "        \n",
              "  <svg xmlns=\"http://www.w3.org/2000/svg\" height=\"24px\"viewBox=\"0 0 24 24\"\n",
              "       width=\"24px\">\n",
              "    <path d=\"M0 0h24v24H0V0z\" fill=\"none\"/>\n",
              "    <path d=\"M18.56 5.44l.94 2.06.94-2.06 2.06-.94-2.06-.94-.94-2.06-.94 2.06-2.06.94zm-11 1L8.5 8.5l.94-2.06 2.06-.94-2.06-.94L8.5 2.5l-.94 2.06-2.06.94zm10 10l.94 2.06.94-2.06 2.06-.94-2.06-.94-.94-2.06-.94 2.06-2.06.94z\"/><path d=\"M17.41 7.96l-1.37-1.37c-.4-.4-.92-.59-1.43-.59-.52 0-1.04.2-1.43.59L10.3 9.45l-7.72 7.72c-.78.78-.78 2.05 0 2.83L4 21.41c.39.39.9.59 1.41.59.51 0 1.02-.2 1.41-.59l7.78-7.78 2.81-2.81c.8-.78.8-2.07 0-2.86zM5.41 20L4 18.59l7.72-7.72 1.47 1.35L5.41 20z\"/>\n",
              "  </svg>\n",
              "      </button>\n",
              "      \n",
              "  <style>\n",
              "    .colab-df-container {\n",
              "      display:flex;\n",
              "      flex-wrap:wrap;\n",
              "      gap: 12px;\n",
              "    }\n",
              "\n",
              "    .colab-df-convert {\n",
              "      background-color: #E8F0FE;\n",
              "      border: none;\n",
              "      border-radius: 50%;\n",
              "      cursor: pointer;\n",
              "      display: none;\n",
              "      fill: #1967D2;\n",
              "      height: 32px;\n",
              "      padding: 0 0 0 0;\n",
              "      width: 32px;\n",
              "    }\n",
              "\n",
              "    .colab-df-convert:hover {\n",
              "      background-color: #E2EBFA;\n",
              "      box-shadow: 0px 1px 2px rgba(60, 64, 67, 0.3), 0px 1px 3px 1px rgba(60, 64, 67, 0.15);\n",
              "      fill: #174EA6;\n",
              "    }\n",
              "\n",
              "    [theme=dark] .colab-df-convert {\n",
              "      background-color: #3B4455;\n",
              "      fill: #D2E3FC;\n",
              "    }\n",
              "\n",
              "    [theme=dark] .colab-df-convert:hover {\n",
              "      background-color: #434B5C;\n",
              "      box-shadow: 0px 1px 3px 1px rgba(0, 0, 0, 0.15);\n",
              "      filter: drop-shadow(0px 1px 2px rgba(0, 0, 0, 0.3));\n",
              "      fill: #FFFFFF;\n",
              "    }\n",
              "  </style>\n",
              "\n",
              "      <script>\n",
              "        const buttonEl =\n",
              "          document.querySelector('#df-bbab19a0-86a0-4d05-b7ee-1a41133d23d7 button.colab-df-convert');\n",
              "        buttonEl.style.display =\n",
              "          google.colab.kernel.accessAllowed ? 'block' : 'none';\n",
              "\n",
              "        async function convertToInteractive(key) {\n",
              "          const element = document.querySelector('#df-bbab19a0-86a0-4d05-b7ee-1a41133d23d7');\n",
              "          const dataTable =\n",
              "            await google.colab.kernel.invokeFunction('convertToInteractive',\n",
              "                                                     [key], {});\n",
              "          if (!dataTable) return;\n",
              "\n",
              "          const docLinkHtml = 'Like what you see? Visit the ' +\n",
              "            '<a target=\"_blank\" href=https://colab.research.google.com/notebooks/data_table.ipynb>data table notebook</a>'\n",
              "            + ' to learn more about interactive tables.';\n",
              "          element.innerHTML = '';\n",
              "          dataTable['output_type'] = 'display_data';\n",
              "          await google.colab.output.renderOutput(dataTable, element);\n",
              "          const docLink = document.createElement('div');\n",
              "          docLink.innerHTML = docLinkHtml;\n",
              "          element.appendChild(docLink);\n",
              "        }\n",
              "      </script>\n",
              "    </div>\n",
              "  </div>\n",
              "  "
            ]
          },
          "metadata": {},
          "execution_count": 682
        }
      ]
    },
    {
      "cell_type": "code",
      "source": [
        "dfMENT = dfMENT.explode('mention')"
      ],
      "metadata": {
        "id": "Glo_egkwG8Jn"
      },
      "execution_count": 683,
      "outputs": []
    },
    {
      "cell_type": "code",
      "source": [
        "dfMENT.head()"
      ],
      "metadata": {
        "colab": {
          "base_uri": "https://localhost:8080/",
          "height": 206
        },
        "id": "fUevJXqvG92V",
        "outputId": "54821362-1cbd-4841-8334-a4c4c46f775c"
      },
      "execution_count": 684,
      "outputs": [
        {
          "output_type": "execute_result",
          "data": {
            "text/plain": [
              "  country           mention\n",
              "0     USA      @JonnyCaplan\n",
              "0     USA              @The\n",
              "1     USA    @JoseMarky_200\n",
              "1     USA  @shirtsthtgohard\n",
              "2     USA       @moyo_world"
            ],
            "text/html": [
              "\n",
              "  <div id=\"df-9f3f4b95-41c7-4d3a-91c7-0a2ac9459221\">\n",
              "    <div class=\"colab-df-container\">\n",
              "      <div>\n",
              "<style scoped>\n",
              "    .dataframe tbody tr th:only-of-type {\n",
              "        vertical-align: middle;\n",
              "    }\n",
              "\n",
              "    .dataframe tbody tr th {\n",
              "        vertical-align: top;\n",
              "    }\n",
              "\n",
              "    .dataframe thead th {\n",
              "        text-align: right;\n",
              "    }\n",
              "</style>\n",
              "<table border=\"1\" class=\"dataframe\">\n",
              "  <thead>\n",
              "    <tr style=\"text-align: right;\">\n",
              "      <th></th>\n",
              "      <th>country</th>\n",
              "      <th>mention</th>\n",
              "    </tr>\n",
              "  </thead>\n",
              "  <tbody>\n",
              "    <tr>\n",
              "      <th>0</th>\n",
              "      <td>USA</td>\n",
              "      <td>@JonnyCaplan</td>\n",
              "    </tr>\n",
              "    <tr>\n",
              "      <th>0</th>\n",
              "      <td>USA</td>\n",
              "      <td>@The</td>\n",
              "    </tr>\n",
              "    <tr>\n",
              "      <th>1</th>\n",
              "      <td>USA</td>\n",
              "      <td>@JoseMarky_200</td>\n",
              "    </tr>\n",
              "    <tr>\n",
              "      <th>1</th>\n",
              "      <td>USA</td>\n",
              "      <td>@shirtsthtgohard</td>\n",
              "    </tr>\n",
              "    <tr>\n",
              "      <th>2</th>\n",
              "      <td>USA</td>\n",
              "      <td>@moyo_world</td>\n",
              "    </tr>\n",
              "  </tbody>\n",
              "</table>\n",
              "</div>\n",
              "      <button class=\"colab-df-convert\" onclick=\"convertToInteractive('df-9f3f4b95-41c7-4d3a-91c7-0a2ac9459221')\"\n",
              "              title=\"Convert this dataframe to an interactive table.\"\n",
              "              style=\"display:none;\">\n",
              "        \n",
              "  <svg xmlns=\"http://www.w3.org/2000/svg\" height=\"24px\"viewBox=\"0 0 24 24\"\n",
              "       width=\"24px\">\n",
              "    <path d=\"M0 0h24v24H0V0z\" fill=\"none\"/>\n",
              "    <path d=\"M18.56 5.44l.94 2.06.94-2.06 2.06-.94-2.06-.94-.94-2.06-.94 2.06-2.06.94zm-11 1L8.5 8.5l.94-2.06 2.06-.94-2.06-.94L8.5 2.5l-.94 2.06-2.06.94zm10 10l.94 2.06.94-2.06 2.06-.94-2.06-.94-.94-2.06-.94 2.06-2.06.94z\"/><path d=\"M17.41 7.96l-1.37-1.37c-.4-.4-.92-.59-1.43-.59-.52 0-1.04.2-1.43.59L10.3 9.45l-7.72 7.72c-.78.78-.78 2.05 0 2.83L4 21.41c.39.39.9.59 1.41.59.51 0 1.02-.2 1.41-.59l7.78-7.78 2.81-2.81c.8-.78.8-2.07 0-2.86zM5.41 20L4 18.59l7.72-7.72 1.47 1.35L5.41 20z\"/>\n",
              "  </svg>\n",
              "      </button>\n",
              "      \n",
              "  <style>\n",
              "    .colab-df-container {\n",
              "      display:flex;\n",
              "      flex-wrap:wrap;\n",
              "      gap: 12px;\n",
              "    }\n",
              "\n",
              "    .colab-df-convert {\n",
              "      background-color: #E8F0FE;\n",
              "      border: none;\n",
              "      border-radius: 50%;\n",
              "      cursor: pointer;\n",
              "      display: none;\n",
              "      fill: #1967D2;\n",
              "      height: 32px;\n",
              "      padding: 0 0 0 0;\n",
              "      width: 32px;\n",
              "    }\n",
              "\n",
              "    .colab-df-convert:hover {\n",
              "      background-color: #E2EBFA;\n",
              "      box-shadow: 0px 1px 2px rgba(60, 64, 67, 0.3), 0px 1px 3px 1px rgba(60, 64, 67, 0.15);\n",
              "      fill: #174EA6;\n",
              "    }\n",
              "\n",
              "    [theme=dark] .colab-df-convert {\n",
              "      background-color: #3B4455;\n",
              "      fill: #D2E3FC;\n",
              "    }\n",
              "\n",
              "    [theme=dark] .colab-df-convert:hover {\n",
              "      background-color: #434B5C;\n",
              "      box-shadow: 0px 1px 3px 1px rgba(0, 0, 0, 0.15);\n",
              "      filter: drop-shadow(0px 1px 2px rgba(0, 0, 0, 0.3));\n",
              "      fill: #FFFFFF;\n",
              "    }\n",
              "  </style>\n",
              "\n",
              "      <script>\n",
              "        const buttonEl =\n",
              "          document.querySelector('#df-9f3f4b95-41c7-4d3a-91c7-0a2ac9459221 button.colab-df-convert');\n",
              "        buttonEl.style.display =\n",
              "          google.colab.kernel.accessAllowed ? 'block' : 'none';\n",
              "\n",
              "        async function convertToInteractive(key) {\n",
              "          const element = document.querySelector('#df-9f3f4b95-41c7-4d3a-91c7-0a2ac9459221');\n",
              "          const dataTable =\n",
              "            await google.colab.kernel.invokeFunction('convertToInteractive',\n",
              "                                                     [key], {});\n",
              "          if (!dataTable) return;\n",
              "\n",
              "          const docLinkHtml = 'Like what you see? Visit the ' +\n",
              "            '<a target=\"_blank\" href=https://colab.research.google.com/notebooks/data_table.ipynb>data table notebook</a>'\n",
              "            + ' to learn more about interactive tables.';\n",
              "          element.innerHTML = '';\n",
              "          dataTable['output_type'] = 'display_data';\n",
              "          await google.colab.output.renderOutput(dataTable, element);\n",
              "          const docLink = document.createElement('div');\n",
              "          docLink.innerHTML = docLinkHtml;\n",
              "          element.appendChild(docLink);\n",
              "        }\n",
              "      </script>\n",
              "    </div>\n",
              "  </div>\n",
              "  "
            ]
          },
          "metadata": {},
          "execution_count": 684
        }
      ]
    },
    {
      "cell_type": "markdown",
      "source": [
        "###Text Preprocessing"
      ],
      "metadata": {
        "id": "aRxnZDZmw14T"
      }
    },
    {
      "cell_type": "code",
      "source": [
        "#remove rt from begining of sentence - do first cause RT is capitalized.\n",
        "\n",
        "df[\"text\"] = df[\"text\"].map(lambda name: re.sub('^(RT)', ' ', name))"
      ],
      "metadata": {
        "id": "3nHmAP96yPXk"
      },
      "execution_count": 685,
      "outputs": []
    },
    {
      "cell_type": "code",
      "source": [
        "#removing links\n",
        "df[\"text\"] = df[\"text\"].map(lambda name: re.sub(r'http\\S+', ' ', name))"
      ],
      "metadata": {
        "id": "wQTUtrGzyYM8"
      },
      "execution_count": 686,
      "outputs": []
    },
    {
      "cell_type": "code",
      "source": [
        "#removing mentions\n",
        "df[\"text\"] = df[\"text\"].map(lambda name: re.sub(\"@([a-zA-Z0-9_]{1,50})\", '', name))"
      ],
      "metadata": {
        "id": "vdEfGTECkx1F"
      },
      "execution_count": 687,
      "outputs": []
    },
    {
      "cell_type": "code",
      "source": [
        "#removing repeating characters\n",
        "repeat_pattern = re.compile(r'(\\w)\\1*') #compile the pattern we are looking for\n",
        "match_substitution = r'\\1' #substituion pattern\n",
        "df[\"text\"] = df[\"text\"].map(lambda name: re.sub(repeat_pattern, match_substitution, name))"
      ],
      "metadata": {
        "id": "w7wg4TdBybiS"
      },
      "execution_count": 688,
      "outputs": []
    },
    {
      "cell_type": "code",
      "source": [
        "#removal of digits with regex - we do this here because it is possible to have numbers in tags and urls replace with space.\n",
        "df[\"text\"] = df[\"text\"].map(lambda name: re.sub(r'[0-9]', ' ', name))"
      ],
      "metadata": {
        "id": "ReEb2nOb0yyi"
      },
      "execution_count": 689,
      "outputs": []
    },
    {
      "cell_type": "code",
      "source": [
        "EMOJI_PATTERN = re.compile(\n",
        "    \"[\"\n",
        "    \"\\U0001F1E0-\\U0001F1FF\"  # flags (iOS)\n",
        "    \"\\U0001F300-\\U0001F5FF\"  # symbols & pictographs\n",
        "    \"\\U0001F600-\\U0001F64F\"  # emoticons\n",
        "    \"\\U0001F680-\\U0001F6FF\"  # transport & map symbols\n",
        "    \"\\U0001F700-\\U0001F77F\"  # alchemical symbols\n",
        "    \"\\U0001F780-\\U0001F7FF\"  # Geometric Shapes Extended\n",
        "    \"\\U0001F800-\\U0001F8FF\"  # Supplemental Arrows-C\n",
        "    \"\\U0001F900-\\U0001F9FF\"  # Supplemental Symbols and Pictographs\n",
        "    \"\\U0001FA00-\\U0001FA6F\"  # Chess Symbols\n",
        "    \"\\U0001FA70-\\U0001FAFF\"  # Symbols and Pictographs Extended-A\n",
        "    \"\\U00002702-\\U000027B0\"  # Dingbats\n",
        "    \"\\U000024C2-\\U0001F251\" \n",
        "    \"]+\")\n",
        "df[\"text\"] = df[\"text\"].map(lambda name: re.sub(EMOJI_PATTERN, ' ', name))"
      ],
      "metadata": {
        "id": "7T8jln2o1MEf"
      },
      "execution_count": 690,
      "outputs": []
    },
    {
      "cell_type": "code",
      "source": [
        "#making everything lowercase\n",
        "df[\"text\"] = df[\"text\"].map(lambda name: name.lower())"
      ],
      "metadata": {
        "id": "IpmsubN_kd6b"
      },
      "execution_count": 691,
      "outputs": []
    },
    {
      "cell_type": "code",
      "source": [
        "special_pattern = re.compile('[!\\.\\^\\$\\|\\?\\*\\+\\=\\(\\)\\{\\}\\@\\=\\/\\<\\>\\,\\~\\`\\-\\%\\&\\:\\;\\[\\]\"“”…]')\n",
        "df[\"text\"] = df[\"text\"].map(lambda name: re.sub(special_pattern, ' ', name))"
      ],
      "metadata": {
        "id": "MhkUJNuDk3TZ"
      },
      "execution_count": 692,
      "outputs": []
    },
    {
      "cell_type": "code",
      "source": [
        "#remove a hashtag if it has no significance, ie, not part of a #word\n",
        "df[\"text\"] = df[\"text\"].map(lambda name: re.sub('(#[^(a-zA-Z0-9)])', ' ', name))"
      ],
      "metadata": {
        "id": "3tVu91duk6-j"
      },
      "execution_count": 693,
      "outputs": []
    },
    {
      "cell_type": "code",
      "source": [
        "#removing doublicate spaces and all white spaces like \\t, \\n or \\r\n",
        "df[\"text\"] = df[\"text\"].map(lambda name: \" \".join(name.split()))"
      ],
      "metadata": {
        "id": "ifM3ELuUk_8t"
      },
      "execution_count": 694,
      "outputs": []
    },
    {
      "cell_type": "code",
      "source": [
        "#Now remove stop words\n",
        "stop_words = stopwords.words('english')\n",
        "stopwords_dict = Counter(stop_words)\n",
        "\n",
        "df[\"text\"] = df[\"text\"].map(lambda name: ' '.join([word for word in name.split() if word not in stopwords_dict]))"
      ],
      "metadata": {
        "id": "wBIfIjEOlCy0"
      },
      "execution_count": 695,
      "outputs": []
    },
    {
      "cell_type": "code",
      "source": [
        "#After removing stop words we can clean up more\n",
        "df[\"text\"] = df[\"text\"].map(lambda name: re.sub('[\\']', ' ', name))"
      ],
      "metadata": {
        "id": "oYrKYE-VlHy3"
      },
      "execution_count": 696,
      "outputs": []
    },
    {
      "cell_type": "code",
      "source": [
        "#remove all '#' characters\n",
        "df[\"text\"] = df[\"text\"].map(lambda name: re.sub('#', ' ', name))"
      ],
      "metadata": {
        "id": "ruSL9fCJNhPS"
      },
      "execution_count": 697,
      "outputs": []
    },
    {
      "cell_type": "code",
      "source": [
        "#final white space clean up\n",
        "df[\"text\"] = df[\"text\"].map(lambda name: \" \".join(name.split(' ')))"
      ],
      "metadata": {
        "id": "XM9ZQIlylHi-"
      },
      "execution_count": 698,
      "outputs": []
    },
    {
      "cell_type": "code",
      "source": [
        "#still need to check for strings that contain whitespaces only and remove them\n",
        "df[\"text\"] = df[\"text\"].map(lambda text: np.nan if len(text) == 0 else text)\n",
        "df.dropna(axis=0, inplace=True)"
      ],
      "metadata": {
        "id": "33Kd0EYslLC4"
      },
      "execution_count": 699,
      "outputs": []
    },
    {
      "cell_type": "code",
      "source": [
        "df.dropna(axis=0, inplace=True)"
      ],
      "metadata": {
        "id": "WqhO-m8uMS5z"
      },
      "execution_count": 700,
      "outputs": []
    },
    {
      "cell_type": "code",
      "source": [
        "dfTEXT = df.drop(columns=['user_id', 'created_at', 'tweet_id'])"
      ],
      "metadata": {
        "id": "bj6n-XjrNvDI"
      },
      "execution_count": 701,
      "outputs": []
    },
    {
      "cell_type": "code",
      "source": [
        "dfTEXT.head()"
      ],
      "metadata": {
        "colab": {
          "base_uri": "https://localhost:8080/",
          "height": 206
        },
        "id": "qU9mTGlON8Vn",
        "outputId": "3f8b6206-43fc-4b16-9793-0e8b029ea0fb"
      },
      "execution_count": 702,
      "outputs": [
        {
          "output_type": "execute_result",
          "data": {
            "text/plain": [
              "                                                text country\n",
              "0  creative entrepreneur year shock last night gr...     USA\n",
              "1                                     available guys     USA\n",
              "2  we re moving manufacturing plant ‍ ‍ shenzhen ...     USA\n",
              "3  dünya kupasında da güvenin adresi  marsbahis  ...     USA\n",
              "4  rules first test mining utilitynet  utility  u...     USA"
            ],
            "text/html": [
              "\n",
              "  <div id=\"df-03db8d85-5538-4717-9760-73a4aa0495ae\">\n",
              "    <div class=\"colab-df-container\">\n",
              "      <div>\n",
              "<style scoped>\n",
              "    .dataframe tbody tr th:only-of-type {\n",
              "        vertical-align: middle;\n",
              "    }\n",
              "\n",
              "    .dataframe tbody tr th {\n",
              "        vertical-align: top;\n",
              "    }\n",
              "\n",
              "    .dataframe thead th {\n",
              "        text-align: right;\n",
              "    }\n",
              "</style>\n",
              "<table border=\"1\" class=\"dataframe\">\n",
              "  <thead>\n",
              "    <tr style=\"text-align: right;\">\n",
              "      <th></th>\n",
              "      <th>text</th>\n",
              "      <th>country</th>\n",
              "    </tr>\n",
              "  </thead>\n",
              "  <tbody>\n",
              "    <tr>\n",
              "      <th>0</th>\n",
              "      <td>creative entrepreneur year shock last night gr...</td>\n",
              "      <td>USA</td>\n",
              "    </tr>\n",
              "    <tr>\n",
              "      <th>1</th>\n",
              "      <td>available guys</td>\n",
              "      <td>USA</td>\n",
              "    </tr>\n",
              "    <tr>\n",
              "      <th>2</th>\n",
              "      <td>we re moving manufacturing plant ‍ ‍ shenzhen ...</td>\n",
              "      <td>USA</td>\n",
              "    </tr>\n",
              "    <tr>\n",
              "      <th>3</th>\n",
              "      <td>dünya kupasında da güvenin adresi  marsbahis  ...</td>\n",
              "      <td>USA</td>\n",
              "    </tr>\n",
              "    <tr>\n",
              "      <th>4</th>\n",
              "      <td>rules first test mining utilitynet  utility  u...</td>\n",
              "      <td>USA</td>\n",
              "    </tr>\n",
              "  </tbody>\n",
              "</table>\n",
              "</div>\n",
              "      <button class=\"colab-df-convert\" onclick=\"convertToInteractive('df-03db8d85-5538-4717-9760-73a4aa0495ae')\"\n",
              "              title=\"Convert this dataframe to an interactive table.\"\n",
              "              style=\"display:none;\">\n",
              "        \n",
              "  <svg xmlns=\"http://www.w3.org/2000/svg\" height=\"24px\"viewBox=\"0 0 24 24\"\n",
              "       width=\"24px\">\n",
              "    <path d=\"M0 0h24v24H0V0z\" fill=\"none\"/>\n",
              "    <path d=\"M18.56 5.44l.94 2.06.94-2.06 2.06-.94-2.06-.94-.94-2.06-.94 2.06-2.06.94zm-11 1L8.5 8.5l.94-2.06 2.06-.94-2.06-.94L8.5 2.5l-.94 2.06-2.06.94zm10 10l.94 2.06.94-2.06 2.06-.94-2.06-.94-.94-2.06-.94 2.06-2.06.94z\"/><path d=\"M17.41 7.96l-1.37-1.37c-.4-.4-.92-.59-1.43-.59-.52 0-1.04.2-1.43.59L10.3 9.45l-7.72 7.72c-.78.78-.78 2.05 0 2.83L4 21.41c.39.39.9.59 1.41.59.51 0 1.02-.2 1.41-.59l7.78-7.78 2.81-2.81c.8-.78.8-2.07 0-2.86zM5.41 20L4 18.59l7.72-7.72 1.47 1.35L5.41 20z\"/>\n",
              "  </svg>\n",
              "      </button>\n",
              "      \n",
              "  <style>\n",
              "    .colab-df-container {\n",
              "      display:flex;\n",
              "      flex-wrap:wrap;\n",
              "      gap: 12px;\n",
              "    }\n",
              "\n",
              "    .colab-df-convert {\n",
              "      background-color: #E8F0FE;\n",
              "      border: none;\n",
              "      border-radius: 50%;\n",
              "      cursor: pointer;\n",
              "      display: none;\n",
              "      fill: #1967D2;\n",
              "      height: 32px;\n",
              "      padding: 0 0 0 0;\n",
              "      width: 32px;\n",
              "    }\n",
              "\n",
              "    .colab-df-convert:hover {\n",
              "      background-color: #E2EBFA;\n",
              "      box-shadow: 0px 1px 2px rgba(60, 64, 67, 0.3), 0px 1px 3px 1px rgba(60, 64, 67, 0.15);\n",
              "      fill: #174EA6;\n",
              "    }\n",
              "\n",
              "    [theme=dark] .colab-df-convert {\n",
              "      background-color: #3B4455;\n",
              "      fill: #D2E3FC;\n",
              "    }\n",
              "\n",
              "    [theme=dark] .colab-df-convert:hover {\n",
              "      background-color: #434B5C;\n",
              "      box-shadow: 0px 1px 3px 1px rgba(0, 0, 0, 0.15);\n",
              "      filter: drop-shadow(0px 1px 2px rgba(0, 0, 0, 0.3));\n",
              "      fill: #FFFFFF;\n",
              "    }\n",
              "  </style>\n",
              "\n",
              "      <script>\n",
              "        const buttonEl =\n",
              "          document.querySelector('#df-03db8d85-5538-4717-9760-73a4aa0495ae button.colab-df-convert');\n",
              "        buttonEl.style.display =\n",
              "          google.colab.kernel.accessAllowed ? 'block' : 'none';\n",
              "\n",
              "        async function convertToInteractive(key) {\n",
              "          const element = document.querySelector('#df-03db8d85-5538-4717-9760-73a4aa0495ae');\n",
              "          const dataTable =\n",
              "            await google.colab.kernel.invokeFunction('convertToInteractive',\n",
              "                                                     [key], {});\n",
              "          if (!dataTable) return;\n",
              "\n",
              "          const docLinkHtml = 'Like what you see? Visit the ' +\n",
              "            '<a target=\"_blank\" href=https://colab.research.google.com/notebooks/data_table.ipynb>data table notebook</a>'\n",
              "            + ' to learn more about interactive tables.';\n",
              "          element.innerHTML = '';\n",
              "          dataTable['output_type'] = 'display_data';\n",
              "          await google.colab.output.renderOutput(dataTable, element);\n",
              "          const docLink = document.createElement('div');\n",
              "          docLink.innerHTML = docLinkHtml;\n",
              "          element.appendChild(docLink);\n",
              "        }\n",
              "      </script>\n",
              "    </div>\n",
              "  </div>\n",
              "  "
            ]
          },
          "metadata": {},
          "execution_count": 702
        }
      ]
    },
    {
      "cell_type": "markdown",
      "source": [
        "Getting rid of countries of low frequency"
      ],
      "metadata": {
        "id": "uYgbx-X6Leg8"
      }
    },
    {
      "cell_type": "code",
      "source": [
        "#Select number of countries that we want our model to examine (Top in # of tweets)\n",
        "num_of_top_countries = 10\n",
        "dfHASH = dfHASH[dfHASH[\"country\"].isin(dfHASH[\"country\"].value_counts()[:num_of_top_countries].index.values)]\n",
        "dfMENT = dfMENT[dfMENT[\"country\"].isin(dfMENT[\"country\"].value_counts()[:num_of_top_countries].index.values)]\n",
        "dfTEXT = dfTEXT[dfTEXT[\"country\"].isin(dfTEXT[\"country\"].value_counts()[:num_of_top_countries].index.values)]"
      ],
      "metadata": {
        "id": "5LTCAkIMLje3"
      },
      "execution_count": 703,
      "outputs": []
    },
    {
      "cell_type": "markdown",
      "source": [
        "###Mapping Countires to Integers"
      ],
      "metadata": {
        "id": "Fb9YI7CuOCiN"
      }
    },
    {
      "cell_type": "markdown",
      "source": [
        "Mapping countries to integers (HASH)"
      ],
      "metadata": {
        "id": "AFOP35pyOQ05"
      }
    },
    {
      "cell_type": "code",
      "source": [
        "num_classes = len(dfHASH[\"country\"].value_counts())\n",
        "\n",
        "country_dict = dict()\n",
        "countries = dfHASH[\"country\"].unique()\n",
        "for i in range(0, num_classes):\n",
        "    country_dict[countries[i]] = i\n",
        "\n",
        "dfHASH[\"Labels\"] = dfHASH[\"country\"].map(country_dict)\n",
        "\n",
        "#drop country, we are interested in the label only.\n",
        "dfHASH = dfHASH.drop([\"country\"], axis=1)\n",
        "dfHASH.head()"
      ],
      "metadata": {
        "colab": {
          "base_uri": "https://localhost:8080/",
          "height": 333
        },
        "id": "_-A_uBAbOHhT",
        "outputId": "b84ac451-1cc3-4c9f-f9a6-448ac4d44aa9"
      },
      "execution_count": 704,
      "outputs": [
        {
          "output_type": "stream",
          "name": "stderr",
          "text": [
            "<ipython-input-704-035caf9ef4b6>:8: SettingWithCopyWarning: \n",
            "A value is trying to be set on a copy of a slice from a DataFrame.\n",
            "Try using .loc[row_indexer,col_indexer] = value instead\n",
            "\n",
            "See the caveats in the documentation: https://pandas.pydata.org/pandas-docs/stable/user_guide/indexing.html#returning-a-view-versus-a-copy\n",
            "  dfHASH[\"Labels\"] = dfHASH[\"country\"].map(country_dict)\n"
          ]
        },
        {
          "output_type": "execute_result",
          "data": {
            "text/plain": [
              "      hashtag  Labels\n",
              "2   #Shenzhen       0\n",
              "2       #ele…       0\n",
              "3  #Marsbahis       0\n",
              "3    #MarsBet       0\n",
              "4    #utility       0"
            ],
            "text/html": [
              "\n",
              "  <div id=\"df-e8611291-7613-484e-9e96-838da6bb3a0b\">\n",
              "    <div class=\"colab-df-container\">\n",
              "      <div>\n",
              "<style scoped>\n",
              "    .dataframe tbody tr th:only-of-type {\n",
              "        vertical-align: middle;\n",
              "    }\n",
              "\n",
              "    .dataframe tbody tr th {\n",
              "        vertical-align: top;\n",
              "    }\n",
              "\n",
              "    .dataframe thead th {\n",
              "        text-align: right;\n",
              "    }\n",
              "</style>\n",
              "<table border=\"1\" class=\"dataframe\">\n",
              "  <thead>\n",
              "    <tr style=\"text-align: right;\">\n",
              "      <th></th>\n",
              "      <th>hashtag</th>\n",
              "      <th>Labels</th>\n",
              "    </tr>\n",
              "  </thead>\n",
              "  <tbody>\n",
              "    <tr>\n",
              "      <th>2</th>\n",
              "      <td>#Shenzhen</td>\n",
              "      <td>0</td>\n",
              "    </tr>\n",
              "    <tr>\n",
              "      <th>2</th>\n",
              "      <td>#ele…</td>\n",
              "      <td>0</td>\n",
              "    </tr>\n",
              "    <tr>\n",
              "      <th>3</th>\n",
              "      <td>#Marsbahis</td>\n",
              "      <td>0</td>\n",
              "    </tr>\n",
              "    <tr>\n",
              "      <th>3</th>\n",
              "      <td>#MarsBet</td>\n",
              "      <td>0</td>\n",
              "    </tr>\n",
              "    <tr>\n",
              "      <th>4</th>\n",
              "      <td>#utility</td>\n",
              "      <td>0</td>\n",
              "    </tr>\n",
              "  </tbody>\n",
              "</table>\n",
              "</div>\n",
              "      <button class=\"colab-df-convert\" onclick=\"convertToInteractive('df-e8611291-7613-484e-9e96-838da6bb3a0b')\"\n",
              "              title=\"Convert this dataframe to an interactive table.\"\n",
              "              style=\"display:none;\">\n",
              "        \n",
              "  <svg xmlns=\"http://www.w3.org/2000/svg\" height=\"24px\"viewBox=\"0 0 24 24\"\n",
              "       width=\"24px\">\n",
              "    <path d=\"M0 0h24v24H0V0z\" fill=\"none\"/>\n",
              "    <path d=\"M18.56 5.44l.94 2.06.94-2.06 2.06-.94-2.06-.94-.94-2.06-.94 2.06-2.06.94zm-11 1L8.5 8.5l.94-2.06 2.06-.94-2.06-.94L8.5 2.5l-.94 2.06-2.06.94zm10 10l.94 2.06.94-2.06 2.06-.94-2.06-.94-.94-2.06-.94 2.06-2.06.94z\"/><path d=\"M17.41 7.96l-1.37-1.37c-.4-.4-.92-.59-1.43-.59-.52 0-1.04.2-1.43.59L10.3 9.45l-7.72 7.72c-.78.78-.78 2.05 0 2.83L4 21.41c.39.39.9.59 1.41.59.51 0 1.02-.2 1.41-.59l7.78-7.78 2.81-2.81c.8-.78.8-2.07 0-2.86zM5.41 20L4 18.59l7.72-7.72 1.47 1.35L5.41 20z\"/>\n",
              "  </svg>\n",
              "      </button>\n",
              "      \n",
              "  <style>\n",
              "    .colab-df-container {\n",
              "      display:flex;\n",
              "      flex-wrap:wrap;\n",
              "      gap: 12px;\n",
              "    }\n",
              "\n",
              "    .colab-df-convert {\n",
              "      background-color: #E8F0FE;\n",
              "      border: none;\n",
              "      border-radius: 50%;\n",
              "      cursor: pointer;\n",
              "      display: none;\n",
              "      fill: #1967D2;\n",
              "      height: 32px;\n",
              "      padding: 0 0 0 0;\n",
              "      width: 32px;\n",
              "    }\n",
              "\n",
              "    .colab-df-convert:hover {\n",
              "      background-color: #E2EBFA;\n",
              "      box-shadow: 0px 1px 2px rgba(60, 64, 67, 0.3), 0px 1px 3px 1px rgba(60, 64, 67, 0.15);\n",
              "      fill: #174EA6;\n",
              "    }\n",
              "\n",
              "    [theme=dark] .colab-df-convert {\n",
              "      background-color: #3B4455;\n",
              "      fill: #D2E3FC;\n",
              "    }\n",
              "\n",
              "    [theme=dark] .colab-df-convert:hover {\n",
              "      background-color: #434B5C;\n",
              "      box-shadow: 0px 1px 3px 1px rgba(0, 0, 0, 0.15);\n",
              "      filter: drop-shadow(0px 1px 2px rgba(0, 0, 0, 0.3));\n",
              "      fill: #FFFFFF;\n",
              "    }\n",
              "  </style>\n",
              "\n",
              "      <script>\n",
              "        const buttonEl =\n",
              "          document.querySelector('#df-e8611291-7613-484e-9e96-838da6bb3a0b button.colab-df-convert');\n",
              "        buttonEl.style.display =\n",
              "          google.colab.kernel.accessAllowed ? 'block' : 'none';\n",
              "\n",
              "        async function convertToInteractive(key) {\n",
              "          const element = document.querySelector('#df-e8611291-7613-484e-9e96-838da6bb3a0b');\n",
              "          const dataTable =\n",
              "            await google.colab.kernel.invokeFunction('convertToInteractive',\n",
              "                                                     [key], {});\n",
              "          if (!dataTable) return;\n",
              "\n",
              "          const docLinkHtml = 'Like what you see? Visit the ' +\n",
              "            '<a target=\"_blank\" href=https://colab.research.google.com/notebooks/data_table.ipynb>data table notebook</a>'\n",
              "            + ' to learn more about interactive tables.';\n",
              "          element.innerHTML = '';\n",
              "          dataTable['output_type'] = 'display_data';\n",
              "          await google.colab.output.renderOutput(dataTable, element);\n",
              "          const docLink = document.createElement('div');\n",
              "          docLink.innerHTML = docLinkHtml;\n",
              "          element.appendChild(docLink);\n",
              "        }\n",
              "      </script>\n",
              "    </div>\n",
              "  </div>\n",
              "  "
            ]
          },
          "metadata": {},
          "execution_count": 704
        }
      ]
    },
    {
      "cell_type": "markdown",
      "source": [
        "Mapping countries to integers (MENT)"
      ],
      "metadata": {
        "id": "GMHw7i17Pgst"
      }
    },
    {
      "cell_type": "code",
      "source": [
        "num_classes = len(dfMENT[\"country\"].value_counts())\n",
        "\n",
        "country_dict = dict()\n",
        "countries = dfMENT[\"country\"].unique()\n",
        "for i in range(0, num_classes):\n",
        "    country_dict[countries[i]] = i\n",
        "\n",
        "dfMENT[\"Labels\"] = dfMENT[\"country\"].map(country_dict)\n",
        "\n",
        "#drop country, we are interested in the label only.\n",
        "dfMENT = dfMENT.drop([\"country\"], axis=1)\n",
        "dfMENT.head()"
      ],
      "metadata": {
        "colab": {
          "base_uri": "https://localhost:8080/",
          "height": 333
        },
        "id": "82XnahFrPldz",
        "outputId": "8c85d8a2-5987-4f3b-d2c5-8e95dd60f48b"
      },
      "execution_count": 705,
      "outputs": [
        {
          "output_type": "stream",
          "name": "stderr",
          "text": [
            "<ipython-input-705-1caa2ff69cf7>:8: SettingWithCopyWarning: \n",
            "A value is trying to be set on a copy of a slice from a DataFrame.\n",
            "Try using .loc[row_indexer,col_indexer] = value instead\n",
            "\n",
            "See the caveats in the documentation: https://pandas.pydata.org/pandas-docs/stable/user_guide/indexing.html#returning-a-view-versus-a-copy\n",
            "  dfMENT[\"Labels\"] = dfMENT[\"country\"].map(country_dict)\n"
          ]
        },
        {
          "output_type": "execute_result",
          "data": {
            "text/plain": [
              "            mention  Labels\n",
              "0      @JonnyCaplan       0\n",
              "0              @The       0\n",
              "1    @JoseMarky_200       0\n",
              "1  @shirtsthtgohard       0\n",
              "2       @moyo_world       0"
            ],
            "text/html": [
              "\n",
              "  <div id=\"df-216b94f1-ce56-4da9-baa5-c16bd4aff5ea\">\n",
              "    <div class=\"colab-df-container\">\n",
              "      <div>\n",
              "<style scoped>\n",
              "    .dataframe tbody tr th:only-of-type {\n",
              "        vertical-align: middle;\n",
              "    }\n",
              "\n",
              "    .dataframe tbody tr th {\n",
              "        vertical-align: top;\n",
              "    }\n",
              "\n",
              "    .dataframe thead th {\n",
              "        text-align: right;\n",
              "    }\n",
              "</style>\n",
              "<table border=\"1\" class=\"dataframe\">\n",
              "  <thead>\n",
              "    <tr style=\"text-align: right;\">\n",
              "      <th></th>\n",
              "      <th>mention</th>\n",
              "      <th>Labels</th>\n",
              "    </tr>\n",
              "  </thead>\n",
              "  <tbody>\n",
              "    <tr>\n",
              "      <th>0</th>\n",
              "      <td>@JonnyCaplan</td>\n",
              "      <td>0</td>\n",
              "    </tr>\n",
              "    <tr>\n",
              "      <th>0</th>\n",
              "      <td>@The</td>\n",
              "      <td>0</td>\n",
              "    </tr>\n",
              "    <tr>\n",
              "      <th>1</th>\n",
              "      <td>@JoseMarky_200</td>\n",
              "      <td>0</td>\n",
              "    </tr>\n",
              "    <tr>\n",
              "      <th>1</th>\n",
              "      <td>@shirtsthtgohard</td>\n",
              "      <td>0</td>\n",
              "    </tr>\n",
              "    <tr>\n",
              "      <th>2</th>\n",
              "      <td>@moyo_world</td>\n",
              "      <td>0</td>\n",
              "    </tr>\n",
              "  </tbody>\n",
              "</table>\n",
              "</div>\n",
              "      <button class=\"colab-df-convert\" onclick=\"convertToInteractive('df-216b94f1-ce56-4da9-baa5-c16bd4aff5ea')\"\n",
              "              title=\"Convert this dataframe to an interactive table.\"\n",
              "              style=\"display:none;\">\n",
              "        \n",
              "  <svg xmlns=\"http://www.w3.org/2000/svg\" height=\"24px\"viewBox=\"0 0 24 24\"\n",
              "       width=\"24px\">\n",
              "    <path d=\"M0 0h24v24H0V0z\" fill=\"none\"/>\n",
              "    <path d=\"M18.56 5.44l.94 2.06.94-2.06 2.06-.94-2.06-.94-.94-2.06-.94 2.06-2.06.94zm-11 1L8.5 8.5l.94-2.06 2.06-.94-2.06-.94L8.5 2.5l-.94 2.06-2.06.94zm10 10l.94 2.06.94-2.06 2.06-.94-2.06-.94-.94-2.06-.94 2.06-2.06.94z\"/><path d=\"M17.41 7.96l-1.37-1.37c-.4-.4-.92-.59-1.43-.59-.52 0-1.04.2-1.43.59L10.3 9.45l-7.72 7.72c-.78.78-.78 2.05 0 2.83L4 21.41c.39.39.9.59 1.41.59.51 0 1.02-.2 1.41-.59l7.78-7.78 2.81-2.81c.8-.78.8-2.07 0-2.86zM5.41 20L4 18.59l7.72-7.72 1.47 1.35L5.41 20z\"/>\n",
              "  </svg>\n",
              "      </button>\n",
              "      \n",
              "  <style>\n",
              "    .colab-df-container {\n",
              "      display:flex;\n",
              "      flex-wrap:wrap;\n",
              "      gap: 12px;\n",
              "    }\n",
              "\n",
              "    .colab-df-convert {\n",
              "      background-color: #E8F0FE;\n",
              "      border: none;\n",
              "      border-radius: 50%;\n",
              "      cursor: pointer;\n",
              "      display: none;\n",
              "      fill: #1967D2;\n",
              "      height: 32px;\n",
              "      padding: 0 0 0 0;\n",
              "      width: 32px;\n",
              "    }\n",
              "\n",
              "    .colab-df-convert:hover {\n",
              "      background-color: #E2EBFA;\n",
              "      box-shadow: 0px 1px 2px rgba(60, 64, 67, 0.3), 0px 1px 3px 1px rgba(60, 64, 67, 0.15);\n",
              "      fill: #174EA6;\n",
              "    }\n",
              "\n",
              "    [theme=dark] .colab-df-convert {\n",
              "      background-color: #3B4455;\n",
              "      fill: #D2E3FC;\n",
              "    }\n",
              "\n",
              "    [theme=dark] .colab-df-convert:hover {\n",
              "      background-color: #434B5C;\n",
              "      box-shadow: 0px 1px 3px 1px rgba(0, 0, 0, 0.15);\n",
              "      filter: drop-shadow(0px 1px 2px rgba(0, 0, 0, 0.3));\n",
              "      fill: #FFFFFF;\n",
              "    }\n",
              "  </style>\n",
              "\n",
              "      <script>\n",
              "        const buttonEl =\n",
              "          document.querySelector('#df-216b94f1-ce56-4da9-baa5-c16bd4aff5ea button.colab-df-convert');\n",
              "        buttonEl.style.display =\n",
              "          google.colab.kernel.accessAllowed ? 'block' : 'none';\n",
              "\n",
              "        async function convertToInteractive(key) {\n",
              "          const element = document.querySelector('#df-216b94f1-ce56-4da9-baa5-c16bd4aff5ea');\n",
              "          const dataTable =\n",
              "            await google.colab.kernel.invokeFunction('convertToInteractive',\n",
              "                                                     [key], {});\n",
              "          if (!dataTable) return;\n",
              "\n",
              "          const docLinkHtml = 'Like what you see? Visit the ' +\n",
              "            '<a target=\"_blank\" href=https://colab.research.google.com/notebooks/data_table.ipynb>data table notebook</a>'\n",
              "            + ' to learn more about interactive tables.';\n",
              "          element.innerHTML = '';\n",
              "          dataTable['output_type'] = 'display_data';\n",
              "          await google.colab.output.renderOutput(dataTable, element);\n",
              "          const docLink = document.createElement('div');\n",
              "          docLink.innerHTML = docLinkHtml;\n",
              "          element.appendChild(docLink);\n",
              "        }\n",
              "      </script>\n",
              "    </div>\n",
              "  </div>\n",
              "  "
            ]
          },
          "metadata": {},
          "execution_count": 705
        }
      ]
    },
    {
      "cell_type": "markdown",
      "source": [
        "Mapping countries to integers (TEXT)"
      ],
      "metadata": {
        "id": "jFZpW2U4Picb"
      }
    },
    {
      "cell_type": "code",
      "source": [
        "num_classes = len(dfTEXT[\"country\"].value_counts())\n",
        "\n",
        "country_dict = dict()\n",
        "countries = dfTEXT[\"country\"].unique()\n",
        "for i in range(0, num_classes):\n",
        "    country_dict[countries[i]] = i\n",
        "\n",
        "dfTEXT[\"Labels\"] = dfTEXT[\"country\"].map(country_dict)\n",
        "\n",
        "#drop country, we are interested in the label only.\n",
        "dfTEXT = dfTEXT.drop([\"country\"], axis=1)\n",
        "dfTEXT.head()"
      ],
      "metadata": {
        "colab": {
          "base_uri": "https://localhost:8080/",
          "height": 206
        },
        "id": "-0btXQeNQJw_",
        "outputId": "288e9251-b94b-4f55-eb27-5b1fbc0923aa"
      },
      "execution_count": 706,
      "outputs": [
        {
          "output_type": "execute_result",
          "data": {
            "text/plain": [
              "                                                text  Labels\n",
              "0  creative entrepreneur year shock last night gr...       0\n",
              "1                                     available guys       0\n",
              "2  we re moving manufacturing plant ‍ ‍ shenzhen ...       0\n",
              "3  dünya kupasında da güvenin adresi  marsbahis  ...       0\n",
              "4  rules first test mining utilitynet  utility  u...       0"
            ],
            "text/html": [
              "\n",
              "  <div id=\"df-48df16e0-909f-4de7-8db9-28376cbd49d3\">\n",
              "    <div class=\"colab-df-container\">\n",
              "      <div>\n",
              "<style scoped>\n",
              "    .dataframe tbody tr th:only-of-type {\n",
              "        vertical-align: middle;\n",
              "    }\n",
              "\n",
              "    .dataframe tbody tr th {\n",
              "        vertical-align: top;\n",
              "    }\n",
              "\n",
              "    .dataframe thead th {\n",
              "        text-align: right;\n",
              "    }\n",
              "</style>\n",
              "<table border=\"1\" class=\"dataframe\">\n",
              "  <thead>\n",
              "    <tr style=\"text-align: right;\">\n",
              "      <th></th>\n",
              "      <th>text</th>\n",
              "      <th>Labels</th>\n",
              "    </tr>\n",
              "  </thead>\n",
              "  <tbody>\n",
              "    <tr>\n",
              "      <th>0</th>\n",
              "      <td>creative entrepreneur year shock last night gr...</td>\n",
              "      <td>0</td>\n",
              "    </tr>\n",
              "    <tr>\n",
              "      <th>1</th>\n",
              "      <td>available guys</td>\n",
              "      <td>0</td>\n",
              "    </tr>\n",
              "    <tr>\n",
              "      <th>2</th>\n",
              "      <td>we re moving manufacturing plant ‍ ‍ shenzhen ...</td>\n",
              "      <td>0</td>\n",
              "    </tr>\n",
              "    <tr>\n",
              "      <th>3</th>\n",
              "      <td>dünya kupasında da güvenin adresi  marsbahis  ...</td>\n",
              "      <td>0</td>\n",
              "    </tr>\n",
              "    <tr>\n",
              "      <th>4</th>\n",
              "      <td>rules first test mining utilitynet  utility  u...</td>\n",
              "      <td>0</td>\n",
              "    </tr>\n",
              "  </tbody>\n",
              "</table>\n",
              "</div>\n",
              "      <button class=\"colab-df-convert\" onclick=\"convertToInteractive('df-48df16e0-909f-4de7-8db9-28376cbd49d3')\"\n",
              "              title=\"Convert this dataframe to an interactive table.\"\n",
              "              style=\"display:none;\">\n",
              "        \n",
              "  <svg xmlns=\"http://www.w3.org/2000/svg\" height=\"24px\"viewBox=\"0 0 24 24\"\n",
              "       width=\"24px\">\n",
              "    <path d=\"M0 0h24v24H0V0z\" fill=\"none\"/>\n",
              "    <path d=\"M18.56 5.44l.94 2.06.94-2.06 2.06-.94-2.06-.94-.94-2.06-.94 2.06-2.06.94zm-11 1L8.5 8.5l.94-2.06 2.06-.94-2.06-.94L8.5 2.5l-.94 2.06-2.06.94zm10 10l.94 2.06.94-2.06 2.06-.94-2.06-.94-.94-2.06-.94 2.06-2.06.94z\"/><path d=\"M17.41 7.96l-1.37-1.37c-.4-.4-.92-.59-1.43-.59-.52 0-1.04.2-1.43.59L10.3 9.45l-7.72 7.72c-.78.78-.78 2.05 0 2.83L4 21.41c.39.39.9.59 1.41.59.51 0 1.02-.2 1.41-.59l7.78-7.78 2.81-2.81c.8-.78.8-2.07 0-2.86zM5.41 20L4 18.59l7.72-7.72 1.47 1.35L5.41 20z\"/>\n",
              "  </svg>\n",
              "      </button>\n",
              "      \n",
              "  <style>\n",
              "    .colab-df-container {\n",
              "      display:flex;\n",
              "      flex-wrap:wrap;\n",
              "      gap: 12px;\n",
              "    }\n",
              "\n",
              "    .colab-df-convert {\n",
              "      background-color: #E8F0FE;\n",
              "      border: none;\n",
              "      border-radius: 50%;\n",
              "      cursor: pointer;\n",
              "      display: none;\n",
              "      fill: #1967D2;\n",
              "      height: 32px;\n",
              "      padding: 0 0 0 0;\n",
              "      width: 32px;\n",
              "    }\n",
              "\n",
              "    .colab-df-convert:hover {\n",
              "      background-color: #E2EBFA;\n",
              "      box-shadow: 0px 1px 2px rgba(60, 64, 67, 0.3), 0px 1px 3px 1px rgba(60, 64, 67, 0.15);\n",
              "      fill: #174EA6;\n",
              "    }\n",
              "\n",
              "    [theme=dark] .colab-df-convert {\n",
              "      background-color: #3B4455;\n",
              "      fill: #D2E3FC;\n",
              "    }\n",
              "\n",
              "    [theme=dark] .colab-df-convert:hover {\n",
              "      background-color: #434B5C;\n",
              "      box-shadow: 0px 1px 3px 1px rgba(0, 0, 0, 0.15);\n",
              "      filter: drop-shadow(0px 1px 2px rgba(0, 0, 0, 0.3));\n",
              "      fill: #FFFFFF;\n",
              "    }\n",
              "  </style>\n",
              "\n",
              "      <script>\n",
              "        const buttonEl =\n",
              "          document.querySelector('#df-48df16e0-909f-4de7-8db9-28376cbd49d3 button.colab-df-convert');\n",
              "        buttonEl.style.display =\n",
              "          google.colab.kernel.accessAllowed ? 'block' : 'none';\n",
              "\n",
              "        async function convertToInteractive(key) {\n",
              "          const element = document.querySelector('#df-48df16e0-909f-4de7-8db9-28376cbd49d3');\n",
              "          const dataTable =\n",
              "            await google.colab.kernel.invokeFunction('convertToInteractive',\n",
              "                                                     [key], {});\n",
              "          if (!dataTable) return;\n",
              "\n",
              "          const docLinkHtml = 'Like what you see? Visit the ' +\n",
              "            '<a target=\"_blank\" href=https://colab.research.google.com/notebooks/data_table.ipynb>data table notebook</a>'\n",
              "            + ' to learn more about interactive tables.';\n",
              "          element.innerHTML = '';\n",
              "          dataTable['output_type'] = 'display_data';\n",
              "          await google.colab.output.renderOutput(dataTable, element);\n",
              "          const docLink = document.createElement('div');\n",
              "          docLink.innerHTML = docLinkHtml;\n",
              "          element.appendChild(docLink);\n",
              "        }\n",
              "      </script>\n",
              "    </div>\n",
              "  </div>\n",
              "  "
            ]
          },
          "metadata": {},
          "execution_count": 706
        }
      ]
    },
    {
      "cell_type": "markdown",
      "source": [
        "##Building the Model Using BoW (Bag of Words) and Reporting Scores"
      ],
      "metadata": {
        "id": "pcqsRegtZcoj"
      }
    },
    {
      "cell_type": "code",
      "source": [
        "model = MultinomialNB()"
      ],
      "metadata": {
        "id": "pYpSs2ukakSv"
      },
      "execution_count": 707,
      "outputs": []
    },
    {
      "cell_type": "markdown",
      "source": [
        "###MNB-HASH"
      ],
      "metadata": {
        "id": "A9a-VKj2bPD5"
      }
    },
    {
      "cell_type": "code",
      "source": [
        "corpus = dfHASH['hashtag']\n",
        "print(corpus)"
      ],
      "metadata": {
        "colab": {
          "base_uri": "https://localhost:8080/"
        },
        "id": "VubHyvr92E3y",
        "outputId": "ad3f177d-bab4-4485-d1dc-042110a24615"
      },
      "execution_count": 708,
      "outputs": [
        {
          "output_type": "stream",
          "name": "stdout",
          "text": [
            "2                      #Shenzhen\n",
            "2                          #ele…\n",
            "3                     #Marsbahis\n",
            "3                       #MarsBet\n",
            "4                       #utility\n",
            "                   ...          \n",
            "127190                        #…\n",
            "127194    #MotusWildlifeTracking\n",
            "127204                    #fungi\n",
            "127209                 #Shetland\n",
            "127214                    #fungi\n",
            "Name: hashtag, Length: 45540, dtype: object\n"
          ]
        }
      ]
    },
    {
      "cell_type": "code",
      "source": [
        "vectorizer = CountVectorizer()\n",
        "X = vectorizer.fit_transform(corpus)\n",
        "\n",
        "X_train, X_test, Y_train, Y_test = train_test_split(X, dfHASH.Labels, test_size=0.2, stratify=dfHASH.Labels, random_state=0)\n",
        "\n",
        "clf = model.fit(X_train, Y_train)\n",
        "Y_predict = clf.predict(X_test)\n",
        "\n",
        "print('Model Train Accuracy (score):', model.score(X_train, Y_train))\n",
        "print('Model Test Accuracy (score):', model.score(X_test, Y_test))\n",
        "print('Mean Absolute Error:', mean_absolute_error(Y_test, Y_predict))  \n",
        "print('Median Absolute Error:', median_absolute_error(Y_test, Y_predict))\n",
        "print(\"Accuracy: \", accuracy_score(Y_test, Y_predict))"
      ],
      "metadata": {
        "colab": {
          "base_uri": "https://localhost:8080/"
        },
        "id": "Emk_yiGxZfxd",
        "outputId": "8c938281-bf07-4eaf-cc72-cb44eb9acc8c"
      },
      "execution_count": 709,
      "outputs": [
        {
          "output_type": "stream",
          "name": "stdout",
          "text": [
            "Model Train Accuracy (score): 0.8093434343434344\n",
            "Model Test Accuracy (score): 0.7950153711023277\n",
            "Mean Absolute Error: 0.9574000878348704\n",
            "Median Absolute Error: 0.0\n",
            "Accuracy:  0.7950153711023277\n"
          ]
        }
      ]
    },
    {
      "cell_type": "code",
      "source": [
        "print(classification_report(Y_test, Y_predict))\n",
        "print()\n",
        "print(\"Confusion Matrix: \\n\", confusion_matrix(Y_test, Y_predict))"
      ],
      "metadata": {
        "colab": {
          "base_uri": "https://localhost:8080/"
        },
        "id": "gg_zKysedqrC",
        "outputId": "20979916-d32c-4782-e198-e292f35d833c"
      },
      "execution_count": 710,
      "outputs": [
        {
          "output_type": "stream",
          "name": "stdout",
          "text": [
            "              precision    recall  f1-score   support\n",
            "\n",
            "           0       0.77      0.99      0.87      6002\n",
            "           1       1.00      0.13      0.23       107\n",
            "           2       0.98      0.42      0.59       156\n",
            "           3       0.92      0.51      0.65      1316\n",
            "           4       1.00      0.18      0.30       113\n",
            "           5       0.99      0.51      0.67       629\n",
            "           6       1.00      0.05      0.10       119\n",
            "           7       0.00      0.00      0.00        63\n",
            "           8       0.93      0.31      0.47       509\n",
            "           9       0.97      0.35      0.52        94\n",
            "\n",
            "    accuracy                           0.80      9108\n",
            "   macro avg       0.86      0.34      0.44      9108\n",
            "weighted avg       0.82      0.80      0.76      9108\n",
            "\n",
            "\n",
            "Confusion Matrix: \n",
            " [[5960    0    0   37    0    1    0    0    4    0]\n",
            " [  77   14    0   16    0    0    0    0    0    0]\n",
            " [  90    0   65    1    0    0    0    0    0    0]\n",
            " [ 647    0    1  666    0    0    0    0    2    0]\n",
            " [  93    0    0    0   20    0    0    0    0    0]\n",
            " [ 308    0    0    1    0  319    0    0    1    0]\n",
            " [ 109    0    0    3    0    0    6    0    0    1]\n",
            " [  62    0    0    0    0    1    0    0    0    0]\n",
            " [ 349    0    0    2    0    0    0    0  158    0]\n",
            " [  56    0    0    0    0    0    0    0    5   33]]\n"
          ]
        },
        {
          "output_type": "stream",
          "name": "stderr",
          "text": [
            "/usr/local/lib/python3.8/dist-packages/sklearn/metrics/_classification.py:1318: UndefinedMetricWarning: Precision and F-score are ill-defined and being set to 0.0 in labels with no predicted samples. Use `zero_division` parameter to control this behavior.\n",
            "  _warn_prf(average, modifier, msg_start, len(result))\n",
            "/usr/local/lib/python3.8/dist-packages/sklearn/metrics/_classification.py:1318: UndefinedMetricWarning: Precision and F-score are ill-defined and being set to 0.0 in labels with no predicted samples. Use `zero_division` parameter to control this behavior.\n",
            "  _warn_prf(average, modifier, msg_start, len(result))\n",
            "/usr/local/lib/python3.8/dist-packages/sklearn/metrics/_classification.py:1318: UndefinedMetricWarning: Precision and F-score are ill-defined and being set to 0.0 in labels with no predicted samples. Use `zero_division` parameter to control this behavior.\n",
            "  _warn_prf(average, modifier, msg_start, len(result))\n"
          ]
        }
      ]
    },
    {
      "cell_type": "code",
      "source": [
        "set(Y_test) - set(Y_predict)"
      ],
      "metadata": {
        "colab": {
          "base_uri": "https://localhost:8080/"
        },
        "id": "7YJTBlMtfXEn",
        "outputId": "071eba3d-e00e-4e21-bf51-f92876702ca8"
      },
      "execution_count": 711,
      "outputs": [
        {
          "output_type": "execute_result",
          "data": {
            "text/plain": [
              "{7}"
            ]
          },
          "metadata": {},
          "execution_count": 711
        }
      ]
    },
    {
      "cell_type": "markdown",
      "source": [
        "This shows that 7 is never predicted."
      ],
      "metadata": {
        "id": "1VZ-UlL_fdCv"
      }
    },
    {
      "cell_type": "markdown",
      "source": [
        "MNB-MENT"
      ],
      "metadata": {
        "id": "PC1796BFbYGQ"
      }
    },
    {
      "cell_type": "code",
      "source": [
        "corpus = dfMENT['mention']\n",
        "print(corpus)"
      ],
      "metadata": {
        "colab": {
          "base_uri": "https://localhost:8080/"
        },
        "id": "LTlQ4lbbbaw0",
        "outputId": "46e4b00a-6566-441c-f941-308ad8df9547"
      },
      "execution_count": 712,
      "outputs": [
        {
          "output_type": "stream",
          "name": "stdout",
          "text": [
            "0             @JonnyCaplan\n",
            "0                     @The\n",
            "1           @JoseMarky_200\n",
            "1         @shirtsthtgohard\n",
            "2              @moyo_world\n",
            "                ...       \n",
            "127229         @StevieD131\n",
            "127229           @Stewchat\n",
            "127230           @Stewchat\n",
            "127231       @MarcDavenant\n",
            "127232     @connellyandrew\n",
            "Name: mention, Length: 133179, dtype: object\n"
          ]
        }
      ]
    },
    {
      "cell_type": "code",
      "source": [
        "vectorizer = CountVectorizer()\n",
        "X = vectorizer.fit_transform(corpus)\n",
        "\n",
        "X_train, X_test, Y_train, Y_test = train_test_split(X, dfMENT.Labels, test_size=0.2, stratify=dfMENT.Labels, random_state=0)\n",
        "\n",
        "clf = model.fit(X_train, Y_train)\n",
        "Y_predict = clf.predict(X_test)\n",
        "\n",
        "print('Model Train Accuracy (score):', model.score(X_train, Y_train))\n",
        "print('Model Test Accuracy (score):', model.score(X_test, Y_test))\n",
        "print('Mean Absolute Error:', mean_absolute_error(Y_test, Y_predict))  \n",
        "print('Median Absolute Error:', median_absolute_error(Y_test, Y_predict))\n",
        "print(\"Accuracy: \", accuracy_score(Y_test, Y_predict))"
      ],
      "metadata": {
        "colab": {
          "base_uri": "https://localhost:8080/"
        },
        "id": "lYN2ghR4HHqY",
        "outputId": "a7d609d0-72d2-4e9d-872e-f035f92a8938"
      },
      "execution_count": 713,
      "outputs": [
        {
          "output_type": "stream",
          "name": "stdout",
          "text": [
            "Model Train Accuracy (score): 0.7271524173338464\n",
            "Model Test Accuracy (score): 0.7009310707313411\n",
            "Mean Absolute Error: 1.3381889172548431\n",
            "Median Absolute Error: 0.0\n",
            "Accuracy:  0.7009310707313411\n"
          ]
        }
      ]
    },
    {
      "cell_type": "code",
      "source": [
        "print(classification_report(Y_test, Y_predict))\n",
        "print()\n",
        "print(\"Confusion Matrix: \\n\", confusion_matrix(Y_test, Y_predict))"
      ],
      "metadata": {
        "colab": {
          "base_uri": "https://localhost:8080/"
        },
        "id": "XPbhfGzffurX",
        "outputId": "152741ae-2d44-4b63-d157-4073980aeea0"
      },
      "execution_count": 714,
      "outputs": [
        {
          "output_type": "stream",
          "name": "stdout",
          "text": [
            "              precision    recall  f1-score   support\n",
            "\n",
            "           0       0.67      0.99      0.80     15867\n",
            "           1       1.00      0.03      0.07       587\n",
            "           2       0.96      0.09      0.16       791\n",
            "           3       0.91      0.42      0.57      3847\n",
            "           4       0.96      0.23      0.37      1974\n",
            "           5       1.00      0.02      0.04       566\n",
            "           6       1.00      0.03      0.06       316\n",
            "           7       1.00      0.06      0.11       247\n",
            "           8       0.93      0.31      0.46      1822\n",
            "           9       0.99      0.22      0.36       619\n",
            "\n",
            "    accuracy                           0.70     26636\n",
            "   macro avg       0.94      0.24      0.30     26636\n",
            "weighted avg       0.78      0.70      0.64     26636\n",
            "\n",
            "\n",
            "Confusion Matrix: \n",
            " [[15786     0     1    62     6     0     0     0    10     2]\n",
            " [  533    20     0    29     0     0     0     0     5     0]\n",
            " [  713     0    71     4     2     0     0     0     1     0]\n",
            " [ 2219     0     1  1615     3     0     0     0     9     0]\n",
            " [ 1489     0     0    31   452     0     0     0     2     0]\n",
            " [  526     0     1     9     5    11     0     0    14     0]\n",
            " [  302     0     0     4     1     0     9     0     0     0]\n",
            " [  233     0     0     0     0     0     0    14     0     0]\n",
            " [ 1248     0     0    16     1     0     0     0   557     0]\n",
            " [  480     0     0     4     0     0     0     0     0   135]]\n"
          ]
        }
      ]
    },
    {
      "cell_type": "code",
      "source": [
        "set(Y_test) - set(Y_predict)"
      ],
      "metadata": {
        "colab": {
          "base_uri": "https://localhost:8080/"
        },
        "id": "JnRWedIBfxaa",
        "outputId": "7b31af58-0434-47fe-e5b4-e9d6a65ed4e3"
      },
      "execution_count": 715,
      "outputs": [
        {
          "output_type": "execute_result",
          "data": {
            "text/plain": [
              "set()"
            ]
          },
          "metadata": {},
          "execution_count": 715
        }
      ]
    },
    {
      "cell_type": "markdown",
      "source": [
        "MNB-TEXT"
      ],
      "metadata": {
        "id": "4-2k0jJybbHY"
      }
    },
    {
      "cell_type": "code",
      "source": [
        "corpus = dfTEXT['text']\n",
        "print(corpus)"
      ],
      "metadata": {
        "colab": {
          "base_uri": "https://localhost:8080/"
        },
        "id": "xop_97hDbeRw",
        "outputId": "0bbcf6c7-562e-45d5-8be2-f7cb6a8d413f"
      },
      "execution_count": 716,
      "outputs": [
        {
          "output_type": "stream",
          "name": "stdout",
          "text": [
            "0         creative entrepreneur year shock last night gr...\n",
            "1                                            available guys\n",
            "2         we re moving manufacturing plant ‍ ‍ shenzhen ...\n",
            "3         dünya kupasında da güvenin adresi  marsbahis  ...\n",
            "4         rules first test mining utilitynet  utility  u...\n",
            "                                ...                        \n",
            "127228    seabirds breding gough island enjoyed excelent...\n",
            "127229    wouldn’t mind left went least could stil make ...\n",
            "127230                                                 left\n",
            "127231    man walks towards stelworks hartlepol mcculin ...\n",
            "127232    incredible moment suela braverman inadvertentl...\n",
            "Name: text, Length: 102650, dtype: object\n"
          ]
        }
      ]
    },
    {
      "cell_type": "code",
      "source": [
        "vectorizer = CountVectorizer()\n",
        "X = vectorizer.fit_transform(corpus)\n",
        "\n",
        "X_train, X_test, Y_train, Y_test = train_test_split(X, dfTEXT.Labels, test_size=0.2, stratify=dfTEXT.Labels, random_state=0)\n",
        "\n",
        "clf = model.fit(X_train, Y_train)\n",
        "Y_predict = clf.predict(X_test)\n",
        "\n",
        "print('Model Train Accuracy (score):', model.score(X_train, Y_train))\n",
        "print('Model Test Accuracy (score):', model.score(X_test, Y_test))\n",
        "print('Mean Absolute Error:', mean_absolute_error(Y_test, Y_predict))  \n",
        "print('Median Absolute Error:', median_absolute_error(Y_test, Y_predict))\n",
        "print(\"Accuracy: \", accuracy_score(Y_test, Y_predict))"
      ],
      "metadata": {
        "colab": {
          "base_uri": "https://localhost:8080/"
        },
        "id": "uZyG8qbMHRHm",
        "outputId": "35ac9d1d-b902-47c2-b025-52a843d724c3"
      },
      "execution_count": 717,
      "outputs": [
        {
          "output_type": "stream",
          "name": "stdout",
          "text": [
            "Model Train Accuracy (score): 0.7313200194836824\n",
            "Model Test Accuracy (score): 0.6686799805163176\n",
            "Mean Absolute Error: 1.4087189478811495\n",
            "Median Absolute Error: 0.0\n",
            "Accuracy:  0.6686799805163176\n"
          ]
        }
      ]
    },
    {
      "cell_type": "code",
      "source": [
        "print(classification_report(Y_test, Y_predict))\n",
        "print()\n",
        "print(\"Confusion Matrix: \\n\", confusion_matrix(Y_test, Y_predict))"
      ],
      "metadata": {
        "colab": {
          "base_uri": "https://localhost:8080/"
        },
        "id": "NJYw3swKf3Sf",
        "outputId": "12a902d8-c71c-40f7-9c3a-8b0b897083e5"
      },
      "execution_count": 718,
      "outputs": [
        {
          "output_type": "stream",
          "name": "stdout",
          "text": [
            "              precision    recall  f1-score   support\n",
            "\n",
            "           0       0.68      0.94      0.79     12218\n",
            "           1       0.61      0.10      0.17       511\n",
            "           2       0.67      0.29      0.41       521\n",
            "           3       0.61      0.31      0.41      2880\n",
            "           4       0.66      0.22      0.33      1708\n",
            "           5       0.30      0.07      0.11       422\n",
            "           6       0.58      0.25      0.35       255\n",
            "           7       0.59      0.77      0.67       213\n",
            "           8       0.57      0.24      0.34      1398\n",
            "           9       0.77      0.52      0.63       404\n",
            "\n",
            "    accuracy                           0.67     20530\n",
            "   macro avg       0.60      0.37      0.42     20530\n",
            "weighted avg       0.65      0.67      0.62     20530\n",
            "\n",
            "\n",
            "Confusion Matrix: \n",
            " [[11466    19    44   307    99    42    22    69   109    41]\n",
            " [  364    51     8    44    13     0     3     4    24     0]\n",
            " [  302     2   152    36    15     3     0     2     9     0]\n",
            " [ 1871     3     0   886    34     6     2    21    52     5]\n",
            " [ 1216     3     4    89   372     2     2     9     6     5]\n",
            " [  300     1     2    31     3    29    17     3    36     0]\n",
            " [  150     0     7     5     5     1    64     6     6    11]\n",
            " [   35     3     0     4     6     0     0   164     1     0]\n",
            " [ 1003     2     2    36     8    13     0     2   332     0]\n",
            " [  151     0     8    20     5     1     0     0     7   212]]\n"
          ]
        }
      ]
    },
    {
      "cell_type": "code",
      "source": [
        "set(Y_test) - set(Y_predict)"
      ],
      "metadata": {
        "colab": {
          "base_uri": "https://localhost:8080/"
        },
        "id": "we-xc88-f6j4",
        "outputId": "5129a2a9-5729-4b44-e5e2-725dfa620bc1"
      },
      "execution_count": 719,
      "outputs": [
        {
          "output_type": "execute_result",
          "data": {
            "text/plain": [
              "set()"
            ]
          },
          "metadata": {},
          "execution_count": 719
        }
      ]
    }
  ]
}