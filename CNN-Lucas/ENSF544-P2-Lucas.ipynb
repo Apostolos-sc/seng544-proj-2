{
 "cells": [
  {
   "cell_type": "code",
   "execution_count": 2,
   "metadata": {},
   "outputs": [
    {
     "name": "stdout",
     "output_type": "stream",
     "text": [
      "Metal device set to: Apple M1 Pro\n",
      "\n",
      "systemMemory: 16.00 GB\n",
      "maxCacheSize: 5.33 GB\n",
      "\n"
     ]
    },
    {
     "name": "stderr",
     "output_type": "stream",
     "text": [
      "2022-12-05 20:59:54.330098: I tensorflow/core/common_runtime/pluggable_device/pluggable_device_factory.cc:306] Could not identify NUMA node of platform GPU ID 0, defaulting to 0. Your kernel may not have been built with NUMA support.\n",
      "2022-12-05 20:59:54.330486: I tensorflow/core/common_runtime/pluggable_device/pluggable_device_factory.cc:272] Created TensorFlow device (/job:localhost/replica:0/task:0/device:GPU:0 with 0 MB memory) -> physical PluggableDevice (device: 0, name: METAL, pci bus id: <undefined>)\n",
      "2022-12-05 20:59:54.547610: W tensorflow/core/platform/profile_utils/cpu_utils.cc:128] Failed to get CPU frequency: 0 Hz\n"
     ]
    },
    {
     "name": "stdout",
     "output_type": "stream",
     "text": [
      "Epoch 1/10\n"
     ]
    },
    {
     "name": "stderr",
     "output_type": "stream",
     "text": [
      "2022-12-05 20:59:54.829144: I tensorflow/core/grappler/optimizers/custom_graph_optimizer_registry.cc:114] Plugin optimizer for device_type GPU is enabled.\n"
     ]
    },
    {
     "name": "stdout",
     "output_type": "stream",
     "text": [
      "2689/2689 [==============================] - ETA: 0s - loss: 0.0440 - accuracy: 0.5097"
     ]
    },
    {
     "name": "stderr",
     "output_type": "stream",
     "text": [
      "2022-12-05 21:00:49.953844: I tensorflow/core/grappler/optimizers/custom_graph_optimizer_registry.cc:114] Plugin optimizer for device_type GPU is enabled.\n"
     ]
    },
    {
     "name": "stdout",
     "output_type": "stream",
     "text": [
      "2689/2689 [==============================] - 57s 20ms/step - loss: 0.0440 - accuracy: 0.5097 - val_loss: 0.0374 - val_accuracy: 0.5089\n",
      "Epoch 2/10\n",
      "2689/2689 [==============================] - 52s 20ms/step - loss: 0.0362 - accuracy: 0.5195 - val_loss: 0.0365 - val_accuracy: 0.5211\n",
      "Epoch 3/10\n",
      "2689/2689 [==============================] - 52s 19ms/step - loss: 0.0346 - accuracy: 0.5387 - val_loss: 0.0359 - val_accuracy: 0.5342\n",
      "Epoch 4/10\n",
      "2689/2689 [==============================] - 53s 20ms/step - loss: 0.0333 - accuracy: 0.5541 - val_loss: 0.0356 - val_accuracy: 0.5316\n",
      "Epoch 5/10\n",
      "2689/2689 [==============================] - 51s 19ms/step - loss: 0.0322 - accuracy: 0.5676 - val_loss: 0.0355 - val_accuracy: 0.5380\n",
      "Epoch 6/10\n",
      "2689/2689 [==============================] - 49s 18ms/step - loss: 0.0313 - accuracy: 0.5788 - val_loss: 0.0355 - val_accuracy: 0.5380\n",
      "Epoch 7/10\n",
      "2689/2689 [==============================] - 46s 17ms/step - loss: 0.0306 - accuracy: 0.5881 - val_loss: 0.0357 - val_accuracy: 0.5299\n",
      "Epoch 8/10\n",
      "2689/2689 [==============================] - 44s 16ms/step - loss: 0.0300 - accuracy: 0.5949 - val_loss: 0.0361 - val_accuracy: 0.5283\n",
      "Epoch 9/10\n",
      "2689/2689 [==============================] - 44s 16ms/step - loss: 0.0294 - accuracy: 0.5997 - val_loss: 0.0363 - val_accuracy: 0.5259\n",
      "Epoch 10/10\n",
      "2689/2689 [==============================] - 46s 17ms/step - loss: 0.0290 - accuracy: 0.6065 - val_loss: 0.0369 - val_accuracy: 0.5242\n",
      "747/747 [==============================] - 4s 5ms/step - loss: 0.0366 - accuracy: 0.5258\n",
      "Testing Accuracy is 52.5776207447052%\n",
      "Testing Loss is 0.036642979830503464\n"
     ]
    }
   ],
   "source": [
    "import pandas as pd\n",
    "import numpy as np\n",
    "\n",
    "import sklearn\n",
    "from sklearn.preprocessing import OneHotEncoder\n",
    "from sklearn.model_selection import train_test_split\n",
    "from sklearn.preprocessing import LabelEncoder\n",
    "\n",
    "import tensorflow\n",
    "from tensorflow.keras.utils import to_categorical\n",
    "from tensorflow.keras.preprocessing.text import one_hot\n",
    "from tensorflow.keras.preprocessing.sequence import pad_sequences\n",
    "from tensorflow.keras.layers import Dense, Embedding, GlobalMaxPooling1D, Conv1D, Dropout, Flatten\n",
    "from tensorflow.keras.models import Sequential\n",
    "from tensorflow.keras.optimizers import Adam\n",
    "\n",
    "# Import pre-cleaned Twitter data\n",
    "data = pd.read_csv(\"cleaned_tweets.csv\")\n",
    "X = data['text']\n",
    "Y = data['country']\n",
    "\n",
    "# Encode tweet countries as integers, then covert that to a binary matrix (one hot encoding)\n",
    "enc = LabelEncoder()\n",
    "Y = enc.fit_transform(Y)\n",
    "Y = to_categorical(Y, num_classes=78)\n",
    "\n",
    "# Encode tweet text using one hot encoding\n",
    "vocab_size = 5000\n",
    "X = [one_hot(d, vocab_size) for d in X]\n",
    "\n",
    "# Pad text data for convolutions\n",
    "max_length = 100\n",
    "X = pad_sequences(X, maxlen=max_length, padding='post')\n",
    "\n",
    "# Split text into train/test/validate\n",
    "X_train, X_test, Y_train, Y_test = train_test_split(X, Y, test_size=0.2)\n",
    "X_train, X_valid, Y_train, Y_valid = train_test_split(X_train, Y_train, test_size=0.1)\n",
    "\n",
    "# Build CNN model\n",
    "model = Sequential()\n",
    "model.add(Embedding(vocab_size, 8, input_length=max_length))\n",
    "model.add(Conv1D(filters=128, kernel_size=5, padding='Same', activation='relu'))\n",
    "model.add(GlobalMaxPooling1D())\n",
    "model.add(Dropout(0.25))\n",
    "\n",
    "# Fully connected\n",
    "model.add(Flatten())\n",
    "model.add(Dense(256, activation='relu'))\n",
    "model.add(Dropout(0.5))\n",
    "model.add(Dense(78, activation=\"sigmoid\"))\n",
    "\n",
    "# Define the optimizer\n",
    "optimizer = Adam(learning_rate=0.001, beta_1=0.9, beta_2=0.999)\n",
    "\n",
    "# Compile the model\n",
    "model.compile(optimizer=optimizer, loss=\"binary_crossentropy\", metrics=[\"accuracy\"])\n",
    "\n",
    "# Fit the model\n",
    "epochs = 10\n",
    "batch_size = 32\n",
    "history = model.fit(X_train, Y_train, epochs=epochs, batch_size=batch_size, validation_data=(X_valid, Y_valid))\n",
    "\n",
    "# Display results\n",
    "loss, accuracy = model.evaluate(X_test, Y_test)\n",
    "print('Testing Accuracy is {}%'.format(accuracy * 100))\n",
    "print('Testing Loss is {}'.format(loss))"
   ]
  }
 ],
 "metadata": {
  "kernelspec": {
   "display_name": "Python 3.9.15 ('tensorflow')",
   "language": "python",
   "name": "python3"
  },
  "language_info": {
   "codemirror_mode": {
    "name": "ipython",
    "version": 3
   },
   "file_extension": ".py",
   "mimetype": "text/x-python",
   "name": "python",
   "nbconvert_exporter": "python",
   "pygments_lexer": "ipython3",
   "version": "3.9.15"
  },
  "orig_nbformat": 4,
  "vscode": {
   "interpreter": {
    "hash": "8fcb00819dde9475f3b0217d122f11c977080c5f8afaee640ba5f37ba0d3f2a3"
   }
  }
 },
 "nbformat": 4,
 "nbformat_minor": 2
}
