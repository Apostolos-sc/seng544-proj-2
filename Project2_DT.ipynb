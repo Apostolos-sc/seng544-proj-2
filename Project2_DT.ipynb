{
 "cells": [
  {
   "cell_type": "code",
   "execution_count": 18,
   "metadata": {},
   "outputs": [],
   "source": [
    "import pandas as pd\n",
    "import pandas as pd\n",
    "import numpy as np\n",
    "from sklearn import preprocessing\n",
    "from sklearn.model_selection import train_test_split\n",
    "from sklearn.feature_extraction.text import CountVectorizer\n",
    "from sklearn.model_selection import cross_val_score\n",
    "from sklearn.tree import DecisionTreeClassifier\n",
    "from sklearn.metrics import accuracy_score\n",
    "from sklearn.metrics import mean_absolute_error\n",
    "from sklearn.metrics import mean_squared_error\n",
    "from sklearn.metrics import r2_score\n",
    "import re \n",
    "import string"
   ]
  },
  {
   "cell_type": "markdown",
   "metadata": {},
   "source": [
    "Loading the Data"
   ]
  },
  {
   "cell_type": "code",
   "execution_count": 39,
   "metadata": {},
   "outputs": [
    {
     "name": "stdout",
     "output_type": "stream",
     "text": [
      "Index(['user_id', 'created_at', 'tweet_id', 'text', 'country'], dtype='object')\n",
      "(127333, 5)\n",
      "Count of each unqiue country\n",
      "USA            65361\n",
      "UK             15142\n",
      "Canada          8985\n",
      "Nigeria         7476\n",
      "India           2776\n",
      "               ...  \n",
      "Panama            99\n",
      "Lithuania         99\n",
      "Morocco           98\n",
      "Ivory Coast       98\n",
      "Maldives           2\n",
      "Name: country, Length: 78, dtype: int64\n"
     ]
    }
   ],
   "source": [
    "df = pd.read_csv('data\\\\tweets.csv')\n",
    "print(df.columns)\n",
    "print(df.shape)\n",
    "\n",
    "print(\"Count of each unqiue country\")\n",
    "print(df['country'].value_counts())"
   ]
  },
  {
   "cell_type": "markdown",
   "metadata": {},
   "source": [
    "Data Preprocessing\n",
    "1. Remove extra characters from tweet text\n",
    "2. Capitalize all words\n",
    "3. Encode country to an integer value"
   ]
  },
  {
   "cell_type": "code",
   "execution_count": 40,
   "metadata": {},
   "outputs": [],
   "source": [
    "#Select number of countries that we want our model to examine (Top in # of tweets)\n",
    "num_of_top_countries = 10\n",
    "df = df[df[\"country\"].isin(df[\"country\"].value_counts()[:num_of_top_countries].index.values)]"
   ]
  },
  {
   "cell_type": "code",
   "execution_count": 41,
   "metadata": {},
   "outputs": [
    {
     "data": {
      "text/plain": [
       "<bound method NDFrame.head of              user_id                created_at      tweet_id  \\\n",
       "0       1.294095e+18  2022-11-22T22:13:48.000Z  1.595179e+18   \n",
       "1       1.294095e+18  2022-11-22T20:33:39.000Z  1.595154e+18   \n",
       "2       1.294095e+18  2022-11-22T19:14:08.000Z  1.595134e+18   \n",
       "3       1.294095e+18  2022-11-22T16:56:17.000Z  1.595099e+18   \n",
       "4       1.294095e+18  2022-11-22T15:05:37.000Z  1.595071e+18   \n",
       "...              ...                       ...           ...   \n",
       "127228  4.704441e+08  2022-11-23T18:34:17.000Z  1.595486e+18   \n",
       "127229  4.704441e+08  2022-11-23T18:33:17.000Z  1.595486e+18   \n",
       "127230  4.704441e+08  2022-11-23T18:33:14.000Z  1.595486e+18   \n",
       "127231  4.704441e+08  2022-11-23T18:30:05.000Z  1.595485e+18   \n",
       "127232  4.704441e+08  2022-11-23T17:49:37.000Z  1.595475e+18   \n",
       "\n",
       "                                                     text  country  \n",
       "0       Rt Jonnycaplan Creative Entrepreneur Of The Ye...        9  \n",
       "1       Rt Josemarky 200 Shirtsthtgohard Available Her...        9  \n",
       "2       Rt Moyo World We Re Moving Our Manufacturing P...        9  \n",
       "3       Rt Winwinbank D Nya Kupas Nda Da G Venin Adres...        9  \n",
       "4       Rt Utilitynet The Rules For The First Test Min...        9  \n",
       "...                                                   ...      ...  \n",
       "127228  Rt Birdguides Seabirds Breeding On Gough Islan...        8  \n",
       "127229  Rt Stevied131 Stewchat I Wouldn T Mind If The ...        8  \n",
       "127230      Rt Stewchat Or The Left Https T Co 6o5ag0qhdj        8  \n",
       "127231  Rt Marcdavenant A Man Walks Towards The Steelw...        8  \n",
       "127232  Rt Connellyandrew Incredible Moment Where Suel...        8  \n",
       "\n",
       "[109323 rows x 5 columns]>"
      ]
     },
     "execution_count": 41,
     "metadata": {},
     "output_type": "execute_result"
    }
   ],
   "source": [
    "#removing extra characters\n",
    "df['text'] = df[\"text\"].map(lambda text: re.sub('[^A-Za-z0-9 ]+',' ', text))\n",
    "\n",
    "#capitalize all words\n",
    "df['text'] = df[\"text\"].map(lambda text: string.capwords(text))\n",
    "\n",
    "\n",
    "# Encode Categorical Features\n",
    "label_encoder = preprocessing.LabelEncoder()\n",
    "df['country']= label_encoder.fit_transform(df['country'])\n",
    "df.head"
   ]
  },
  {
   "cell_type": "code",
   "execution_count": 42,
   "metadata": {},
   "outputs": [],
   "source": [
    "#divide dataset into data (tweet texts) and target (country)\n",
    "data = df['text']\n",
    "target = df.iloc[:,-1]\n",
    "\n",
    "#split data into 80:20 train and test sets\n",
    "X_train, X_test, y_train, y_test = train_test_split(data, target, test_size=0.2, random_state=7,stratify=target)"
   ]
  },
  {
   "cell_type": "code",
   "execution_count": 43,
   "metadata": {},
   "outputs": [
    {
     "name": "stdout",
     "output_type": "stream",
     "text": [
      "Samples per country in training set: [ 7188  1118  2221  1818  5981  1676  2148   907 12113 52288]\n"
     ]
    }
   ],
   "source": [
    "print(\"Samples per country in training set: {}\".format(np.bincount(y_train)))"
   ]
  },
  {
   "cell_type": "markdown",
   "metadata": {},
   "source": [
    "Apply Default Vectorization and then fit Decision Tree Classifier Model"
   ]
  },
  {
   "cell_type": "code",
   "execution_count": 44,
   "metadata": {},
   "outputs": [],
   "source": [
    "vectorizer = CountVectorizer().fit(X_train) #fit vectorizer on training\n",
    "X_train = vectorizer.transform(X_train)\n",
    "X_test = vectorizer.transform(X_test)"
   ]
  },
  {
   "cell_type": "code",
   "execution_count": 45,
   "metadata": {},
   "outputs": [],
   "source": [
    "# print(X_train)\n",
    "tree = DecisionTreeClassifier(random_state=0).fit(X_train,y_train) #takes 6-7 min"
   ]
  },
  {
   "cell_type": "code",
   "execution_count": 46,
   "metadata": {},
   "outputs": [
    {
     "name": "stdout",
     "output_type": "stream",
     "text": [
      "Accuracy: 0.6506288589069289\n",
      "MAE: 1.541458952664075\n",
      "MSE: 10.05296135376172\n",
      "RMSE: 3.170640527363788\n",
      "r2 score: -0.16109617392318798\n"
     ]
    }
   ],
   "source": [
    "y_pred = tree.predict(X_test)\n",
    "\n",
    "print(\"Accuracy:\",accuracy_score(y_test, y_pred))\n",
    "print(\"MAE:\",mean_absolute_error(y_test, y_pred))\n",
    "print(\"MSE:\",mean_squared_error(y_test, y_pred))\n",
    "print(\"RMSE:\",mean_squared_error(y_test, y_pred,squared=False))\n",
    "print(\"r2 score:\",r2_score(y_test, y_pred))"
   ]
  },
  {
   "cell_type": "markdown",
   "metadata": {},
   "source": [
    "Modification"
   ]
  },
  {
   "cell_type": "code",
   "execution_count": 34,
   "metadata": {},
   "outputs": [],
   "source": [
    "df = pd.read_csv('data\\\\tweets.csv')\n",
    "num_of_top_countries = 10\n",
    "df = df[df[\"country\"].isin(df[\"country\"].value_counts()[:num_of_top_countries].index.values)]"
   ]
  },
  {
   "cell_type": "markdown",
   "metadata": {},
   "source": [
    "New Preprocessing"
   ]
  },
  {
   "cell_type": "code",
   "execution_count": 35,
   "metadata": {},
   "outputs": [],
   "source": [
    "from nltk.corpus import stopwords\n",
    "from nltk.tokenize import word_tokenize\n",
    "from collections import Counter\n",
    "import nltk\n",
    "import re\n",
    "import numpy as np\n",
    "stop_words = stopwords.words('english')\n",
    "stopwords_dict = Counter(stop_words)\n",
    "#remove rt from begining of sentence - do first cause RT is capitalized.\n",
    "df[\"text\"] = df[\"text\"].map(lambda name: re.sub('^(RT)', ' ', name))\n",
    "#removing links\n",
    "df[\"text\"] = df[\"text\"].map(lambda name: re.sub(r'http\\S+', ' ', name))\n",
    "#removing mentions\n",
    "df[\"text\"] = df[\"text\"].map(lambda name: re.sub(\"@([a-zA-Z0-9_]{1,50})\", '', name))\n",
    "\n",
    "#remove repeated instances of characters\n",
    "#removing repeating characters\n",
    "repeat_pattern = re.compile(r'(\\w)\\1*') #compile the pattern we are looking for\n",
    "match_substitution = r'\\1' #substituion pattern\n",
    "df[\"text\"] = df[\"text\"].map(lambda name: re.sub(repeat_pattern, match_substitution, name))\n",
    "#removal of digits with regex - we do this here because it is possible to have numbers in tags and urls replace with space.\n",
    "df[\"text\"] = df[\"text\"].map(lambda name: re.sub(r'[0-9]', ' ', name))\n",
    "\n",
    "EMOJI_PATTERN = re.compile(\n",
    "    \"[\"\n",
    "    \"\\U0001F1E0-\\U0001F1FF\"  # flags (iOS)\n",
    "    \"\\U0001F300-\\U0001F5FF\"  # symbols & pictographs\n",
    "    \"\\U0001F600-\\U0001F64F\"  # emoticons\n",
    "    \"\\U0001F680-\\U0001F6FF\"  # transport & map symbols\n",
    "    \"\\U0001F700-\\U0001F77F\"  # alchemical symbols\n",
    "    \"\\U0001F780-\\U0001F7FF\"  # Geometric Shapes Extended\n",
    "    \"\\U0001F800-\\U0001F8FF\"  # Supplemental Arrows-C\n",
    "    \"\\U0001F900-\\U0001F9FF\"  # Supplemental Symbols and Pictographs\n",
    "    \"\\U0001FA00-\\U0001FA6F\"  # Chess Symbols\n",
    "    \"\\U0001FA70-\\U0001FAFF\"  # Symbols and Pictographs Extended-A\n",
    "    \"\\U00002702-\\U000027B0\"  # Dingbats\n",
    "    \"\\U000024C2-\\U0001F251\" \n",
    "    \"]+\")\n",
    "df[\"text\"] = df[\"text\"].map(lambda name: re.sub(EMOJI_PATTERN, ' ', name))\n",
    "#do this after removing mentions -> don't # here. ->replace with space.\n",
    "df[\"text\"] = df[\"text\"].map(lambda name: name.lower())\n",
    "special_pattern = re.compile('[!\\.\\^\\$\\|\\?\\*\\+\\=\\(\\)\\{\\}\\@\\=\\/\\<\\>\\,\\~\\`\\-\\%\\&\\:\\;\\[\\]\"“”…]')\n",
    "df[\"text\"] = df[\"text\"].map(lambda name: re.sub(special_pattern, ' ', name))\n",
    "#remove a hashtag if it has no significance, ie, not part of a #word\n",
    "df[\"text\"] = df[\"text\"].map(lambda name: re.sub('(#[^(a-zA-Z0-9)])', ' ', name))\n",
    "#removing doublicate spaces and all white spaces like \\t, \\n or \\r\n",
    "df[\"text\"] = df[\"text\"].map(lambda name: \" \".join(name.split()))\n",
    "#Now remove stop words\n",
    "df[\"text\"] = df[\"text\"].map(lambda name: ' '.join([word for word in name.split() if word not in stopwords_dict]))\n",
    "#After removing stop words we can clean up more\n",
    "df[\"text\"] = df[\"text\"].map(lambda name: re.sub('[\\']', ' ', name))\n",
    "#final white space clean up\n",
    "df[\"text\"] = df[\"text\"].map(lambda name: \" \".join(name.split(' ')))\n",
    "#still need to check for strings that contain whitespaces only and remove them\n",
    "df[\"text\"] = df[\"text\"].map(lambda text: np.nan if len(text) == 0 else text)\n",
    "df.dropna(axis=0, inplace=True)\n",
    "\n",
    "#capitalize all words\n",
    "df['text'] = df[\"text\"].map(lambda text: string.capwords(text))\n",
    "\n",
    "# Encode Categorical Features\n",
    "label_encoder = preprocessing.LabelEncoder()\n",
    "df['country']= label_encoder.fit_transform(df['country'])"
   ]
  },
  {
   "cell_type": "code",
   "execution_count": 36,
   "metadata": {},
   "outputs": [
    {
     "name": "stdout",
     "output_type": "stream",
     "text": [
      "Samples per country in training set: [ 6834  1019  2082  1687  5594  1617  2045   852 11521 48869]\n"
     ]
    }
   ],
   "source": [
    "from sklearn.feature_extraction.text import TfidfVectorizer\n",
    "\n",
    "data = df['text']\n",
    "target = df.iloc[:,-1]\n",
    "\n",
    "#split data into 80:20 train and test sets\n",
    "X_train, X_test, y_train, y_test = train_test_split(data, target, test_size=0.2, random_state=7,stratify=target)\n",
    "print(\"Samples per country in training set: {}\".format(np.bincount(y_train)))\n",
    "vectorizer = TfidfVectorizer(min_df=5, norm=None).fit(X_train)\n",
    "\n",
    "X_train = vectorizer.transform(X_train)\n",
    "X_test = vectorizer.transform(X_test)"
   ]
  },
  {
   "cell_type": "code",
   "execution_count": 37,
   "metadata": {},
   "outputs": [
    {
     "name": "stdout",
     "output_type": "stream",
     "text": [
      "Accuracy: 0.647491475888943\n",
      "MAE: 1.5805163175840233\n",
      "MSE: 10.393862640038968\n",
      "RMSE: 3.2239514016248707\n",
      "r2 score: -0.19663793911504346\n"
     ]
    }
   ],
   "source": [
    "from sklearn.ensemble import ExtraTreesClassifier\n",
    "etc = ExtraTreesClassifier().fit(X_train, y_train) #takes around 50 min\n",
    "\n",
    "y_pred = etc.predict(X_test)\n",
    "\n",
    "print(\"Accuracy:\",accuracy_score(y_test, y_pred))\n",
    "print(\"MAE:\",mean_absolute_error(y_test, y_pred))\n",
    "print(\"MSE:\",mean_squared_error(y_test, y_pred))\n",
    "print(\"RMSE:\",mean_squared_error(y_test, y_pred,squared=False))\n",
    "print(\"r2 score:\",r2_score(y_test, y_pred))"
   ]
  }
 ],
 "metadata": {
  "kernelspec": {
   "display_name": "Python 3.11.0 64-bit",
   "language": "python",
   "name": "python3"
  },
  "language_info": {
   "codemirror_mode": {
    "name": "ipython",
    "version": 3
   },
   "file_extension": ".py",
   "mimetype": "text/x-python",
   "name": "python",
   "nbconvert_exporter": "python",
   "pygments_lexer": "ipython3",
   "version": "3.11.0"
  },
  "orig_nbformat": 4,
  "vscode": {
   "interpreter": {
    "hash": "6e358ab14436f20fa8adfe44b92a4021a1658e80e4db4753088016b8d9937371"
   }
  }
 },
 "nbformat": 4,
 "nbformat_minor": 2
}
